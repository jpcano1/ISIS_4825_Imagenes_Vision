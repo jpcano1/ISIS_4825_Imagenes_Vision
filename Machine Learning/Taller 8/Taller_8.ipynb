{
  "nbformat": 4,
  "nbformat_minor": 0,
  "metadata": {
    "kernelspec": {
      "display_name": "Python 3",
      "language": "python",
      "name": "python3"
    },
    "language_info": {
      "codemirror_mode": {
        "name": "ipython",
        "version": 3
      },
      "file_extension": ".py",
      "mimetype": "text/x-python",
      "name": "python",
      "nbconvert_exporter": "python",
      "pygments_lexer": "ipython3",
      "version": "3.8.5"
    },
    "colab": {
      "name": "Taller_8.ipynb",
      "provenance": [],
      "collapsed_sections": []
    },
    "widgets": {
      "application/vnd.jupyter.widget-state+json": {
        "3fc507406379429cae8fef754515a0db": {
          "model_module": "@jupyter-widgets/controls",
          "model_name": "HBoxModel",
          "state": {
            "_view_name": "HBoxView",
            "_dom_classes": [],
            "_model_name": "HBoxModel",
            "_view_module": "@jupyter-widgets/controls",
            "_model_module_version": "1.5.0",
            "_view_count": null,
            "_view_module_version": "1.5.0",
            "box_style": "",
            "layout": "IPY_MODEL_99115c99139a4527886ea1d2d74386e2",
            "_model_module": "@jupyter-widgets/controls",
            "children": [
              "IPY_MODEL_4a16c210d3974b10b5abae4a50fdf14b",
              "IPY_MODEL_77392d46560a46359c25b549f328eff3"
            ]
          }
        },
        "99115c99139a4527886ea1d2d74386e2": {
          "model_module": "@jupyter-widgets/base",
          "model_name": "LayoutModel",
          "state": {
            "_view_name": "LayoutView",
            "grid_template_rows": null,
            "right": null,
            "justify_content": null,
            "_view_module": "@jupyter-widgets/base",
            "overflow": null,
            "_model_module_version": "1.2.0",
            "_view_count": null,
            "flex_flow": null,
            "width": null,
            "min_width": null,
            "border": null,
            "align_items": null,
            "bottom": null,
            "_model_module": "@jupyter-widgets/base",
            "top": null,
            "grid_column": null,
            "overflow_y": null,
            "overflow_x": null,
            "grid_auto_flow": null,
            "grid_area": null,
            "grid_template_columns": null,
            "flex": null,
            "_model_name": "LayoutModel",
            "justify_items": null,
            "grid_row": null,
            "max_height": null,
            "align_content": null,
            "visibility": null,
            "align_self": null,
            "height": null,
            "min_height": null,
            "padding": null,
            "grid_auto_rows": null,
            "grid_gap": null,
            "max_width": null,
            "order": null,
            "_view_module_version": "1.2.0",
            "grid_template_areas": null,
            "object_position": null,
            "object_fit": null,
            "grid_auto_columns": null,
            "margin": null,
            "display": null,
            "left": null
          }
        },
        "4a16c210d3974b10b5abae4a50fdf14b": {
          "model_module": "@jupyter-widgets/controls",
          "model_name": "FloatProgressModel",
          "state": {
            "_view_name": "ProgressView",
            "style": "IPY_MODEL_cfb9a083ebd145b9b9fd9a5c9a133ba5",
            "_dom_classes": [],
            "description": "100%",
            "_model_name": "FloatProgressModel",
            "bar_style": "success",
            "max": 3,
            "_view_module": "@jupyter-widgets/controls",
            "_model_module_version": "1.5.0",
            "value": 3,
            "_view_count": null,
            "_view_module_version": "1.5.0",
            "orientation": "horizontal",
            "min": 0,
            "description_tooltip": null,
            "_model_module": "@jupyter-widgets/controls",
            "layout": "IPY_MODEL_4da3886305e9454987d7ba0548344ac8"
          }
        },
        "77392d46560a46359c25b549f328eff3": {
          "model_module": "@jupyter-widgets/controls",
          "model_name": "HTMLModel",
          "state": {
            "_view_name": "HTMLView",
            "style": "IPY_MODEL_5dc784562636420fa5f3e61bf006821f",
            "_dom_classes": [],
            "description": "",
            "_model_name": "HTMLModel",
            "placeholder": "​",
            "_view_module": "@jupyter-widgets/controls",
            "_model_module_version": "1.5.0",
            "value": " 3/3 [00:36&lt;00:00, 12.00s/it]",
            "_view_count": null,
            "_view_module_version": "1.5.0",
            "description_tooltip": null,
            "_model_module": "@jupyter-widgets/controls",
            "layout": "IPY_MODEL_09f5928413a0413b8fed578ab63c2600"
          }
        },
        "cfb9a083ebd145b9b9fd9a5c9a133ba5": {
          "model_module": "@jupyter-widgets/controls",
          "model_name": "ProgressStyleModel",
          "state": {
            "_view_name": "StyleView",
            "_model_name": "ProgressStyleModel",
            "description_width": "initial",
            "_view_module": "@jupyter-widgets/base",
            "_model_module_version": "1.5.0",
            "_view_count": null,
            "_view_module_version": "1.2.0",
            "bar_color": null,
            "_model_module": "@jupyter-widgets/controls"
          }
        },
        "4da3886305e9454987d7ba0548344ac8": {
          "model_module": "@jupyter-widgets/base",
          "model_name": "LayoutModel",
          "state": {
            "_view_name": "LayoutView",
            "grid_template_rows": null,
            "right": null,
            "justify_content": null,
            "_view_module": "@jupyter-widgets/base",
            "overflow": null,
            "_model_module_version": "1.2.0",
            "_view_count": null,
            "flex_flow": null,
            "width": null,
            "min_width": null,
            "border": null,
            "align_items": null,
            "bottom": null,
            "_model_module": "@jupyter-widgets/base",
            "top": null,
            "grid_column": null,
            "overflow_y": null,
            "overflow_x": null,
            "grid_auto_flow": null,
            "grid_area": null,
            "grid_template_columns": null,
            "flex": null,
            "_model_name": "LayoutModel",
            "justify_items": null,
            "grid_row": null,
            "max_height": null,
            "align_content": null,
            "visibility": null,
            "align_self": null,
            "height": null,
            "min_height": null,
            "padding": null,
            "grid_auto_rows": null,
            "grid_gap": null,
            "max_width": null,
            "order": null,
            "_view_module_version": "1.2.0",
            "grid_template_areas": null,
            "object_position": null,
            "object_fit": null,
            "grid_auto_columns": null,
            "margin": null,
            "display": null,
            "left": null
          }
        },
        "5dc784562636420fa5f3e61bf006821f": {
          "model_module": "@jupyter-widgets/controls",
          "model_name": "DescriptionStyleModel",
          "state": {
            "_view_name": "StyleView",
            "_model_name": "DescriptionStyleModel",
            "description_width": "",
            "_view_module": "@jupyter-widgets/base",
            "_model_module_version": "1.5.0",
            "_view_count": null,
            "_view_module_version": "1.2.0",
            "_model_module": "@jupyter-widgets/controls"
          }
        },
        "09f5928413a0413b8fed578ab63c2600": {
          "model_module": "@jupyter-widgets/base",
          "model_name": "LayoutModel",
          "state": {
            "_view_name": "LayoutView",
            "grid_template_rows": null,
            "right": null,
            "justify_content": null,
            "_view_module": "@jupyter-widgets/base",
            "overflow": null,
            "_model_module_version": "1.2.0",
            "_view_count": null,
            "flex_flow": null,
            "width": null,
            "min_width": null,
            "border": null,
            "align_items": null,
            "bottom": null,
            "_model_module": "@jupyter-widgets/base",
            "top": null,
            "grid_column": null,
            "overflow_y": null,
            "overflow_x": null,
            "grid_auto_flow": null,
            "grid_area": null,
            "grid_template_columns": null,
            "flex": null,
            "_model_name": "LayoutModel",
            "justify_items": null,
            "grid_row": null,
            "max_height": null,
            "align_content": null,
            "visibility": null,
            "align_self": null,
            "height": null,
            "min_height": null,
            "padding": null,
            "grid_auto_rows": null,
            "grid_gap": null,
            "max_width": null,
            "order": null,
            "_view_module_version": "1.2.0",
            "grid_template_areas": null,
            "object_position": null,
            "object_fit": null,
            "grid_auto_columns": null,
            "margin": null,
            "display": null,
            "left": null
          }
        }
      }
    }
  },
  "cells": [
    {
      "cell_type": "markdown",
      "metadata": {
        "id": "SenAd9tDRtL6"
      },
      "source": [
        "![image](https://drive.google.com/u/0/uc?id=15DUc09hFGqR8qcpYiN1OajRNaASmiL6d&export=download)\n",
        "\n",
        "# **Taller No. 8 - ISIS4825**\n",
        "## **Proceso de Aprendizaje Automático e Introducción a la Clasificación**\n",
        "## **Contenido**\n",
        "1. [**Objetivos**](#id1)\n",
        "2. [**Problema**](#id2)\n",
        "3. [**Importando las librerías necesarias para el laboratorio**](#id3)\n",
        "4. [**Visualización y Análisis Exploratorio**](#id4)\n",
        "5. [**Preparación de los Datos**](#id5)\n",
        "6. [**Modelamiento**](#id6)\n",
        "7. [**Predicción**](#id7)\n",
        "8. [**Validación**](#id8)\n",
        "9. [**Trabajo Asíncrono**](#id9)\n",
        "\n",
        "## **Objetivos**<a name=\"id1\"></a>\n",
        "- Familiarizarse con las librerías de Scikit-Learn y con el algoritmo de KNN\n",
        "- Resolver un problema de clasificación multiclase y tomar métricas de desempeño sobre este\n",
        "\n",
        "## **Problema**<a name=\"id2\"></a>\n",
        "- En una tienda de ropa buscan crear un algoritmo de clasificación que asigne una etiqueta a 10 tipos de prendas distintas. Desde ropa hasta accesorios."
      ]
    },
    {
      "cell_type": "markdown",
      "metadata": {
        "id": "a2-dS9koRtL7"
      },
      "source": [
        "## **Importando las librerías necesarias para el laboratorio**<a name=\"id3\"></a>"
      ]
    },
    {
      "cell_type": "code",
      "metadata": {
        "id": "6BnPKtL7b8Wz"
      },
      "source": [
        "from sklearn import datasets\n",
        "from sklearn.neighbors import KNeighborsClassifier\n",
        "from sklearn.model_selection import (train_test_split, ShuffleSplit, \n",
        "                                     cross_val_score, GridSearchCV)\n",
        "from sklearn.metrics import (precision_score, recall_score, confusion_matrix, \n",
        "                             accuracy_score, f1_score, roc_curve, \n",
        "                             precision_recall_curve)\n",
        "\n",
        "import utils.general as gen\n",
        "\n",
        "from tqdm.auto import tqdm\n",
        "\n",
        "import numpy as np\n",
        "import pandas as pd\n",
        "\n",
        "import matplotlib.pyplot as plt\n",
        "plt.style.use(\"ggplot\")\n",
        "import seaborn as sns"
      ],
      "execution_count": 56,
      "outputs": []
    },
    {
      "cell_type": "markdown",
      "metadata": {
        "id": "J-1Nr9qfaynJ"
      },
      "source": [
        "## **Visualización y Análisis Exploratorio**<a name=\"id4\"></a>\n",
        "- Vamos a hacer uso del Dataset `Fashion-MNIST` que consta de 10 clases:\n",
        "    0. T-Shirt/Top\n",
        "    1. Trouser\n",
        "    2. Pullover\n",
        "    3. Dress\n",
        "    4. Coat\n",
        "    5. Sandal\n",
        "    6. Shirt \n",
        "    7. Sneaker\n",
        "    8. Bag\n",
        "    9. Ankle Boot\n",
        "- De igual forma, el dataset tiene 70.000 imágenes en escala de rises con resolución 28x28. Sin embargo, las imágenes ya se encuentran aplanadas con tamaño ed vector 784."
      ]
    },
    {
      "cell_type": "code",
      "metadata": {
        "id": "IGhhg8x0cNFq"
      },
      "source": [
        "fashion_mnist = datasets.fetch_openml(\"Fashion-MNIST\")"
      ],
      "execution_count": 4,
      "outputs": []
    },
    {
      "cell_type": "code",
      "metadata": {
        "id": "QlzWWnskcrq_"
      },
      "source": [
        "data, target = fashion_mnist.data, fashion_mnist.target"
      ],
      "execution_count": 5,
      "outputs": []
    },
    {
      "cell_type": "code",
      "metadata": {
        "id": "auxFWqN-dGus",
        "outputId": "ab071718-89d9-4ae9-9063-30e78dccc443",
        "colab": {
          "base_uri": "https://localhost:8080/",
          "height": 34
        }
      },
      "source": [
        "data.shape, target.shape"
      ],
      "execution_count": 6,
      "outputs": [
        {
          "output_type": "execute_result",
          "data": {
            "text/plain": [
              "((70000, 784), (70000,))"
            ]
          },
          "metadata": {
            "tags": []
          },
          "execution_count": 6
        }
      ]
    },
    {
      "cell_type": "code",
      "metadata": {
        "id": "1agKeVhm5CM0",
        "outputId": "0db5e309-2189-4a94-dde6-8cc1dd44f5f0",
        "colab": {
          "base_uri": "https://localhost:8080/",
          "height": 374
        }
      },
      "source": [
        "random_sample = np.random.choice(np.arange(len(data)), 9)\n",
        "gen.visualize_subplot(\n",
        "    data[random_sample].reshape(-1, 28, 28),\n",
        "    target[random_sample],  (3, 3), (6, 6)\n",
        ")"
      ],
      "execution_count": 7,
      "outputs": [
        {
          "output_type": "display_data",
          "data": {
            "image/png": "[encoded data removed]",
            "text/plain": [
              "<Figure size 432x432 with 9 Axes>"
            ]
          },
          "metadata": {
            "tags": []
          }
        }
      ]
    },
    {
      "cell_type": "code",
      "metadata": {
        "id": "p1T854QK5w77",
        "outputId": "71c4fe06-606b-4f17-9964-cf8cfd761606",
        "colab": {
          "base_uri": "https://localhost:8080/",
          "height": 374
        }
      },
      "source": [
        "random_sample = np.random.choice(np.arange(len(data)), 9)\n",
        "gen.visualize_subplot(\n",
        "    data[random_sample].reshape(-1, 28, 28),\n",
        "    target[random_sample],  (3, 3), (6, 6)\n",
        ")"
      ],
      "execution_count": 8,
      "outputs": [
        {
          "output_type": "display_data",
          "data": {
            "image/png": "[encoded data removed]",
            "text/plain": [
              "<Figure size 432x432 with 9 Axes>"
            ]
          },
          "metadata": {
            "tags": []
          }
        }
      ]
    },
    {
      "cell_type": "code",
      "metadata": {
        "id": "yh4PT97c7wtr"
      },
      "source": [
        "target_classes = [\"T-Shirt/Top\", \"Trouser\", \"Pullover\", \"Dress\", \n",
        "                  \"Coat\", \"Sandal\", \"Shirt\", \"Sneaker\", \"Bag\", \"Ankle Boot\"]"
      ],
      "execution_count": 9,
      "outputs": []
    },
    {
      "cell_type": "code",
      "metadata": {
        "id": "T8tlKKIE7HrE"
      },
      "source": [
        "target_distribution = pd.Series(target).value_counts().sort_index()\n",
        "target_distribution.index = target_classes"
      ],
      "execution_count": 10,
      "outputs": []
    },
    {
      "cell_type": "code",
      "metadata": {
        "id": "34fORFSH8OMd",
        "outputId": "d6620dfe-9239-460f-d9ef-984acce2aa0e",
        "colab": {
          "base_uri": "https://localhost:8080/",
          "height": 204
        }
      },
      "source": [
        "target_distribution"
      ],
      "execution_count": 11,
      "outputs": [
        {
          "output_type": "execute_result",
          "data": {
            "text/plain": [
              "T-Shirt/Top    7000\n",
              "Trouser        7000\n",
              "Pullover       7000\n",
              "Dress          7000\n",
              "Coat           7000\n",
              "Sandal         7000\n",
              "Shirt          7000\n",
              "Sneaker        7000\n",
              "Bag            7000\n",
              "Ankle Boot     7000\n",
              "dtype: int64"
            ]
          },
          "metadata": {
            "tags": []
          },
          "execution_count": 11
        }
      ]
    },
    {
      "cell_type": "markdown",
      "metadata": {
        "id": "LIdc1cZ3a09O"
      },
      "source": [
        "## **Preparación de los Datos**<a name=\"id5\"></a>\n",
        "- Dado que estamos trabajando con modelos de Machine Learning superficial, vamos a necesitar que todas nuestras imágenes sean convertidas a vectores, si es que aún no lo son.\n",
        "\n",
        "### **Tratamiento de Imágenes**\n",
        "- En este caso, nuestras imágenes son vectores, sin embargo vamos a ver cómo hacer su transformación vector-imagen e imagen-vector"
      ]
    },
    {
      "cell_type": "code",
      "metadata": {
        "id": "1E_f9YVR9MnQ"
      },
      "source": [
        "sample_img = data[0].reshape(28, 28)\n",
        "sample_target = target[0]"
      ],
      "execution_count": 12,
      "outputs": []
    },
    {
      "cell_type": "code",
      "metadata": {
        "id": "vU-RdiCs9QO4",
        "outputId": "434b718d-cfdf-4e50-d879-8548dffccbc5",
        "colab": {
          "base_uri": "https://localhost:8080/",
          "height": 248
        }
      },
      "source": [
        "gen.imshow(sample_img, color=False)"
      ],
      "execution_count": 13,
      "outputs": [
        {
          "output_type": "display_data",
          "data": {
            "image/png": "[encoded data removed]",
            "text/plain": [
              "<Figure size 432x288 with 1 Axes>"
            ]
          },
          "metadata": {
            "tags": []
          }
        }
      ]
    },
    {
      "cell_type": "code",
      "metadata": {
        "id": "sFH2Gopm-JYl",
        "outputId": "8e2a8387-c9d5-4b0a-c3f4-11d368a940b5",
        "colab": {
          "base_uri": "https://localhost:8080/",
          "height": 34
        }
      },
      "source": [
        "sample_img.shape"
      ],
      "execution_count": 14,
      "outputs": [
        {
          "output_type": "execute_result",
          "data": {
            "text/plain": [
              "(28, 28)"
            ]
          },
          "metadata": {
            "tags": []
          },
          "execution_count": 14
        }
      ]
    },
    {
      "cell_type": "code",
      "metadata": {
        "id": "IOguFqLu_eZP"
      },
      "source": [
        "sample_img = sample_img.flatten()"
      ],
      "execution_count": 15,
      "outputs": []
    },
    {
      "cell_type": "code",
      "metadata": {
        "id": "Qq2aCs-v_rPL",
        "outputId": "9ddeaf77-d4fb-42e1-85a8-e33025fbf9d1",
        "colab": {
          "base_uri": "https://localhost:8080/",
          "height": 34
        }
      },
      "source": [
        "sample_img.shape"
      ],
      "execution_count": 16,
      "outputs": [
        {
          "output_type": "execute_result",
          "data": {
            "text/plain": [
              "(784,)"
            ]
          },
          "metadata": {
            "tags": []
          },
          "execution_count": 16
        }
      ]
    },
    {
      "cell_type": "markdown",
      "metadata": {
        "id": "gBNcJ5d7_3oR"
      },
      "source": [
        "### **Train Set, Validation Set, Test Set**\n",
        "- Generalmente, en el mundo del computer vision, se hace la siguiente partición de datasets:\n",
        "    - Train Data:\n",
        "        - Train Set\n",
        "        - Validation Set\n",
        "    - Test Data:\n",
        "        - Test Set\n",
        "- La partición de los datasets la podemos hacer de varias formas, pero en esta ocasión veremos la partición por índices y por contenido.\n",
        "\n",
        "#### **Partición por Índice**\n",
        "- Buscamos dividir nuestro dataset a partir de sus índices."
      ]
    },
    {
      "cell_type": "code",
      "metadata": {
        "id": "Pjd3IfxWFQr8"
      },
      "source": [
        "rnd_data = np.random.choice(np.arange(len(data)), 10000)\n",
        "full_data = data.copy()\n",
        "full_target = target.copy()\n",
        "data = data[rnd_data]\n",
        "target = target[rnd_data]"
      ],
      "execution_count": 17,
      "outputs": []
    },
    {
      "cell_type": "markdown",
      "metadata": {
        "id": "1gomDeVj2jnK"
      },
      "source": [
        "- Aquí usamos el `random_state` para definir una semilla de aleatoriedad para que los grupos generados se mantengan siempre."
      ]
    },
    {
      "cell_type": "code",
      "metadata": {
        "id": "3iE3hK2wAUdl"
      },
      "source": [
        "ss_full_train_test = ShuffleSplit(n_splits=10, test_size=0.2, random_state=1234)"
      ],
      "execution_count": 18,
      "outputs": []
    },
    {
      "cell_type": "code",
      "metadata": {
        "id": "R7gowYCxDHTv"
      },
      "source": [
        "for full_train_index, test_index in ss_full_train_test.split(data):\n",
        "    pass"
      ],
      "execution_count": 19,
      "outputs": []
    },
    {
      "cell_type": "code",
      "metadata": {
        "id": "GGEKr8myDMdD",
        "outputId": "9d093860-90e0-4e12-9f95-cb8f89c01789",
        "colab": {
          "base_uri": "https://localhost:8080/",
          "height": 34
        }
      },
      "source": [
        "full_train_index"
      ],
      "execution_count": 20,
      "outputs": [
        {
          "output_type": "execute_result",
          "data": {
            "text/plain": [
              "array([ 155, 3130, 5727, ..., 7948, 1064, 1750])"
            ]
          },
          "metadata": {
            "tags": []
          },
          "execution_count": 20
        }
      ]
    },
    {
      "cell_type": "code",
      "metadata": {
        "id": "9S0cHvacDNw5",
        "outputId": "71eb54f8-58b7-4f9f-98d0-b4f77a409c47",
        "colab": {
          "base_uri": "https://localhost:8080/",
          "height": 34
        }
      },
      "source": [
        "test_index"
      ],
      "execution_count": 21,
      "outputs": [
        {
          "output_type": "execute_result",
          "data": {
            "text/plain": [
              "array([6899,  214, 5124, ..., 9211, 9399, 9295])"
            ]
          },
          "metadata": {
            "tags": []
          },
          "execution_count": 21
        }
      ]
    },
    {
      "cell_type": "code",
      "metadata": {
        "id": "gLu1jc0jEGM0"
      },
      "source": [
        "full_train_set, test_set = ((data[full_train_index], target[full_train_index]), \n",
        "                            (data[test_index], target[test_index]))"
      ],
      "execution_count": 22,
      "outputs": []
    },
    {
      "cell_type": "code",
      "metadata": {
        "id": "oX4yKr2jD6u2"
      },
      "source": [
        "ss_train_val = ShuffleSplit(n_splits=10, test_size=0.2, random_state=5678)"
      ],
      "execution_count": 23,
      "outputs": []
    },
    {
      "cell_type": "code",
      "metadata": {
        "id": "2QYUrn5GEBCY"
      },
      "source": [
        "for train_index, val_index in ss_train_val.split(full_train_set[0]):\n",
        "    pass"
      ],
      "execution_count": 24,
      "outputs": []
    },
    {
      "cell_type": "code",
      "metadata": {
        "id": "6BmNCiLFFQHD"
      },
      "source": [
        "train_set, val_set = ((full_train_set[0][train_index], full_train_set[1][train_index]), \n",
        "                      (full_train_set[0][val_index], full_train_set[1][val_index]))"
      ],
      "execution_count": 25,
      "outputs": []
    },
    {
      "cell_type": "code",
      "metadata": {
        "id": "rvyDHWq3Fghq"
      },
      "source": [
        "X_train, y_train = train_set[0], train_set[1]\n",
        "X_val, y_val = val_set[0], val_set[1]\n",
        "X_test, y_test = test_set[0], test_set[1]"
      ],
      "execution_count": 26,
      "outputs": []
    },
    {
      "cell_type": "code",
      "metadata": {
        "id": "YDrwl4TDFtZy",
        "outputId": "b8b740e7-e614-4b52-b192-2b6818896c8f",
        "colab": {
          "base_uri": "https://localhost:8080/",
          "height": 34
        }
      },
      "source": [
        "X_train.shape, y_train.shape"
      ],
      "execution_count": 27,
      "outputs": [
        {
          "output_type": "execute_result",
          "data": {
            "text/plain": [
              "((6400, 784), (6400,))"
            ]
          },
          "metadata": {
            "tags": []
          },
          "execution_count": 27
        }
      ]
    },
    {
      "cell_type": "code",
      "metadata": {
        "id": "JjG6ShXNFxVH",
        "outputId": "d3c08fd9-fc21-458f-b618-937d043f7983",
        "colab": {
          "base_uri": "https://localhost:8080/",
          "height": 34
        }
      },
      "source": [
        "X_val.shape, y_val.shape"
      ],
      "execution_count": 28,
      "outputs": [
        {
          "output_type": "execute_result",
          "data": {
            "text/plain": [
              "((1600, 784), (1600,))"
            ]
          },
          "metadata": {
            "tags": []
          },
          "execution_count": 28
        }
      ]
    },
    {
      "cell_type": "code",
      "metadata": {
        "id": "M0btHvcfF0Pd",
        "outputId": "a91eb8da-d7c3-41e4-8998-c5437ebd58d1",
        "colab": {
          "base_uri": "https://localhost:8080/",
          "height": 34
        }
      },
      "source": [
        "X_test.shape, y_test.shape"
      ],
      "execution_count": 29,
      "outputs": [
        {
          "output_type": "execute_result",
          "data": {
            "text/plain": [
              "((2000, 784), (2000,))"
            ]
          },
          "metadata": {
            "tags": []
          },
          "execution_count": 29
        }
      ]
    },
    {
      "cell_type": "markdown",
      "metadata": {
        "id": "4j5YUi0i2_PM"
      },
      "source": [
        "- Generemos una muestra de imágenes por cada set generado."
      ]
    },
    {
      "cell_type": "code",
      "metadata": {
        "id": "AUt-yQ9NGW0H",
        "outputId": "8a7734df-ea2d-4d55-8fdc-74303b679abe",
        "colab": {
          "base_uri": "https://localhost:8080/",
          "height": 374
        }
      },
      "source": [
        "random_sample = np.random.choice(np.arange(len(X_train)), 9)\n",
        "gen.visualize_subplot(\n",
        "    X_train[random_sample].reshape(-1, 28, 28),\n",
        "    y_train[random_sample],  (3, 3), (6, 6)\n",
        ")"
      ],
      "execution_count": 30,
      "outputs": [
        {
          "output_type": "display_data",
          "data": {
            "image/png": "[encoded data removed]",
            "text/plain": [
              "<Figure size 432x432 with 9 Axes>"
            ]
          },
          "metadata": {
            "tags": []
          }
        }
      ]
    },
    {
      "cell_type": "code",
      "metadata": {
        "id": "XY1NnYsWGyIx",
        "outputId": "9c394d97-e4ff-4a98-f129-342c0dc31d64",
        "colab": {
          "base_uri": "https://localhost:8080/",
          "height": 374
        }
      },
      "source": [
        "random_sample = np.random.choice(np.arange(len(X_val)), 9)\n",
        "gen.visualize_subplot(\n",
        "    X_val[random_sample].reshape(-1, 28, 28),\n",
        "    y_val[random_sample],  (3, 3), (6, 6)\n",
        ")"
      ],
      "execution_count": 31,
      "outputs": [
        {
          "output_type": "display_data",
          "data": {
            "image/png": "[encoded data removed]",
            "text/plain": [
              "<Figure size 432x432 with 9 Axes>"
            ]
          },
          "metadata": {
            "tags": []
          }
        }
      ]
    },
    {
      "cell_type": "code",
      "metadata": {
        "id": "xngq2dD0G8ig",
        "outputId": "5f4491d7-e63e-4649-eedb-2ffdf3115fb0",
        "colab": {
          "base_uri": "https://localhost:8080/",
          "height": 374
        }
      },
      "source": [
        "random_sample = np.random.choice(np.arange(len(X_test)), 9)\n",
        "gen.visualize_subplot(\n",
        "    X_test[random_sample].reshape(-1, 28, 28),\n",
        "    y_test[random_sample],  (3, 3), (6, 6)\n",
        ")"
      ],
      "execution_count": 32,
      "outputs": [
        {
          "output_type": "display_data",
          "data": {
            "image/png": "[encoded data removed]",
            "text/plain": [
              "<Figure size 432x432 with 9 Axes>"
            ]
          },
          "metadata": {
            "tags": []
          }
        }
      ]
    },
    {
      "cell_type": "markdown",
      "metadata": {
        "id": "_bMIfi0bJXoW"
      },
      "source": [
        "#### **Partición por Contenido**\n",
        "- Aquí no buscamos partir nuestro dataset a partir de los índices que contiene, sino por el cuerpo de la data."
      ]
    },
    {
      "cell_type": "code",
      "metadata": {
        "id": "WgXR6nlkJUtR"
      },
      "source": [
        "full_X_train, X_test, full_y_train, y_test = train_test_split(data, target, \n",
        "                                                              test_size=0.2, \n",
        "                                                              random_state=1234)"
      ],
      "execution_count": 33,
      "outputs": []
    },
    {
      "cell_type": "code",
      "metadata": {
        "id": "DYB248E0KVG1"
      },
      "source": [
        "X_train, X_val, y_train, y_val = train_test_split(full_X_train, full_y_train, \n",
        "                                                  test_size=0.2, \n",
        "                                                  random_state=1234)"
      ],
      "execution_count": 34,
      "outputs": []
    },
    {
      "cell_type": "code",
      "metadata": {
        "id": "KIaJJt81KqLn",
        "outputId": "d446e3f8-35e0-4ceb-fc4b-403fdb2e9d89",
        "colab": {
          "base_uri": "https://localhost:8080/",
          "height": 374
        }
      },
      "source": [
        "random_sample = np.random.choice(np.arange(len(X_train)), 9)\n",
        "gen.visualize_subplot(\n",
        "    X_train[random_sample].reshape(-1, 28, 28),\n",
        "    y_train[random_sample],  (3, 3), (6, 6)\n",
        ")"
      ],
      "execution_count": 35,
      "outputs": [
        {
          "output_type": "display_data",
          "data": {
            "image/png": "[encoded data removed]",
            "text/plain": [
              "<Figure size 432x432 with 9 Axes>"
            ]
          },
          "metadata": {
            "tags": []
          }
        }
      ]
    },
    {
      "cell_type": "code",
      "metadata": {
        "id": "CFCKzZTvK32t",
        "outputId": "e93481d0-6618-4ac4-c8e1-a776642ec6e9",
        "colab": {
          "base_uri": "https://localhost:8080/",
          "height": 374
        }
      },
      "source": [
        "random_sample = np.random.choice(np.arange(len(X_val)), 9)\n",
        "gen.visualize_subplot(\n",
        "    X_val[random_sample].reshape(-1, 28, 28),\n",
        "    y_val[random_sample],  (3, 3), (6, 6)\n",
        ")"
      ],
      "execution_count": 36,
      "outputs": [
        {
          "output_type": "display_data",
          "data": {
            "image/png": "[encoded data removed]",
            "text/plain": [
              "<Figure size 432x432 with 9 Axes>"
            ]
          },
          "metadata": {
            "tags": []
          }
        }
      ]
    },
    {
      "cell_type": "code",
      "metadata": {
        "id": "OPTbKOtmK8OX",
        "outputId": "1e980b50-77f6-4636-c138-1bb90f9097a3",
        "colab": {
          "base_uri": "https://localhost:8080/",
          "height": 374
        }
      },
      "source": [
        "random_sample = np.random.choice(np.arange(len(X_test)), 9)\n",
        "gen.visualize_subplot(\n",
        "    X_test[random_sample].reshape(-1, 28, 28),\n",
        "    y_test[random_sample],  (3, 3), (6, 6)\n",
        ")"
      ],
      "execution_count": 37,
      "outputs": [
        {
          "output_type": "display_data",
          "data": {
            "image/png": "[encoded data removed]",
            "text/plain": [
              "<Figure size 432x432 with 9 Axes>"
            ]
          },
          "metadata": {
            "tags": []
          }
        }
      ]
    },
    {
      "cell_type": "markdown",
      "metadata": {
        "id": "W4UjOaAYbFPY"
      },
      "source": [
        "## **Modelamiento**<a name=\"id6\"></a>\n",
        "- A la hora de modelar los datos, buscamos un algoritmo que generalice la forma como los datos se comportan y con base a ello, pueda generar predicciones.\n",
        "\n",
        "### **K-Nearest-Neighbors**\n",
        "- En este caso, vamos a utilizar un algoritmo de modelado no lineal basado en vecindades o *neighborhoods*. Se trata de *K-Nearest Neighbors*.\n",
        "\n",
        "![image](https://miro.medium.com/max/3544/1*4F-q86XFr2-EsaAcz0Zu5A.png)\n",
        "\n",
        "> Tomado de [Towards Data Science](https://towardsdatascience.com/k-nearest-neighbor-python-2fccc47d2a55)\n",
        "\n",
        "- Este espacio lo tomamos, generalmente, para buscar algoritmos que puedan ser usados para modelar, y una vez encontrados, exploramos los hiperparámetros que podamos usar para mejorar los resultados de nuestros algoritmos."
      ]
    },
    {
      "cell_type": "code",
      "metadata": {
        "id": "LwURGKS25uDr"
      },
      "source": [
        "KNeighborsClassifier?"
      ],
      "execution_count": 38,
      "outputs": []
    },
    {
      "cell_type": "code",
      "metadata": {
        "id": "oqNktuMbNAcJ"
      },
      "source": [
        "knn_clf = KNeighborsClassifier(n_jobs=-1)"
      ],
      "execution_count": 39,
      "outputs": []
    },
    {
      "cell_type": "code",
      "metadata": {
        "id": "O9z6B97fNOvZ",
        "outputId": "9e8c0440-53dc-4803-fe6f-68497dc329ae",
        "colab": {
          "base_uri": "https://localhost:8080/",
          "height": 68
        }
      },
      "source": [
        "knn_clf.fit(X_train, y_train)"
      ],
      "execution_count": 40,
      "outputs": [
        {
          "output_type": "execute_result",
          "data": {
            "text/plain": [
              "KNeighborsClassifier(algorithm='auto', leaf_size=30, metric='minkowski',\n",
              "                     metric_params=None, n_jobs=-1, n_neighbors=5, p=2,\n",
              "                     weights='uniform')"
            ]
          },
          "metadata": {
            "tags": []
          },
          "execution_count": 40
        }
      ]
    },
    {
      "cell_type": "markdown",
      "metadata": {
        "id": "02kqqiUEbI8n"
      },
      "source": [
        "## **Predicción**<a name=\"id7\"></a>\n",
        "- En esta etapa nos concentramos en hacer nuestras predicciones y validarlas con el ojo."
      ]
    },
    {
      "cell_type": "code",
      "metadata": {
        "id": "JhUFqcSMO6en"
      },
      "source": [
        "random_sample = np.random.choice(np.arange(len(X_test)), 9)\n",
        "y_pred = knn_clf.predict(X_test[random_sample])"
      ],
      "execution_count": 41,
      "outputs": []
    },
    {
      "cell_type": "code",
      "metadata": {
        "id": "rn8sNJ1d89Ah",
        "outputId": "8fab1b7c-dab5-467e-c873-c057941bcd8b",
        "colab": {
          "base_uri": "https://localhost:8080/",
          "height": 374
        }
      },
      "source": [
        "gen.visualize_subplot(\n",
        "    X_test[random_sample].reshape(-1, 28, 28),\n",
        "    y_pred, (3, 3), (6, 6)\n",
        ")"
      ],
      "execution_count": 42,
      "outputs": [
        {
          "output_type": "display_data",
          "data": {
            "image/png": "[encoded data removed]",
            "text/plain": [
              "<Figure size 432x432 with 9 Axes>"
            ]
          },
          "metadata": {
            "tags": []
          }
        }
      ]
    },
    {
      "cell_type": "markdown",
      "metadata": {
        "id": "ar7LQHP0bLWp"
      },
      "source": [
        "## **Validación**<a name=\"id8\"></a>\n",
        "- En esta etapa de evaluación realizamos el proceso de toma de métricas. Por lo tanto, dado que estamos resolviendo un problema de clasificación, vamos a usar la matriz de confusión y las siguientes métricas globales:\n",
        "\n",
        "- Precision: $\\frac{TP}{TP + FP}$\n",
        "\n",
        "- Cobertura: $\\frac{TP}{TP + FN}$ (Recall, Sensitivity)\n",
        "\n",
        "- Accuracy score: $\\frac{TP + TN}{TP + TN + FP + FN}$\n",
        "\n",
        "- F1 score: $\\frac{TP}{TP + \\frac{FN + FP}{2}}$ (Harmonic Mean)"
      ]
    },
    {
      "cell_type": "code",
      "metadata": {
        "id": "cN5lWCNT9sFl"
      },
      "source": [
        "y_pred = knn_clf.predict(X_test)"
      ],
      "execution_count": 43,
      "outputs": []
    },
    {
      "cell_type": "code",
      "metadata": {
        "id": "KWp7yoN6RtL8"
      },
      "source": [
        "conf_matrix = confusion_matrix(y_test, y_pred)"
      ],
      "execution_count": 44,
      "outputs": []
    },
    {
      "cell_type": "code",
      "metadata": {
        "id": "wTV3vA-D9YqD",
        "outputId": "b74f11e7-40b8-4408-ce53-40b5ead3bac3",
        "colab": {
          "base_uri": "https://localhost:8080/",
          "height": 359
        }
      },
      "source": [
        "pd.DataFrame(conf_matrix)"
      ],
      "execution_count": 45,
      "outputs": [
        {
          "output_type": "execute_result",
          "data": {
            "text/html": [
              "<div>\n",
              "<style scoped>\n",
              "    .dataframe tbody tr th:only-of-type {\n",
              "        vertical-align: middle;\n",
              "    }\n",
              "\n",
              "    .dataframe tbody tr th {\n",
              "        vertical-align: top;\n",
              "    }\n",
              "\n",
              "    .dataframe thead th {\n",
              "        text-align: right;\n",
              "    }\n",
              "</style>\n",
              "<table border=\"1\" class=\"dataframe\">\n",
              "  <thead>\n",
              "    <tr style=\"text-align: right;\">\n",
              "      <th></th>\n",
              "      <th>0</th>\n",
              "      <th>1</th>\n",
              "      <th>2</th>\n",
              "      <th>3</th>\n",
              "      <th>4</th>\n",
              "      <th>5</th>\n",
              "      <th>6</th>\n",
              "      <th>7</th>\n",
              "      <th>8</th>\n",
              "      <th>9</th>\n",
              "    </tr>\n",
              "  </thead>\n",
              "  <tbody>\n",
              "    <tr>\n",
              "      <th>0</th>\n",
              "      <td>184</td>\n",
              "      <td>0</td>\n",
              "      <td>3</td>\n",
              "      <td>4</td>\n",
              "      <td>0</td>\n",
              "      <td>0</td>\n",
              "      <td>13</td>\n",
              "      <td>0</td>\n",
              "      <td>1</td>\n",
              "      <td>0</td>\n",
              "    </tr>\n",
              "    <tr>\n",
              "      <th>1</th>\n",
              "      <td>1</td>\n",
              "      <td>163</td>\n",
              "      <td>1</td>\n",
              "      <td>5</td>\n",
              "      <td>1</td>\n",
              "      <td>0</td>\n",
              "      <td>2</td>\n",
              "      <td>0</td>\n",
              "      <td>0</td>\n",
              "      <td>0</td>\n",
              "    </tr>\n",
              "    <tr>\n",
              "      <th>2</th>\n",
              "      <td>4</td>\n",
              "      <td>0</td>\n",
              "      <td>155</td>\n",
              "      <td>3</td>\n",
              "      <td>20</td>\n",
              "      <td>0</td>\n",
              "      <td>16</td>\n",
              "      <td>0</td>\n",
              "      <td>0</td>\n",
              "      <td>0</td>\n",
              "    </tr>\n",
              "    <tr>\n",
              "      <th>3</th>\n",
              "      <td>14</td>\n",
              "      <td>0</td>\n",
              "      <td>3</td>\n",
              "      <td>177</td>\n",
              "      <td>16</td>\n",
              "      <td>0</td>\n",
              "      <td>3</td>\n",
              "      <td>0</td>\n",
              "      <td>0</td>\n",
              "      <td>0</td>\n",
              "    </tr>\n",
              "    <tr>\n",
              "      <th>4</th>\n",
              "      <td>0</td>\n",
              "      <td>0</td>\n",
              "      <td>41</td>\n",
              "      <td>4</td>\n",
              "      <td>146</td>\n",
              "      <td>0</td>\n",
              "      <td>21</td>\n",
              "      <td>0</td>\n",
              "      <td>0</td>\n",
              "      <td>0</td>\n",
              "    </tr>\n",
              "    <tr>\n",
              "      <th>5</th>\n",
              "      <td>0</td>\n",
              "      <td>0</td>\n",
              "      <td>0</td>\n",
              "      <td>0</td>\n",
              "      <td>0</td>\n",
              "      <td>150</td>\n",
              "      <td>1</td>\n",
              "      <td>26</td>\n",
              "      <td>0</td>\n",
              "      <td>25</td>\n",
              "    </tr>\n",
              "    <tr>\n",
              "      <th>6</th>\n",
              "      <td>43</td>\n",
              "      <td>0</td>\n",
              "      <td>28</td>\n",
              "      <td>1</td>\n",
              "      <td>14</td>\n",
              "      <td>0</td>\n",
              "      <td>98</td>\n",
              "      <td>0</td>\n",
              "      <td>2</td>\n",
              "      <td>0</td>\n",
              "    </tr>\n",
              "    <tr>\n",
              "      <th>7</th>\n",
              "      <td>0</td>\n",
              "      <td>0</td>\n",
              "      <td>0</td>\n",
              "      <td>0</td>\n",
              "      <td>0</td>\n",
              "      <td>0</td>\n",
              "      <td>0</td>\n",
              "      <td>169</td>\n",
              "      <td>0</td>\n",
              "      <td>13</td>\n",
              "    </tr>\n",
              "    <tr>\n",
              "      <th>8</th>\n",
              "      <td>0</td>\n",
              "      <td>0</td>\n",
              "      <td>6</td>\n",
              "      <td>5</td>\n",
              "      <td>3</td>\n",
              "      <td>0</td>\n",
              "      <td>3</td>\n",
              "      <td>1</td>\n",
              "      <td>197</td>\n",
              "      <td>1</td>\n",
              "    </tr>\n",
              "    <tr>\n",
              "      <th>9</th>\n",
              "      <td>0</td>\n",
              "      <td>0</td>\n",
              "      <td>1</td>\n",
              "      <td>1</td>\n",
              "      <td>0</td>\n",
              "      <td>0</td>\n",
              "      <td>0</td>\n",
              "      <td>9</td>\n",
              "      <td>0</td>\n",
              "      <td>202</td>\n",
              "    </tr>\n",
              "  </tbody>\n",
              "</table>\n",
              "</div>"
            ],
            "text/plain": [
              "     0    1    2    3    4    5   6    7    8    9\n",
              "0  184    0    3    4    0    0  13    0    1    0\n",
              "1    1  163    1    5    1    0   2    0    0    0\n",
              "2    4    0  155    3   20    0  16    0    0    0\n",
              "3   14    0    3  177   16    0   3    0    0    0\n",
              "4    0    0   41    4  146    0  21    0    0    0\n",
              "5    0    0    0    0    0  150   1   26    0   25\n",
              "6   43    0   28    1   14    0  98    0    2    0\n",
              "7    0    0    0    0    0    0   0  169    0   13\n",
              "8    0    0    6    5    3    0   3    1  197    1\n",
              "9    0    0    1    1    0    0   0    9    0  202"
            ]
          },
          "metadata": {
            "tags": []
          },
          "execution_count": 45
        }
      ]
    },
    {
      "cell_type": "markdown",
      "metadata": {
        "id": "XVavLlyZVT3_"
      },
      "source": [
        "- En esta matriz de confusión podemos ver claramente que las diagonales sobresalen, es decir, hubo un gran número de predicciones correctas."
      ]
    },
    {
      "cell_type": "code",
      "metadata": {
        "id": "4rU9QmOIkdb7",
        "outputId": "55462ea0-25a8-48c6-ea67-b083c3a41fe0",
        "colab": {
          "base_uri": "https://localhost:8080/",
          "height": 275
        }
      },
      "source": [
        "plt.matshow(conf_matrix, cmap=\"gray\")\n",
        "plt.grid(0)\n",
        "plt.show()"
      ],
      "execution_count": 46,
      "outputs": [
        {
          "output_type": "display_data",
          "data": {
            "image/png": "[encoded data removed]",
            "text/plain": [
              "<Figure size 288x288 with 1 Axes>"
            ]
          },
          "metadata": {
            "tags": []
          }
        }
      ]
    },
    {
      "cell_type": "code",
      "metadata": {
        "id": "femTRpn3mXaH",
        "outputId": "c43aff75-8105-4109-8adc-d13cd8a53527",
        "colab": {
          "base_uri": "https://localhost:8080/",
          "height": 34
        }
      },
      "source": [
        "np.trace(conf_matrix)"
      ],
      "execution_count": 47,
      "outputs": [
        {
          "output_type": "execute_result",
          "data": {
            "text/plain": [
              "1641"
            ]
          },
          "metadata": {
            "tags": []
          },
          "execution_count": 47
        }
      ]
    },
    {
      "cell_type": "code",
      "metadata": {
        "id": "h_SVf13XmfvZ"
      },
      "source": [
        "norm_conf_mat = conf_matrix / conf_matrix.sum(axis=1, keepdims=True)\n",
        "np.fill_diagonal(norm_conf_mat, 0)"
      ],
      "execution_count": 48,
      "outputs": []
    },
    {
      "cell_type": "markdown",
      "metadata": {
        "id": "izfR95zeVubL"
      },
      "source": [
        "- Aquí vemos que, aunque nuestro algoritmo clasificó correctamente alrededor del 80% de nuestro dataset, siempre las clasificaciones erróneas fueron bastantes."
      ]
    },
    {
      "cell_type": "code",
      "metadata": {
        "id": "pfEZuGBFm0c_",
        "outputId": "69283871-1c58-4772-8785-91e5bcb949b3",
        "colab": {
          "base_uri": "https://localhost:8080/",
          "height": 275
        }
      },
      "source": [
        "plt.matshow(norm_conf_mat, cmap=\"gray\")\n",
        "plt.grid(0)\n",
        "plt.show()"
      ],
      "execution_count": 49,
      "outputs": [
        {
          "output_type": "display_data",
          "data": {
            "image/png": "[encoded data removed]",
            "text/plain": [
              "<Figure size 288x288 with 1 Axes>"
            ]
          },
          "metadata": {
            "tags": []
          }
        }
      ]
    },
    {
      "cell_type": "code",
      "metadata": {
        "id": "Cme2d7xx9a3Y",
        "outputId": "e40d7a7c-b41d-459a-9b80-60482a7bb4a0",
        "colab": {
          "base_uri": "https://localhost:8080/",
          "height": 34
        }
      },
      "source": [
        "accuracy_score(y_test, y_pred)"
      ],
      "execution_count": 50,
      "outputs": [
        {
          "output_type": "execute_result",
          "data": {
            "text/plain": [
              "0.8205"
            ]
          },
          "metadata": {
            "tags": []
          },
          "execution_count": 50
        }
      ]
    },
    {
      "cell_type": "code",
      "metadata": {
        "id": "0IKl_eJC90P_",
        "outputId": "cc2577d6-4588-4481-a9bf-95d303c5a52b",
        "colab": {
          "base_uri": "https://localhost:8080/",
          "height": 34
        }
      },
      "source": [
        "precision_score(y_test, y_pred, average=\"weighted\")"
      ],
      "execution_count": 51,
      "outputs": [
        {
          "output_type": "execute_result",
          "data": {
            "text/plain": [
              "0.8289899843577427"
            ]
          },
          "metadata": {
            "tags": []
          },
          "execution_count": 51
        }
      ]
    },
    {
      "cell_type": "code",
      "metadata": {
        "id": "Cqz6j3nkA8YN",
        "outputId": "495714c2-3924-4195-8fe1-a4cc0a96f069",
        "colab": {
          "base_uri": "https://localhost:8080/",
          "height": 34
        }
      },
      "source": [
        "recall_score(y_test, y_pred, average=\"weighted\")"
      ],
      "execution_count": 52,
      "outputs": [
        {
          "output_type": "execute_result",
          "data": {
            "text/plain": [
              "0.8205"
            ]
          },
          "metadata": {
            "tags": []
          },
          "execution_count": 52
        }
      ]
    },
    {
      "cell_type": "code",
      "metadata": {
        "id": "TMnbLJLvHm_k",
        "outputId": "e165ec0b-830a-409c-be88-7e231f3753ec",
        "colab": {
          "base_uri": "https://localhost:8080/",
          "height": 34
        }
      },
      "source": [
        "f1_score(y_test, y_pred, average=\"weighted\")"
      ],
      "execution_count": 53,
      "outputs": [
        {
          "output_type": "execute_result",
          "data": {
            "text/plain": [
              "0.820123620430994"
            ]
          },
          "metadata": {
            "tags": []
          },
          "execution_count": 53
        }
      ]
    },
    {
      "cell_type": "code",
      "metadata": {
        "id": "IaPFZms6B8Q3",
        "outputId": "bb237629-6159-45ac-a4b0-47f8c56e2bb0",
        "colab": {
          "base_uri": "https://localhost:8080/",
          "height": 34
        }
      },
      "source": [
        "cross_val_score(knn_clf, X_val, y_val, cv=4, scoring=\"accuracy\")"
      ],
      "execution_count": 54,
      "outputs": [
        {
          "output_type": "execute_result",
          "data": {
            "text/plain": [
              "array([0.7475, 0.7325, 0.7775, 0.7475])"
            ]
          },
          "metadata": {
            "tags": []
          },
          "execution_count": 54
        }
      ]
    },
    {
      "cell_type": "markdown",
      "metadata": {
        "id": "yEjlZxauWJ4p"
      },
      "source": [
        "- En esta etapa de nuestro workflow, vamos a probar valores de *k* que mejoren nuestros resultados."
      ]
    },
    {
      "cell_type": "code",
      "metadata": {
        "id": "waa3IMWhID4k",
        "outputId": "701f3c8d-8b06-4663-b462-0fa11551c671",
        "colab": {
          "base_uri": "https://localhost:8080/",
          "height": 219,
          "referenced_widgets": [
            "3fc507406379429cae8fef754515a0db",
            "99115c99139a4527886ea1d2d74386e2",
            "4a16c210d3974b10b5abae4a50fdf14b",
            "77392d46560a46359c25b549f328eff3",
            "cfb9a083ebd145b9b9fd9a5c9a133ba5",
            "4da3886305e9454987d7ba0548344ac8",
            "5dc784562636420fa5f3e61bf006821f",
            "09f5928413a0413b8fed578ab63c2600"
          ]
        }
      },
      "source": [
        "rec_scores = {}\n",
        "prec_scores = {}\n",
        "for k in tqdm(range(5, 16, 5)):\n",
        "    knn_clf = KNeighborsClassifier(n_neighbors=k, n_jobs=-1)\n",
        "    knn_clf.fit(X_train, y_train)\n",
        "    y_pred = knn_clf.predict(X_val)\n",
        "    acc_scores[k] = accuracy_score(y_val, y_pred)\n",
        "    rec_scores[k] = recall_score(y_val, y_pred, average=\"weighted\")\n",
        "    prec_scores[k] = precision_score(y_val, y_pred, average=\"weighted\")\n",
        "    print(f\"------Number of Neighbors: {k}--------\")\n",
        "    print(f\"Recall Score: {rec_scores[k]}\")\n",
        "    print(f\"Precision Score: {prec_scores[k]}\")"
      ],
      "execution_count": 97,
      "outputs": [
        {
          "output_type": "display_data",
          "data": {
            "application/vnd.jupyter.widget-view+json": {
              "model_id": "3fc507406379429cae8fef754515a0db",
              "version_minor": 0,
              "version_major": 2
            },
            "text/plain": [
              "HBox(children=(FloatProgress(value=0.0, max=3.0), HTML(value='')))"
            ]
          },
          "metadata": {
            "tags": []
          }
        },
        {
          "output_type": "stream",
          "text": [
            "------Number of Neighbors: 5--------\n",
            "Recall Score: 0.81625\n",
            "Precision Score: 0.8220914505880954\n",
            "------Number of Neighbors: 10--------\n",
            "Recall Score: 0.809375\n",
            "Precision Score: 0.8157718587373072\n",
            "------Number of Neighbors: 15--------\n",
            "Recall Score: 0.79875\n",
            "Precision Score: 0.8076800307899187\n",
            "\n"
          ],
          "name": "stdout"
        }
      ]
    },
    {
      "cell_type": "code",
      "metadata": {
        "id": "mBtQTPgKp0xe"
      },
      "source": [
        "total_data = {\n",
        "    \"neighbors\": list(range(5, 16, 5)),\n",
        "    \"rec_scores\": list(rec_scores.values()),\n",
        "    \"prec_scores\": list(prec_scores.values())\n",
        "}\n",
        "\n",
        "total_df = pd.DataFrame(total_data)"
      ],
      "execution_count": 98,
      "outputs": []
    },
    {
      "cell_type": "code",
      "metadata": {
        "id": "Gjk2U-ZSr-uO",
        "outputId": "3c1474de-1ab7-45c3-d697-a561fabacad8",
        "colab": {
          "base_uri": "https://localhost:8080/",
          "height": 282
        }
      },
      "source": [
        "plt.plot(total_df[\"neighbors\"], total_df[\"rec_scores\"])\n",
        "plt.xlabel(\"K Neighbors\")\n",
        "plt.ylabel(\"Recall\")\n",
        "plt.show()"
      ],
      "execution_count": 99,
      "outputs": [
        {
          "output_type": "display_data",
          "data": {
            "image/png": "[encoded data removed]",
            "text/plain": [
              "<Figure size 432x288 with 1 Axes>"
            ]
          },
          "metadata": {
            "tags": []
          }
        }
      ]
    },
    {
      "cell_type": "code",
      "metadata": {
        "id": "VYasr6C0sFvc",
        "outputId": "860662dd-b954-4483-e74d-efe688bc1786",
        "colab": {
          "base_uri": "https://localhost:8080/",
          "height": 282
        }
      },
      "source": [
        "plt.plot(total_df[\"neighbors\"], total_df[\"prec_scores\"])\n",
        "plt.xlabel(\"K Neighbors\")\n",
        "plt.ylabel(\"Precision\")\n",
        "plt.show()"
      ],
      "execution_count": 100,
      "outputs": [
        {
          "output_type": "display_data",
          "data": {
            "image/png": "[encoded data removed]",
            "text/plain": [
              "<Figure size 432x288 with 1 Axes>"
            ]
          },
          "metadata": {
            "tags": []
          }
        }
      ]
    },
    {
      "cell_type": "code",
      "metadata": {
        "id": "x-FN0GmxseQx",
        "outputId": "26f83c94-423b-478e-ea93-a0b9c8087df7",
        "colab": {
          "base_uri": "https://localhost:8080/",
          "height": 68
        }
      },
      "source": [
        "knn_best = KNeighborsClassifier(n_jobs=-1)\n",
        "knn_best.fit(X_train, y_train)"
      ],
      "execution_count": 102,
      "outputs": [
        {
          "output_type": "execute_result",
          "data": {
            "text/plain": [
              "KNeighborsClassifier(algorithm='auto', leaf_size=30, metric='minkowski',\n",
              "                     metric_params=None, n_jobs=-1, n_neighbors=5, p=2,\n",
              "                     weights='uniform')"
            ]
          },
          "metadata": {
            "tags": []
          },
          "execution_count": 102
        }
      ]
    },
    {
      "cell_type": "code",
      "metadata": {
        "id": "tgrY4pzTssaD",
        "outputId": "d05bf183-c7e7-48e6-db9a-cafbba6a14b0",
        "colab": {
          "base_uri": "https://localhost:8080/",
          "height": 374
        }
      },
      "source": [
        "random_sample = np.random.choice(np.arange(len(X_test)), 9)\n",
        "y_pred = knn_best.predict(X_test[random_sample])\n",
        "gen.visualize_subplot(\n",
        "    X_test[random_sample].reshape(-1, 28, 28),\n",
        "    y_pred, (3, 3), (6, 6)\n",
        ")"
      ],
      "execution_count": 105,
      "outputs": [
        {
          "output_type": "display_data",
          "data": {
            "image/png": "[encoded data removed]",
            "text/plain": [
              "<Figure size 432x432 with 9 Axes>"
            ]
          },
          "metadata": {
            "tags": []
          }
        }
      ]
    },
    {
      "cell_type": "markdown",
      "metadata": {
        "id": "_vsw3JHJWKsu"
      },
      "source": [
        "## **Trabajo Asíncrono**<a name=\"id9\"></a>\n",
        "\n",
        "- Con otro con conjunto de imágenes, construir una gráfica que muestre cómo varía el rendimiento sobre entrenamiento y validación a medida que aumenta el valor de k. A partir de esta gráfica, mostrar el rendimiento sobre el test set con el valor de k seleccionado.\n",
        "- Luego, utilizar [`GridSearch`](https://scikit-learn.org/stable/modules/generated/sklearn.model_selection.GridSearchCV.html) para determinar los mejores valores de los hiperparámetros. Para eso, averiguar sobre los siguientes hiperparámetros:\n",
        "    - `n_neighbors`\n",
        "    - `weights`\n",
        "    - `algorithm`\n",
        "- Por último, mostrar algunas imágenes del conjunto test con la clase estimada por el clasificador y mostrar los resultados en una cuadrícula."
      ]
    },
    {
      "cell_type": "code",
      "metadata": {
        "id": "MWgG37OTq3Fu"
      },
      "source": [
        ""
      ],
      "execution_count": null,
      "outputs": []
    }
  ]
}