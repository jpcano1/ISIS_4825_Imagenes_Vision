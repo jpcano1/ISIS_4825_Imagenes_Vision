{
  "nbformat": 4,
  "nbformat_minor": 0,
  "metadata": {
    "colab": {
      "name": "Data_loaders.ipynb",
      "provenance": [],
      "collapsed_sections": []
    },
    "kernelspec": {
      "name": "python3",
      "display_name": "Python 3"
    }
  },
  "cells": [
    {
      "cell_type": "code",
      "metadata": {
        "id": "gnc2Mq4S7xzv"
      },
      "source": [
        "!shred -u setup_colab_general.py\n",
        "!wget -q \"https://github.com/jpcano1/python_utils/raw/main/setup_colab_general.py\" -O setup_colab_general.py\n",
        "import setup_colab_general as setup_general\n",
        "setup_general.setup_general()"
      ],
      "execution_count": null,
      "outputs": []
    },
    {
      "cell_type": "code",
      "metadata": {
        "id": "6zCAKxS-8LOu"
      },
      "source": [
        "from utils import general as gen\n",
        "\n",
        "from tensorflow import keras\n",
        "from tensorflow.keras.utils import Sequence\n",
        "\n",
        "from torch.utils.data import Dataset\n",
        "\n",
        "import nibabel as nib\n",
        "\n",
        "import numpy as np\n",
        "import pandas as pd\n",
        "\n",
        "import matplotlib.pyplot as plt\n",
        "plt.style.use(\"seaborn-deep\")\n",
        "import seaborn as sns"
      ],
      "execution_count": 17,
      "outputs": []
    },
    {
      "cell_type": "code",
      "metadata": {
        "id": "w80u7hVo8Ns4"
      },
      "source": [
        "id_data = \"0B0vscETPGI1-TE5KWFgxaURubFE\""
      ],
      "execution_count": 7,
      "outputs": []
    },
    {
      "cell_type": "code",
      "metadata": {
        "id": "VO0APqac9rEm"
      },
      "source": [
        "gen.download_file_from_google_drive(id_data, \"kits.zip\", size=4.27e6, zip=True)"
      ],
      "execution_count": null,
      "outputs": []
    },
    {
      "cell_type": "code",
      "metadata": {
        "id": "HzYCjrJ9930s"
      },
      "source": [
        "data_dir = gen.create_and_verify(\"data\", \"media\", \"nas\", \"01_Datasets\", \n",
        "                                 \"CT\", \"LITS\", \"Training Batch 1\")\n",
        "data_list = gen.read_listdir(data_dir)"
      ],
      "execution_count": 9,
      "outputs": []
    },
    {
      "cell_type": "code",
      "metadata": {
        "id": "qb-eC99eApgH"
      },
      "source": [
        "class DataSequence(Sequence):\n",
        "    def __init__(self, data_dirs, as_array=False):\n",
        "        super(LiTSDataset, self).__init__()\n",
        "        self.volume_dirs = [p for p in data_list if \"segmentation\" not in p]\n",
        "        self.label_dirs = [p for p in data_list if \"segmentation\" in p]\n",
        "        self.as_array = as_array\n",
        "\n",
        "    def __len__(self):\n",
        "        return len(self.volume_dirs)\n",
        "\n",
        "    def __getitem__(self, idx):\n",
        "        vol = nib.load(self.volume_dirs[idx])\n",
        "        lab = nib.load(self.label_dirs[idx])\n",
        "        if self.as_array:\n",
        "            return vol.get_fdata(), lab.get_fdata()\n",
        "        return vol, lab"
      ],
      "execution_count": 44,
      "outputs": []
    },
    {
      "cell_type": "code",
      "metadata": {
        "id": "Ji829CJ_DMnb"
      },
      "source": [
        "lits_dataset = DataSequence(data_list)"
      ],
      "execution_count": 37,
      "outputs": []
    },
    {
      "cell_type": "code",
      "metadata": {
        "id": "Z7KMzhURHzSz"
      },
      "source": [
        "for X, y in lits_dataset:\n",
        "    print(f\"Volume shape: {X.shape}\")\n",
        "    print(f\"Label shape: {y.shape}\")"
      ],
      "execution_count": null,
      "outputs": []
    },
    {
      "cell_type": "code",
      "metadata": {
        "id": "QuPcJmufF5qe"
      },
      "source": [
        "class DataGenerator(Dataset):\n",
        "    def __init__(self, data_dir, as_array=False, transform=None):\n",
        "        super(DataGenerator, self).__init__()\n",
        "        self.volume_dirs = [p for p in data_list if \"segmentation\" not in p]\n",
        "        self.label_dirs = [p for p in data_list if \"segmentation\" in p]\n",
        "        \n",
        "        self.as_array = as_array\n",
        "        self.transform = transform\n",
        "\n",
        "    def __len__(self):\n",
        "        return len(self.volume_dirs)\n",
        "\n",
        "    def __getitem__(self, idx):\n",
        "        vol = nib.load(self.volume_dirs[idx])\n",
        "        lab = nib.load(self.label_dirs[idx])\n",
        "        if self.as_array:\n",
        "            return vol.get_fdata(), lab.get_fdata()\n",
        "        return vol, lab"
      ],
      "execution_count": 46,
      "outputs": []
    },
    {
      "cell_type": "code",
      "metadata": {
        "id": "98BYlec9HUFU"
      },
      "source": [
        "lits_dataset = DataGenerator(data_list)"
      ],
      "execution_count": 47,
      "outputs": []
    },
    {
      "cell_type": "code",
      "metadata": {
        "id": "W03yV-cTHW1y"
      },
      "source": [
        "for X, y in lits_dataset:\n",
        "    print(f\"Volume shape: {X.shape}\")\n",
        "    print(f\"Label shape: {y.shape}\")"
      ],
      "execution_count": null,
      "outputs": []
    },
    {
      "cell_type": "code",
      "metadata": {
        "id": "C9RVSG_4HdYL"
      },
      "source": [
        ""
      ],
      "execution_count": null,
      "outputs": []
    }
  ]
}