{
  "nbformat": 4,
  "nbformat_minor": 0,
  "metadata": {
    "colab": {
      "name": "Taller_10.ipynb",
      "provenance": [],
      "collapsed_sections": []
    },
    "kernelspec": {
      "name": "python3",
      "display_name": "Python 3"
    },
    "widgets": {
      "application/vnd.jupyter.widget-state+json": {
        "1fbaf1a7d4f74d2cae268fdc78e278c8": {
          "model_module": "@jupyter-widgets/controls",
          "model_name": "HBoxModel",
          "state": {
            "_view_name": "HBoxView",
            "_dom_classes": [],
            "_model_name": "HBoxModel",
            "_view_module": "@jupyter-widgets/controls",
            "_model_module_version": "1.5.0",
            "_view_count": null,
            "_view_module_version": "1.5.0",
            "box_style": "",
            "layout": "IPY_MODEL_6905526f00f7485a8001aeb1b7b9b2b2",
            "_model_module": "@jupyter-widgets/controls",
            "children": [
              "IPY_MODEL_c058b47020864d03be4c4435f79fd37e",
              "IPY_MODEL_5dd739d9a5f84785aee9a521bdc78389"
            ]
          }
        },
        "6905526f00f7485a8001aeb1b7b9b2b2": {
          "model_module": "@jupyter-widgets/base",
          "model_name": "LayoutModel",
          "state": {
            "_view_name": "LayoutView",
            "grid_template_rows": null,
            "right": null,
            "justify_content": null,
            "_view_module": "@jupyter-widgets/base",
            "overflow": null,
            "_model_module_version": "1.2.0",
            "_view_count": null,
            "flex_flow": null,
            "width": null,
            "min_width": null,
            "border": null,
            "align_items": null,
            "bottom": null,
            "_model_module": "@jupyter-widgets/base",
            "top": null,
            "grid_column": null,
            "overflow_y": null,
            "overflow_x": null,
            "grid_auto_flow": null,
            "grid_area": null,
            "grid_template_columns": null,
            "flex": null,
            "_model_name": "LayoutModel",
            "justify_items": null,
            "grid_row": null,
            "max_height": null,
            "align_content": null,
            "visibility": null,
            "align_self": null,
            "height": null,
            "min_height": null,
            "padding": null,
            "grid_auto_rows": null,
            "grid_gap": null,
            "max_width": null,
            "order": null,
            "_view_module_version": "1.2.0",
            "grid_template_areas": null,
            "object_position": null,
            "object_fit": null,
            "grid_auto_columns": null,
            "margin": null,
            "display": null,
            "left": null
          }
        },
        "c058b47020864d03be4c4435f79fd37e": {
          "model_module": "@jupyter-widgets/controls",
          "model_name": "FloatProgressModel",
          "state": {
            "_view_name": "ProgressView",
            "style": "IPY_MODEL_d487b27332da47ff974d0ccc0887085a",
            "_dom_classes": [],
            "description": "100%",
            "_model_name": "FloatProgressModel",
            "bar_style": "success",
            "max": 10000,
            "_view_module": "@jupyter-widgets/controls",
            "_model_module_version": "1.5.0",
            "value": 10000,
            "_view_count": null,
            "_view_module_version": "1.5.0",
            "orientation": "horizontal",
            "min": 0,
            "description_tooltip": null,
            "_model_module": "@jupyter-widgets/controls",
            "layout": "IPY_MODEL_2fa0fc5253d940e481e29ecdfceee006"
          }
        },
        "5dd739d9a5f84785aee9a521bdc78389": {
          "model_module": "@jupyter-widgets/controls",
          "model_name": "HTMLModel",
          "state": {
            "_view_name": "HTMLView",
            "style": "IPY_MODEL_2256e99a8f8c429d9303e9771ec11fff",
            "_dom_classes": [],
            "description": "",
            "_model_name": "HTMLModel",
            "placeholder": "​",
            "_view_module": "@jupyter-widgets/controls",
            "_model_module_version": "1.5.0",
            "value": " 10000/10000 [12:19&lt;00:00, 13.52it/s]",
            "_view_count": null,
            "_view_module_version": "1.5.0",
            "description_tooltip": null,
            "_model_module": "@jupyter-widgets/controls",
            "layout": "IPY_MODEL_f797104c12004d66b8933ec8bfbea6a3"
          }
        },
        "d487b27332da47ff974d0ccc0887085a": {
          "model_module": "@jupyter-widgets/controls",
          "model_name": "ProgressStyleModel",
          "state": {
            "_view_name": "StyleView",
            "_model_name": "ProgressStyleModel",
            "description_width": "initial",
            "_view_module": "@jupyter-widgets/base",
            "_model_module_version": "1.5.0",
            "_view_count": null,
            "_view_module_version": "1.2.0",
            "bar_color": null,
            "_model_module": "@jupyter-widgets/controls"
          }
        },
        "2fa0fc5253d940e481e29ecdfceee006": {
          "model_module": "@jupyter-widgets/base",
          "model_name": "LayoutModel",
          "state": {
            "_view_name": "LayoutView",
            "grid_template_rows": null,
            "right": null,
            "justify_content": null,
            "_view_module": "@jupyter-widgets/base",
            "overflow": null,
            "_model_module_version": "1.2.0",
            "_view_count": null,
            "flex_flow": null,
            "width": null,
            "min_width": null,
            "border": null,
            "align_items": null,
            "bottom": null,
            "_model_module": "@jupyter-widgets/base",
            "top": null,
            "grid_column": null,
            "overflow_y": null,
            "overflow_x": null,
            "grid_auto_flow": null,
            "grid_area": null,
            "grid_template_columns": null,
            "flex": null,
            "_model_name": "LayoutModel",
            "justify_items": null,
            "grid_row": null,
            "max_height": null,
            "align_content": null,
            "visibility": null,
            "align_self": null,
            "height": null,
            "min_height": null,
            "padding": null,
            "grid_auto_rows": null,
            "grid_gap": null,
            "max_width": null,
            "order": null,
            "_view_module_version": "1.2.0",
            "grid_template_areas": null,
            "object_position": null,
            "object_fit": null,
            "grid_auto_columns": null,
            "margin": null,
            "display": null,
            "left": null
          }
        },
        "2256e99a8f8c429d9303e9771ec11fff": {
          "model_module": "@jupyter-widgets/controls",
          "model_name": "DescriptionStyleModel",
          "state": {
            "_view_name": "StyleView",
            "_model_name": "DescriptionStyleModel",
            "description_width": "",
            "_view_module": "@jupyter-widgets/base",
            "_model_module_version": "1.5.0",
            "_view_count": null,
            "_view_module_version": "1.2.0",
            "_model_module": "@jupyter-widgets/controls"
          }
        },
        "f797104c12004d66b8933ec8bfbea6a3": {
          "model_module": "@jupyter-widgets/base",
          "model_name": "LayoutModel",
          "state": {
            "_view_name": "LayoutView",
            "grid_template_rows": null,
            "right": null,
            "justify_content": null,
            "_view_module": "@jupyter-widgets/base",
            "overflow": null,
            "_model_module_version": "1.2.0",
            "_view_count": null,
            "flex_flow": null,
            "width": null,
            "min_width": null,
            "border": null,
            "align_items": null,
            "bottom": null,
            "_model_module": "@jupyter-widgets/base",
            "top": null,
            "grid_column": null,
            "overflow_y": null,
            "overflow_x": null,
            "grid_auto_flow": null,
            "grid_area": null,
            "grid_template_columns": null,
            "flex": null,
            "_model_name": "LayoutModel",
            "justify_items": null,
            "grid_row": null,
            "max_height": null,
            "align_content": null,
            "visibility": null,
            "align_self": null,
            "height": null,
            "min_height": null,
            "padding": null,
            "grid_auto_rows": null,
            "grid_gap": null,
            "max_width": null,
            "order": null,
            "_view_module_version": "1.2.0",
            "grid_template_areas": null,
            "object_position": null,
            "object_fit": null,
            "grid_auto_columns": null,
            "margin": null,
            "display": null,
            "left": null
          }
        },
        "d27b47403e384adeae8a0e971688635b": {
          "model_module": "@jupyter-widgets/controls",
          "model_name": "HBoxModel",
          "state": {
            "_view_name": "HBoxView",
            "_dom_classes": [],
            "_model_name": "HBoxModel",
            "_view_module": "@jupyter-widgets/controls",
            "_model_module_version": "1.5.0",
            "_view_count": null,
            "_view_module_version": "1.5.0",
            "box_style": "",
            "layout": "IPY_MODEL_f3cf340aa2134cd8b45d6def533cff8b",
            "_model_module": "@jupyter-widgets/controls",
            "children": [
              "IPY_MODEL_24f7e6c4fd1c439b86ed335140aed492",
              "IPY_MODEL_a4ccf3130036429983b1c8f7066b3359"
            ]
          }
        },
        "f3cf340aa2134cd8b45d6def533cff8b": {
          "model_module": "@jupyter-widgets/base",
          "model_name": "LayoutModel",
          "state": {
            "_view_name": "LayoutView",
            "grid_template_rows": null,
            "right": null,
            "justify_content": null,
            "_view_module": "@jupyter-widgets/base",
            "overflow": null,
            "_model_module_version": "1.2.0",
            "_view_count": null,
            "flex_flow": null,
            "width": null,
            "min_width": null,
            "border": null,
            "align_items": null,
            "bottom": null,
            "_model_module": "@jupyter-widgets/base",
            "top": null,
            "grid_column": null,
            "overflow_y": null,
            "overflow_x": null,
            "grid_auto_flow": null,
            "grid_area": null,
            "grid_template_columns": null,
            "flex": null,
            "_model_name": "LayoutModel",
            "justify_items": null,
            "grid_row": null,
            "max_height": null,
            "align_content": null,
            "visibility": null,
            "align_self": null,
            "height": null,
            "min_height": null,
            "padding": null,
            "grid_auto_rows": null,
            "grid_gap": null,
            "max_width": null,
            "order": null,
            "_view_module_version": "1.2.0",
            "grid_template_areas": null,
            "object_position": null,
            "object_fit": null,
            "grid_auto_columns": null,
            "margin": null,
            "display": null,
            "left": null
          }
        },
        "24f7e6c4fd1c439b86ed335140aed492": {
          "model_module": "@jupyter-widgets/controls",
          "model_name": "FloatProgressModel",
          "state": {
            "_view_name": "ProgressView",
            "style": "IPY_MODEL_48ded5ec5d5241999832a4eb4a5b0672",
            "_dom_classes": [],
            "description": "100%",
            "_model_name": "FloatProgressModel",
            "bar_style": "success",
            "max": 8954,
            "_view_module": "@jupyter-widgets/controls",
            "_model_module_version": "1.5.0",
            "value": 8954,
            "_view_count": null,
            "_view_module_version": "1.5.0",
            "orientation": "horizontal",
            "min": 0,
            "description_tooltip": null,
            "_model_module": "@jupyter-widgets/controls",
            "layout": "IPY_MODEL_bf765cd4c8ab463ea455d2f1ef27d0c9"
          }
        },
        "a4ccf3130036429983b1c8f7066b3359": {
          "model_module": "@jupyter-widgets/controls",
          "model_name": "HTMLModel",
          "state": {
            "_view_name": "HTMLView",
            "style": "IPY_MODEL_e5a8681d828b48f4a7092451629bbd73",
            "_dom_classes": [],
            "description": "",
            "_model_name": "HTMLModel",
            "placeholder": "​",
            "_view_module": "@jupyter-widgets/controls",
            "_model_module_version": "1.5.0",
            "value": " 8954/8954 [12:15&lt;00:00, 12.17it/s]",
            "_view_count": null,
            "_view_module_version": "1.5.0",
            "description_tooltip": null,
            "_model_module": "@jupyter-widgets/controls",
            "layout": "IPY_MODEL_d450dd54486e47ef8177a173b05159cc"
          }
        },
        "48ded5ec5d5241999832a4eb4a5b0672": {
          "model_module": "@jupyter-widgets/controls",
          "model_name": "ProgressStyleModel",
          "state": {
            "_view_name": "StyleView",
            "_model_name": "ProgressStyleModel",
            "description_width": "initial",
            "_view_module": "@jupyter-widgets/base",
            "_model_module_version": "1.5.0",
            "_view_count": null,
            "_view_module_version": "1.2.0",
            "bar_color": null,
            "_model_module": "@jupyter-widgets/controls"
          }
        },
        "bf765cd4c8ab463ea455d2f1ef27d0c9": {
          "model_module": "@jupyter-widgets/base",
          "model_name": "LayoutModel",
          "state": {
            "_view_name": "LayoutView",
            "grid_template_rows": null,
            "right": null,
            "justify_content": null,
            "_view_module": "@jupyter-widgets/base",
            "overflow": null,
            "_model_module_version": "1.2.0",
            "_view_count": null,
            "flex_flow": null,
            "width": null,
            "min_width": null,
            "border": null,
            "align_items": null,
            "bottom": null,
            "_model_module": "@jupyter-widgets/base",
            "top": null,
            "grid_column": null,
            "overflow_y": null,
            "overflow_x": null,
            "grid_auto_flow": null,
            "grid_area": null,
            "grid_template_columns": null,
            "flex": null,
            "_model_name": "LayoutModel",
            "justify_items": null,
            "grid_row": null,
            "max_height": null,
            "align_content": null,
            "visibility": null,
            "align_self": null,
            "height": null,
            "min_height": null,
            "padding": null,
            "grid_auto_rows": null,
            "grid_gap": null,
            "max_width": null,
            "order": null,
            "_view_module_version": "1.2.0",
            "grid_template_areas": null,
            "object_position": null,
            "object_fit": null,
            "grid_auto_columns": null,
            "margin": null,
            "display": null,
            "left": null
          }
        },
        "e5a8681d828b48f4a7092451629bbd73": {
          "model_module": "@jupyter-widgets/controls",
          "model_name": "DescriptionStyleModel",
          "state": {
            "_view_name": "StyleView",
            "_model_name": "DescriptionStyleModel",
            "description_width": "",
            "_view_module": "@jupyter-widgets/base",
            "_model_module_version": "1.5.0",
            "_view_count": null,
            "_view_module_version": "1.2.0",
            "_model_module": "@jupyter-widgets/controls"
          }
        },
        "d450dd54486e47ef8177a173b05159cc": {
          "model_module": "@jupyter-widgets/base",
          "model_name": "LayoutModel",
          "state": {
            "_view_name": "LayoutView",
            "grid_template_rows": null,
            "right": null,
            "justify_content": null,
            "_view_module": "@jupyter-widgets/base",
            "overflow": null,
            "_model_module_version": "1.2.0",
            "_view_count": null,
            "flex_flow": null,
            "width": null,
            "min_width": null,
            "border": null,
            "align_items": null,
            "bottom": null,
            "_model_module": "@jupyter-widgets/base",
            "top": null,
            "grid_column": null,
            "overflow_y": null,
            "overflow_x": null,
            "grid_auto_flow": null,
            "grid_area": null,
            "grid_template_columns": null,
            "flex": null,
            "_model_name": "LayoutModel",
            "justify_items": null,
            "grid_row": null,
            "max_height": null,
            "align_content": null,
            "visibility": null,
            "align_self": null,
            "height": null,
            "min_height": null,
            "padding": null,
            "grid_auto_rows": null,
            "grid_gap": null,
            "max_width": null,
            "order": null,
            "_view_module_version": "1.2.0",
            "grid_template_areas": null,
            "object_position": null,
            "object_fit": null,
            "grid_auto_columns": null,
            "margin": null,
            "display": null,
            "left": null
          }
        }
      }
    }
  },
  "cells": [
    {
      "cell_type": "markdown",
      "metadata": {
        "id": "GmVFejDHXLVp"
      },
      "source": [
        "![image](https://drive.google.com/u/0/uc?id=15DUc09hFGqR8qcpYiN1OajRNaASmiL6d&export=download)\n",
        "\n",
        "# **Taller No. 10 - ISIS4825**\n",
        "\n",
        "## **Support Vector Machines, Modelo Conjuntos y Extracción de Características**\n",
        "## **Contenido**\n",
        "1. [**Objetivos**](#id1)\n",
        "2. [**Problema**](#id2)\n",
        "3. [**Importando las librerías necesarias para el laboratorio**](#id3)\n",
        "4. [**Visualización y Análisis Exploratorio**](#id4)\n",
        "5. [**Preparación de los Datos**](#id5)\n",
        "6. [**Modelamiento**](#id6)\n",
        "7. [**Predicción**](#id7)\n",
        "8. [**Validación**](#id8)\n",
        "9. [**Trabajo Asíncrono**](#id9)\n",
        "\n",
        "## **Objetivos**<a name=\"id1\"></a>\n",
        "- Familiarizarse con las máquinas de soporte vectorial y los modelos conjuntos.\n",
        "- Hacer un recorrido básico por las imágenes médicas.\n",
        "- Extraer características básicas de imágenes.\n",
        "\n",
        "## **Problema**<a name=\"id2\"></a>\n",
        "- En un dataset de imágenes médicas, buscamos clasificar todas aquellas imágenes que sean resonancias magnéticas de seno y tomografías de diafragma."
      ]
    },
    {
      "cell_type": "markdown",
      "metadata": {
        "id": "DiKABk9BYGj9"
      },
      "source": [
        "## **Notebook Configuration**"
      ]
    },
    {
      "cell_type": "code",
      "metadata": {
        "id": "bceOoINzPCoe"
      },
      "source": [
        "!shred -u setup_colab.py\n",
        "!shred -u setup_colab_general.py\n",
        "!wget -q \"https://github.com/jpcano1/python_utils/raw/main/setup_colab_general.py\" -O setup_colab_general.py\n",
        "!wget -q \"https://github.com/jpcano1/python_utils/raw/main/ISIS_4825/setup_colab.py\" -O setup_colab.py\n",
        "import setup_colab as setup\n",
        "setup.setup_workshop_10()"
      ],
      "execution_count": null,
      "outputs": []
    },
    {
      "cell_type": "markdown",
      "metadata": {
        "id": "DldVItqYYJJR"
      },
      "source": [
        "## **Importando las librerías necesarias para el laboratorio**<a name=\"id3\"></a>"
      ]
    },
    {
      "cell_type": "code",
      "metadata": {
        "id": "wa0PcaLwGHL3"
      },
      "source": [
        "from utils import general as gen\n",
        "\n",
        "from sklearn.model_selection import StratifiedShuffleSplit\n",
        "from sklearn.svm import SVC\n",
        "from sklearn.linear_model import LogisticRegression\n",
        "from sklearn.metrics import (accuracy_score, recall_score, precision_score,\n",
        "                             confusion_matrix, f1_score)\n",
        "from sklearn.utils import resample\n",
        "\n",
        "import numpy as np\n",
        "import pandas as pd\n",
        "\n",
        "from skimage import morphology, filters\n",
        "\n",
        "import matplotlib.pyplot as plt\n",
        "plt.style.use(\"seaborn-dark\")\n",
        "import seaborn as sns\n",
        "\n",
        "from skimage import io\n",
        "\n",
        "from tqdm.auto import tqdm"
      ],
      "execution_count": 62,
      "outputs": []
    },
    {
      "cell_type": "code",
      "metadata": {
        "id": "5OFGD3tcVETK"
      },
      "source": [
        "def cat_frequencies(labels):\n",
        "    freq_p = labels.mean()\n",
        "    freq_n = 1 - freq_p\n",
        "    return freq_p, freq_n"
      ],
      "execution_count": 3,
      "outputs": []
    },
    {
      "cell_type": "markdown",
      "metadata": {
        "id": "KRrQH3ONYeFU"
      },
      "source": [
        "### **Carga de Datos**"
      ]
    },
    {
      "cell_type": "code",
      "metadata": {
        "id": "I47nmn8QGUTe"
      },
      "source": [
        "data_dir = \"./data\""
      ],
      "execution_count": 4,
      "outputs": []
    },
    {
      "cell_type": "code",
      "metadata": {
        "id": "w91YBT4xGrwb"
      },
      "source": [
        "abdomen_dir = gen.create_and_verify(data_dir, \"AbdomenCT\")\n",
        "breast_dir = gen.create_and_verify(data_dir, \"BreastMRI\")\n",
        "\n",
        "abdomen_list = gen.read_listdir(abdomen_dir)\n",
        "breast_list = gen.read_listdir(breast_dir)\n",
        "\n",
        "abdomen_size = len(abdomen_list)\n",
        "breast_size = len(breast_list)"
      ],
      "execution_count": 5,
      "outputs": []
    },
    {
      "cell_type": "code",
      "metadata": {
        "id": "D0R4X5nOHhHH"
      },
      "source": [
        "total_data = np.zeros((breast_size + abdomen_size, 64, 64), dtype=\"uint8\")\n",
        "total_targets = np.zeros((breast_size + abdomen_size), dtype=\"uint8\")"
      ],
      "execution_count": 6,
      "outputs": []
    },
    {
      "cell_type": "code",
      "metadata": {
        "id": "BuKOp7F5KFQ-"
      },
      "source": [
        "total_targets[:abdomen_size] = 1\n",
        "total_targets[abdomen_size:] = 0"
      ],
      "execution_count": 7,
      "outputs": []
    },
    {
      "cell_type": "code",
      "metadata": {
        "id": "w5UXrimxG7xr",
        "outputId": "2c005243-c0fb-4faa-ea39-7eb860bf4776",
        "colab": {
          "base_uri": "https://localhost:8080/",
          "height": 115,
          "referenced_widgets": [
            "1fbaf1a7d4f74d2cae268fdc78e278c8",
            "6905526f00f7485a8001aeb1b7b9b2b2",
            "c058b47020864d03be4c4435f79fd37e",
            "5dd739d9a5f84785aee9a521bdc78389",
            "d487b27332da47ff974d0ccc0887085a",
            "2fa0fc5253d940e481e29ecdfceee006",
            "2256e99a8f8c429d9303e9771ec11fff",
            "f797104c12004d66b8933ec8bfbea6a3",
            "d27b47403e384adeae8a0e971688635b",
            "f3cf340aa2134cd8b45d6def533cff8b",
            "24f7e6c4fd1c439b86ed335140aed492",
            "a4ccf3130036429983b1c8f7066b3359",
            "48ded5ec5d5241999832a4eb4a5b0672",
            "bf765cd4c8ab463ea455d2f1ef27d0c9",
            "e5a8681d828b48f4a7092451629bbd73",
            "d450dd54486e47ef8177a173b05159cc"
          ]
        }
      },
      "source": [
        "idx = 0\n",
        "for dir_ in tqdm(gen.read_listdir(abdomen_dir)):\n",
        "    total_data[idx] = io.imread(dir_)\n",
        "    idx += 1\n",
        "\n",
        "for dir_ in tqdm(gen.read_listdir(breast_dir)):\n",
        "    total_data[idx] = io.imread(dir_)\n",
        "    idx += 1"
      ],
      "execution_count": 8,
      "outputs": [
        {
          "output_type": "display_data",
          "data": {
            "application/vnd.jupyter.widget-view+json": {
              "model_id": "1fbaf1a7d4f74d2cae268fdc78e278c8",
              "version_minor": 0,
              "version_major": 2
            },
            "text/plain": [
              "HBox(children=(FloatProgress(value=0.0, max=10000.0), HTML(value='')))"
            ]
          },
          "metadata": {
            "tags": []
          }
        },
        {
          "output_type": "stream",
          "text": [
            "\n"
          ],
          "name": "stdout"
        },
        {
          "output_type": "display_data",
          "data": {
            "application/vnd.jupyter.widget-view+json": {
              "model_id": "d27b47403e384adeae8a0e971688635b",
              "version_minor": 0,
              "version_major": 2
            },
            "text/plain": [
              "HBox(children=(FloatProgress(value=0.0, max=8954.0), HTML(value='')))"
            ]
          },
          "metadata": {
            "tags": []
          }
        },
        {
          "output_type": "stream",
          "text": [
            "\n"
          ],
          "name": "stdout"
        }
      ]
    },
    {
      "cell_type": "markdown",
      "metadata": {
        "id": "c2UB2GHPDx0k"
      },
      "source": [
        "## **Visualización y Análisis Exploratorio**\n",
        "- En este laboratorio usaremos otra variación menos conocida de MNIST que utiliza imágenes médicas, con resolución de 64x64, como resonancias, tomografías e imágenes por rayos-X. Para el desarrollo del taller, usaremos las imágenes pertenecientes a las categorías de `BreastMRI` y de `AbdomenCT`.\n",
        "\n",
        "![image](https://docs.google.com/uc?export=download&id=1l1S12Jc_R6qvnQcAM_3WASK4wTMcJxvS)\n",
        "\n",
        "> Tomado de: https://www.kenhub.com/en/library/anatomy/how-to-read-an-abdominal-ct y de https://www.cancernetwork.com/view/mri-improves-breast-cancer-screening-older-brca-carriers"
      ]
    },
    {
      "cell_type": "code",
      "metadata": {
        "id": "oQFOH4oGJerq",
        "outputId": "623533b4-285a-4a66-aaaf-ff9891fc6f5a",
        "colab": {
          "base_uri": "https://localhost:8080/"
        }
      },
      "source": [
        "total_data.shape"
      ],
      "execution_count": 26,
      "outputs": [
        {
          "output_type": "execute_result",
          "data": {
            "text/plain": [
              "(18954, 64, 64)"
            ]
          },
          "metadata": {
            "tags": []
          },
          "execution_count": 26
        }
      ]
    },
    {
      "cell_type": "code",
      "metadata": {
        "id": "xF2aKisiImQZ",
        "outputId": "55ccedd3-2b73-4e51-c373-d3dee95a23f4",
        "colab": {
          "base_uri": "https://localhost:8080/",
          "height": 372
        }
      },
      "source": [
        "np.random.seed(5678)\n",
        "random_sample = np.random.choice(range(total_data.shape[0]), size=9)\n",
        "gen.visualize_subplot(\n",
        "    total_data[random_sample],\n",
        "    total_targets[random_sample], (3, 3), (6, 6)\n",
        ")"
      ],
      "execution_count": 36,
      "outputs": [
        {
          "output_type": "display_data",
          "data": {
            "image/png": "[encoded data removed]",
            "text/plain": [
              "<Figure size 432x432 with 9 Axes>"
            ]
          },
          "metadata": {
            "tags": []
          }
        }
      ]
    },
    {
      "cell_type": "markdown",
      "metadata": {
        "id": "APXxPuLAD2b3"
      },
      "source": [
        "## **Preparación de los Datos**\n",
        "\n",
        "### **Redimensionamiento**"
      ]
    },
    {
      "cell_type": "code",
      "metadata": {
        "id": "Hhv13Z9oN4wZ",
        "outputId": "4d7b1648-a348-4d48-c3e7-38c70499c33e",
        "colab": {
          "base_uri": "https://localhost:8080/"
        }
      },
      "source": [
        "total_data.shape"
      ],
      "execution_count": 37,
      "outputs": [
        {
          "output_type": "execute_result",
          "data": {
            "text/plain": [
              "(18954, 64, 64)"
            ]
          },
          "metadata": {
            "tags": []
          },
          "execution_count": 37
        }
      ]
    },
    {
      "cell_type": "code",
      "metadata": {
        "id": "9t4QXUsVK9-T"
      },
      "source": [
        "total_data = total_data.reshape(-1, 4096)"
      ],
      "execution_count": 38,
      "outputs": []
    },
    {
      "cell_type": "code",
      "metadata": {
        "id": "AIagZvoHOVsq",
        "outputId": "5f32262b-cde3-4d8e-ff1f-6331208052bf",
        "colab": {
          "base_uri": "https://localhost:8080/"
        }
      },
      "source": [
        "total_data.shape"
      ],
      "execution_count": 39,
      "outputs": [
        {
          "output_type": "execute_result",
          "data": {
            "text/plain": [
              "(18954, 4096)"
            ]
          },
          "metadata": {
            "tags": []
          },
          "execution_count": 39
        }
      ]
    },
    {
      "cell_type": "markdown",
      "metadata": {
        "id": "ztxpfnjoOZWX"
      },
      "source": [
        "### **Train Set, Validation Set, Test Set**"
      ]
    },
    {
      "cell_type": "code",
      "metadata": {
        "id": "7l7-n6cvLxgc"
      },
      "source": [
        "sss = StratifiedShuffleSplit(n_splits=2, test_size=0.2, random_state=1234)"
      ],
      "execution_count": 40,
      "outputs": []
    },
    {
      "cell_type": "code",
      "metadata": {
        "id": "XbDr5z29NeTy"
      },
      "source": [
        "for train_index, test_index in sss.split(total_data, total_targets):\n",
        "    full_X_train, X_test = total_data[train_index], total_data[test_index]\n",
        "    full_y_train, y_test = total_targets[train_index], total_targets[test_index]"
      ],
      "execution_count": 41,
      "outputs": []
    },
    {
      "cell_type": "code",
      "metadata": {
        "id": "wD7FU7Z5OVe7"
      },
      "source": [
        "sss = StratifiedShuffleSplit(n_splits=2, test_size=0.2, random_state=5678)"
      ],
      "execution_count": 42,
      "outputs": []
    },
    {
      "cell_type": "code",
      "metadata": {
        "id": "xAqEyRDCN3UZ"
      },
      "source": [
        "for train_index, val_index in sss.split(full_X_train, full_y_train):\n",
        "    X_train, X_val = full_X_train[train_index], full_X_train[val_index]\n",
        "    y_train, y_val = full_y_train[train_index], full_y_train[val_index]"
      ],
      "execution_count": 43,
      "outputs": []
    },
    {
      "cell_type": "code",
      "metadata": {
        "id": "N7hVsBO2OrCc",
        "outputId": "ae5ae8fe-3636-40d1-fcda-1ca57e16be30",
        "colab": {
          "base_uri": "https://localhost:8080/"
        }
      },
      "source": [
        "fp, fn = cat_frequencies(total_targets)\n",
        "fp, fn"
      ],
      "execution_count": 46,
      "outputs": [
        {
          "output_type": "execute_result",
          "data": {
            "text/plain": [
              "(0.5275931201857128, 0.4724068798142872)"
            ]
          },
          "metadata": {
            "tags": []
          },
          "execution_count": 46
        }
      ]
    },
    {
      "cell_type": "code",
      "metadata": {
        "id": "kKlDZriTO0ZU",
        "outputId": "89f2d408-12fe-4447-a170-56150a1e541c",
        "colab": {
          "base_uri": "https://localhost:8080/"
        }
      },
      "source": [
        "fp, fn = cat_frequencies(y_train)\n",
        "fp, fn"
      ],
      "execution_count": 47,
      "outputs": [
        {
          "output_type": "execute_result",
          "data": {
            "text/plain": [
              "(0.5276174773289365, 0.4723825226710635)"
            ]
          },
          "metadata": {
            "tags": []
          },
          "execution_count": 47
        }
      ]
    },
    {
      "cell_type": "code",
      "metadata": {
        "id": "YyJdMqvbO7Ee",
        "outputId": "f83cfa1f-e93c-4218-9b49-f4fc49c72789",
        "colab": {
          "base_uri": "https://localhost:8080/"
        }
      },
      "source": [
        "fp, fn = cat_frequencies(y_val)\n",
        "fp, fn"
      ],
      "execution_count": 48,
      "outputs": [
        {
          "output_type": "execute_result",
          "data": {
            "text/plain": [
              "(0.5275304978569073, 0.4724695021430927)"
            ]
          },
          "metadata": {
            "tags": []
          },
          "execution_count": 48
        }
      ]
    },
    {
      "cell_type": "code",
      "metadata": {
        "id": "-ZHQjrdxO-B6",
        "outputId": "f1bf6c46-ed54-45c0-8e6f-a38b2f38dedb",
        "colab": {
          "base_uri": "https://localhost:8080/"
        }
      },
      "source": [
        "fp, fn = cat_frequencies(y_test)\n",
        "fp, fn"
      ],
      "execution_count": 49,
      "outputs": [
        {
          "output_type": "execute_result",
          "data": {
            "text/plain": [
              "(0.5275652862041678, 0.47243471379583224)"
            ]
          },
          "metadata": {
            "tags": []
          },
          "execution_count": 49
        }
      ]
    },
    {
      "cell_type": "code",
      "metadata": {
        "id": "YFN1N30hUzah"
      },
      "source": [
        "rnd_image = total_data[1]"
      ],
      "execution_count": 68,
      "outputs": []
    },
    {
      "cell_type": "code",
      "metadata": {
        "id": "VN-u7uj8U-mv"
      },
      "source": [
        "rnd_image = rnd_image.reshape((64, 64))"
      ],
      "execution_count": 69,
      "outputs": []
    },
    {
      "cell_type": "code",
      "metadata": {
        "id": "JMKgwOW2VWWi"
      },
      "source": [
        "rnd_image_top = morphology.white_tophat(rnd_image)"
      ],
      "execution_count": 84,
      "outputs": []
    },
    {
      "cell_type": "code",
      "metadata": {
        "id": "_kudQyPVVgYq",
        "outputId": "4e80eae2-0074-416a-9025-ed808f6770cb",
        "colab": {
          "base_uri": "https://localhost:8080/",
          "height": 248
        }
      },
      "source": [
        "gen.imshow(rnd_image_top, color=False)"
      ],
      "execution_count": 85,
      "outputs": [
        {
          "output_type": "display_data",
          "data": {
            "image/png": "[encoded data removed]",
            "text/plain": [
              "<Figure size 432x288 with 1 Axes>"
            ]
          },
          "metadata": {
            "tags": []
          }
        }
      ]
    },
    {
      "cell_type": "markdown",
      "metadata": {
        "id": "tbSXqA5MPGai"
      },
      "source": [
        "## **Modelamiento**\n",
        "- En esta ocasión haremos uso de las máquinas de soporte vectorial (SVM)."
      ]
    },
    {
      "cell_type": "code",
      "metadata": {
        "id": "mXH7YfZxOZYS"
      },
      "source": [
        "svm_clf = SVC()"
      ],
      "execution_count": 50,
      "outputs": []
    },
    {
      "cell_type": "code",
      "metadata": {
        "id": "ob2AIDQ-Oc0j",
        "outputId": "ef83cca1-9324-40c5-a6c9-13129162fa63",
        "colab": {
          "base_uri": "https://localhost:8080/"
        }
      },
      "source": [
        "%%time\n",
        "svm_clf.fit(X_train, y_train)"
      ],
      "execution_count": 51,
      "outputs": [
        {
          "output_type": "stream",
          "text": [
            "CPU times: user 10.5 s, sys: 343 ms, total: 10.8 s\n",
            "Wall time: 10.9 s\n"
          ],
          "name": "stdout"
        },
        {
          "output_type": "execute_result",
          "data": {
            "text/plain": [
              "SVC(C=1.0, break_ties=False, cache_size=200, class_weight=None, coef0=0.0,\n",
              "    decision_function_shape='ovr', degree=3, gamma='scale', kernel='rbf',\n",
              "    max_iter=-1, probability=False, random_state=None, shrinking=True,\n",
              "    tol=0.001, verbose=False)"
            ]
          },
          "metadata": {
            "tags": []
          },
          "execution_count": 51
        }
      ]
    },
    {
      "cell_type": "markdown",
      "metadata": {
        "id": "cP7OJK5Pji5w"
      },
      "source": [
        "## **Predicción**"
      ]
    },
    {
      "cell_type": "code",
      "metadata": {
        "id": "CQ8si_gmjk3I"
      },
      "source": [
        "np.random.seed(1234)\n",
        "random_sample = np.random.choice(range(X_test.shape[0]), size=9)\n",
        "y_pred = svm_clf.predict(X_test[random_sample])"
      ],
      "execution_count": 86,
      "outputs": []
    },
    {
      "cell_type": "code",
      "metadata": {
        "id": "S_7ZHyruj1L4",
        "outputId": "a3e208ba-6c98-4c0a-f058-e44e7e11f1d3",
        "colab": {
          "base_uri": "https://localhost:8080/",
          "height": 372
        }
      },
      "source": [
        "gen.visualize_subplot(\n",
        "    X_test[random_sample].reshape(-1, 64, 64),\n",
        "    y_pred, (3, 3), (6, 6)\n",
        ")"
      ],
      "execution_count": 88,
      "outputs": [
        {
          "output_type": "display_data",
          "data": {
            "image/png": "[encoded data removed]",
            "text/plain": [
              "<Figure size 432x432 with 9 Axes>"
            ]
          },
          "metadata": {
            "tags": []
          }
        }
      ]
    },
    {
      "cell_type": "markdown",
      "metadata": {
        "id": "vN1Faz0_jehB"
      },
      "source": [
        "## **Validación**"
      ]
    },
    {
      "cell_type": "code",
      "metadata": {
        "id": "_oI9IElTOggJ",
        "outputId": "b548cd57-fa9d-4910-fdf0-13ce5f65c48f",
        "colab": {
          "base_uri": "https://localhost:8080/"
        }
      },
      "source": [
        "%%time\n",
        "y_pred = svm_clf.predict(X_test)"
      ],
      "execution_count": 90,
      "outputs": [
        {
          "output_type": "stream",
          "text": [
            "CPU times: user 2.89 s, sys: 387 µs, total: 2.89 s\n",
            "Wall time: 2.89 s\n"
          ],
          "name": "stdout"
        }
      ]
    },
    {
      "cell_type": "code",
      "metadata": {
        "id": "64EBVmWZPHlc"
      },
      "source": [
        "conf_matrix = confusion_matrix(y_test, y_pred)"
      ],
      "execution_count": 91,
      "outputs": []
    },
    {
      "cell_type": "code",
      "metadata": {
        "id": "M_y4EWnMQCRP",
        "outputId": "efb0ba1d-4450-4203-849c-ee167f37ae37",
        "colab": {
          "base_uri": "https://localhost:8080/",
          "height": 268
        }
      },
      "source": [
        "plt.matshow(conf_matrix, cmap=\"gray\")\n",
        "plt.show()"
      ],
      "execution_count": 92,
      "outputs": [
        {
          "output_type": "display_data",
          "data": {
            "image/png": "[encoded data removed]",
            "text/plain": [
              "<Figure size 288x288 with 1 Axes>"
            ]
          },
          "metadata": {
            "tags": []
          }
        }
      ]
    },
    {
      "cell_type": "code",
      "metadata": {
        "id": "mubk7E0wVa1a",
        "outputId": "795a8c7f-cb08-41c8-e105-c33b0fb3b58e",
        "colab": {
          "base_uri": "https://localhost:8080/"
        }
      },
      "source": [
        "accuracy_score(y_test, y_pred)"
      ],
      "execution_count": 93,
      "outputs": [
        {
          "output_type": "execute_result",
          "data": {
            "text/plain": [
              "1.0"
            ]
          },
          "metadata": {
            "tags": []
          },
          "execution_count": 93
        }
      ]
    },
    {
      "cell_type": "code",
      "metadata": {
        "id": "V-gdjVg6V9Ju",
        "outputId": "eba882af-3ec8-438e-8512-b41bf48f8729",
        "colab": {
          "base_uri": "https://localhost:8080/"
        }
      },
      "source": [
        "recall_score(y_test, y_pred)"
      ],
      "execution_count": 94,
      "outputs": [
        {
          "output_type": "execute_result",
          "data": {
            "text/plain": [
              "1.0"
            ]
          },
          "metadata": {
            "tags": []
          },
          "execution_count": 94
        }
      ]
    },
    {
      "cell_type": "code",
      "metadata": {
        "id": "CD4mBeLOkwjR",
        "outputId": "58a192a3-fdc9-45d5-fd6d-21cb247ee286",
        "colab": {
          "base_uri": "https://localhost:8080/"
        }
      },
      "source": [
        "precision_score(y_test, y_pred)"
      ],
      "execution_count": 95,
      "outputs": [
        {
          "output_type": "execute_result",
          "data": {
            "text/plain": [
              "1.0"
            ]
          },
          "metadata": {
            "tags": []
          },
          "execution_count": 95
        }
      ]
    }
  ]
}