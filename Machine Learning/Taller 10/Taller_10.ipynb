{
  "nbformat": 4,
  "nbformat_minor": 0,
  "metadata": {
    "colab": {
      "name": "Taller_10.ipynb",
      "provenance": [],
      "collapsed_sections": []
    },
    "kernelspec": {
      "name": "python3",
      "display_name": "Python 3"
    }
  },
  "cells": [
    {
      "cell_type": "markdown",
      "metadata": {
        "id": "GmVFejDHXLVp"
      },
      "source": [
        "![image](https://drive.google.com/u/0/uc?id=15DUc09hFGqR8qcpYiN1OajRNaASmiL6d&export=download)\n",
        "\n",
        "# **Taller No. 10 - ISIS4825**\n",
        "\n",
        "## **Support Vector Machines, Modelo Conjuntos y Extracción de Características**\n",
        "## **Contenido**\n",
        "1. [**Objetivos**](#id1)\n",
        "2. [**Problema**](#id2)\n",
        "3. [**Importando las librerías necesarias para el laboratorio**](#id3)\n",
        "4. [**Visualización y Análisis Exploratorio**](#id4)\n",
        "5. [**Preparación de los Datos**](#id5)\n",
        "6. [**Modelamiento**](#id6)\n",
        "7. [**Predicción**](#id7)\n",
        "8. [**Validación**](#id8)\n",
        "9. [**Trabajo Asíncrono**](#id9)\n",
        "\n",
        "## **Objetivos**<a name=\"id1\"></a>\n",
        "- Familiarizarse con las máquinas de soporte vectorial y los modelos conjuntos.\n",
        "- Hacer un recorrido básico por las imágenes médicas.\n",
        "- Extraer características básicas de imágenes.\n",
        "\n",
        "## **Problema**<a name=\"id2\"></a>\n",
        "- En un dataset de imágenes varias, buscamos clasificar las imágenes que pertenezcan a dos clases."
      ]
    },
    {
      "cell_type": "markdown",
      "metadata": {
        "id": "DiKABk9BYGj9"
      },
      "source": [
        "## **Notebook Configuration**"
      ]
    },
    {
      "cell_type": "code",
      "metadata": {
        "id": "bceOoINzPCoe"
      },
      "source": [
        "!shred -u setup_colab.py\n",
        "!shred -u setup_colab_general.py\n",
        "!wget -q \"https://github.com/jpcano1/python_utils/raw/main/setup_colab_general.py\" -O setup_colab_general.py\n",
        "!wget -q \"https://github.com/jpcano1/python_utils/raw/main/ISIS_4825/setup_colab.py\" -O setup_colab.py\n",
        "import setup_colab as setup\n",
        "setup.setup_workshop_10()"
      ],
      "execution_count": null,
      "outputs": []
    },
    {
      "cell_type": "markdown",
      "metadata": {
        "id": "DldVItqYYJJR"
      },
      "source": [
        "## **Importando las librerías necesarias para el laboratorio**<a name=\"id3\"></a>"
      ]
    },
    {
      "cell_type": "code",
      "metadata": {
        "id": "wa0PcaLwGHL3"
      },
      "source": [
        "from utils import general as gen\n",
        "\n",
        "from sklearn.model_selection import StratifiedShuffleSplit\n",
        "from sklearn.svm import SVC\n",
        "from sklearn.linear_model import LogisticRegression\n",
        "from sklearn.metrics import (accuracy_score, recall_score, precision_score,\n",
        "                             confusion_matrix, f1_score)\n",
        "from sklearn.utils import resample\n",
        "\n",
        "import numpy as np\n",
        "import pandas as pd\n",
        "\n",
        "import matplotlib.pyplot as plt\n",
        "plt.style.use(\"seaborn-dark\")\n",
        "import seaborn as sns\n",
        "\n",
        "from skimage import io\n",
        "\n",
        "from tqdm.auto import tqdm"
      ],
      "execution_count": null,
      "outputs": []
    },
    {
      "cell_type": "code",
      "metadata": {
        "id": "5OFGD3tcVETK"
      },
      "source": [
        "def cat_frequencies(labels):\n",
        "    freq_p = labels.mean()\n",
        "    freq_n = 1 - freq_p\n",
        "    return freq_p, freq_n\n",
        "\n",
        "def reshaped(data, batch=False):\n",
        "    if batch:\n",
        "        return np.moveaxis(data.reshape(-1, 3, 32, 32), 1, -1)\n",
        "    return np.moveaxis(data.reshape(3, 32, 32), 0, -1)"
      ],
      "execution_count": null,
      "outputs": []
    },
    {
      "cell_type": "markdown",
      "metadata": {
        "id": "KRrQH3ONYeFU"
      },
      "source": [
        "### **Carga de Datos**"
      ]
    },
    {
      "cell_type": "code",
      "metadata": {
        "id": "prmaCrDiybGX"
      },
      "source": [
        "batch_set = []\n",
        "batch_set.append(gen.unpickle(\"data/cifar-10-batches-py/data_batch_1\"))\n",
        "batch_set.append(gen.unpickle(\"data/cifar-10-batches-py/data_batch_2\"))\n",
        "batch_set.append(gen.unpickle(\"data/cifar-10-batches-py/data_batch_3\"))\n",
        "batch_set.append(gen.unpickle(\"data/cifar-10-batches-py/data_batch_4\"))\n",
        "batch_set.append(gen.unpickle(\"data/cifar-10-batches-py/data_batch_5\"))"
      ],
      "execution_count": null,
      "outputs": []
    },
    {
      "cell_type": "code",
      "metadata": {
        "id": "IU-1QUY9ygQE"
      },
      "source": [
        "total_data = []\n",
        "total_targets = []\n",
        "for batch in batch_set:\n",
        "    total_data.append(batch[b\"data\"])\n",
        "    total_targets.append(batch[b\"labels\"])"
      ],
      "execution_count": null,
      "outputs": []
    },
    {
      "cell_type": "code",
      "metadata": {
        "id": "ZI9eRLIPJdYL"
      },
      "source": [
        "total_data = np.array(total_data).reshape(-1, 3072)\n",
        "total_targets = np.array(total_targets).reshape(-1)"
      ],
      "execution_count": null,
      "outputs": []
    },
    {
      "cell_type": "code",
      "metadata": {
        "id": "45GHTYsWz1H1"
      },
      "source": [
        "mask = (total_targets == 6) | (total_targets == 7)\n",
        "total_data = total_data[mask]\n",
        "total_targets = total_targets[mask]"
      ],
      "execution_count": null,
      "outputs": []
    },
    {
      "cell_type": "code",
      "metadata": {
        "id": "1tS56tL00yoR"
      },
      "source": [
        "total_targets[total_targets == 6] = 0\n",
        "total_targets[total_targets == 7] = 1"
      ],
      "execution_count": null,
      "outputs": []
    },
    {
      "cell_type": "markdown",
      "metadata": {
        "id": "c2UB2GHPDx0k"
      },
      "source": [
        "## **Visualización y Análisis Exploratorio**\n",
        "- En este laboratorio usaremos un dataset conocido `CIFAR-10` donde buscaremos clasificar las imágenes pertenecientes a las clases de caballo y rana."
      ]
    },
    {
      "cell_type": "code",
      "metadata": {
        "id": "oQFOH4oGJerq"
      },
      "source": [
        "total_data.shape"
      ],
      "execution_count": null,
      "outputs": []
    },
    {
      "cell_type": "code",
      "metadata": {
        "id": "xF2aKisiImQZ"
      },
      "source": [
        "np.random.seed(5678)\n",
        "random_sample = np.random.choice(range(total_data.shape[0]), size=9)\n",
        "gen.visualize_subplot(\n",
        "    reshaped(total_data[random_sample], batch=True),\n",
        "    total_targets[random_sample], (3, 3), (6, 6)\n",
        ")"
      ],
      "execution_count": null,
      "outputs": []
    },
    {
      "cell_type": "markdown",
      "metadata": {
        "id": "APXxPuLAD2b3"
      },
      "source": [
        "## **Preparación de los Datos**\n",
        "\n",
        "### **Redimensionamiento**"
      ]
    },
    {
      "cell_type": "code",
      "metadata": {
        "id": "JwMhf_EoLQHs"
      },
      "source": [
        "random_sample = reshaped(total_data[0])"
      ],
      "execution_count": null,
      "outputs": []
    },
    {
      "cell_type": "code",
      "metadata": {
        "id": "Hhv13Z9oN4wZ"
      },
      "source": [
        "gen.imshow(random_sample, title=f\"{total_targets[0]}\")"
      ],
      "execution_count": null,
      "outputs": []
    },
    {
      "cell_type": "code",
      "metadata": {
        "id": "AIagZvoHOVsq"
      },
      "source": [
        "total_data.shape"
      ],
      "execution_count": null,
      "outputs": []
    },
    {
      "cell_type": "markdown",
      "metadata": {
        "id": "ztxpfnjoOZWX"
      },
      "source": [
        "### **Train Set, Validation Set, Test Set**"
      ]
    },
    {
      "cell_type": "code",
      "metadata": {
        "id": "7l7-n6cvLxgc"
      },
      "source": [
        "sss = StratifiedShuffleSplit(n_splits=2, test_size=0.3, random_state=1234)"
      ],
      "execution_count": null,
      "outputs": []
    },
    {
      "cell_type": "code",
      "metadata": {
        "id": "XbDr5z29NeTy"
      },
      "source": [
        "for train_index, test_index in sss.split(total_data, total_targets):\n",
        "    full_X_train, X_test = total_data[train_index], total_data[test_index]\n",
        "    full_y_train, y_test = total_targets[train_index], total_targets[test_index]"
      ],
      "execution_count": null,
      "outputs": []
    },
    {
      "cell_type": "code",
      "metadata": {
        "id": "wD7FU7Z5OVe7"
      },
      "source": [
        "sss = StratifiedShuffleSplit(n_splits=2, test_size=0.3, random_state=5678)"
      ],
      "execution_count": null,
      "outputs": []
    },
    {
      "cell_type": "code",
      "metadata": {
        "id": "xAqEyRDCN3UZ"
      },
      "source": [
        "for train_index, val_index in sss.split(full_X_train, full_y_train):\n",
        "    X_train, X_val = full_X_train[train_index], full_X_train[val_index]\n",
        "    y_train, y_val = full_y_train[train_index], full_y_train[val_index]"
      ],
      "execution_count": null,
      "outputs": []
    },
    {
      "cell_type": "code",
      "metadata": {
        "id": "N7hVsBO2OrCc"
      },
      "source": [
        "fp, fn = cat_frequencies(total_targets)\n",
        "fp, fn"
      ],
      "execution_count": null,
      "outputs": []
    },
    {
      "cell_type": "code",
      "metadata": {
        "id": "kKlDZriTO0ZU"
      },
      "source": [
        "fp, fn = cat_frequencies(y_train)\n",
        "fp, fn"
      ],
      "execution_count": null,
      "outputs": []
    },
    {
      "cell_type": "code",
      "metadata": {
        "id": "YyJdMqvbO7Ee"
      },
      "source": [
        "fp, fn = cat_frequencies(y_val)\n",
        "fp, fn"
      ],
      "execution_count": null,
      "outputs": []
    },
    {
      "cell_type": "code",
      "metadata": {
        "id": "-ZHQjrdxO-B6"
      },
      "source": [
        "fp, fn = cat_frequencies(y_test)\n",
        "fp, fn"
      ],
      "execution_count": null,
      "outputs": []
    },
    {
      "cell_type": "markdown",
      "metadata": {
        "id": "tbSXqA5MPGai"
      },
      "source": [
        "## **Modelamiento**\n",
        "- En esta ocasión haremos uso de las máquinas de soporte vectorial (SVM)."
      ]
    },
    {
      "cell_type": "code",
      "metadata": {
        "id": "mXH7YfZxOZYS"
      },
      "source": [
        "svm_clf = SVC(kernel=\"linear\")"
      ],
      "execution_count": null,
      "outputs": []
    },
    {
      "cell_type": "code",
      "metadata": {
        "id": "ob2AIDQ-Oc0j"
      },
      "source": [
        "%%time\n",
        "svm_clf.fit(X_train, y_train)"
      ],
      "execution_count": null,
      "outputs": []
    },
    {
      "cell_type": "code",
      "metadata": {
        "id": "3_NXm6fgUlRl"
      },
      "source": [
        "%%time\n",
        "y_pred = svm_clf.predict(X_val)"
      ],
      "execution_count": null,
      "outputs": []
    },
    {
      "cell_type": "code",
      "metadata": {
        "id": "wrz8TkFrWT3d"
      },
      "source": [
        "accuracy_score(y_val, y_pred)"
      ],
      "execution_count": null,
      "outputs": []
    },
    {
      "cell_type": "code",
      "metadata": {
        "id": "L_h3a6zJWjqd"
      },
      "source": [
        "precision_score(y_val, y_pred)"
      ],
      "execution_count": null,
      "outputs": []
    },
    {
      "cell_type": "code",
      "metadata": {
        "id": "NBr3mEueWmSo"
      },
      "source": [
        "recall_score(y_val, y_pred)"
      ],
      "execution_count": null,
      "outputs": []
    },
    {
      "cell_type": "code",
      "metadata": {
        "id": "znIi2oR0WqHC"
      },
      "source": [
        "svm_clf = SVC(kernel=\"rbf\")"
      ],
      "execution_count": null,
      "outputs": []
    },
    {
      "cell_type": "code",
      "metadata": {
        "id": "O7sC9YgFWsqp"
      },
      "source": [
        "%%time\n",
        "svm_clf.fit(X_train, y_train)"
      ],
      "execution_count": null,
      "outputs": []
    },
    {
      "cell_type": "code",
      "metadata": {
        "id": "tn8p1k19XerL"
      },
      "source": [
        "%%time\n",
        "y_pred = svm_clf.predict(X_val)"
      ],
      "execution_count": null,
      "outputs": []
    },
    {
      "cell_type": "code",
      "metadata": {
        "id": "F-_4PWuEXhNi"
      },
      "source": [
        "accuracy_score(y_val, y_pred)"
      ],
      "execution_count": null,
      "outputs": []
    },
    {
      "cell_type": "code",
      "metadata": {
        "id": "ks2oWCxZXj3N"
      },
      "source": [
        "precision_score(y_val, y_pred)"
      ],
      "execution_count": null,
      "outputs": []
    },
    {
      "cell_type": "code",
      "metadata": {
        "id": "K9Css9WtXk19"
      },
      "source": [
        "recall_score(y_val, y_pred)"
      ],
      "execution_count": null,
      "outputs": []
    },
    {
      "cell_type": "markdown",
      "metadata": {
        "id": "cP7OJK5Pji5w"
      },
      "source": [
        "## **Predicción**"
      ]
    },
    {
      "cell_type": "code",
      "metadata": {
        "id": "CQ8si_gmjk3I"
      },
      "source": [
        "np.random.seed(1234)\n",
        "random_sample = np.random.choice(range(X_test.shape[0]), size=9)\n",
        "y_pred = svm_clf.predict(X_test[random_sample])"
      ],
      "execution_count": null,
      "outputs": []
    },
    {
      "cell_type": "code",
      "metadata": {
        "id": "S_7ZHyruj1L4"
      },
      "source": [
        "gen.visualize_subplot(\n",
        "    reshaped(X_test[random_sample], batch=True),\n",
        "    y_pred, (3, 3), (6, 6)\n",
        ")"
      ],
      "execution_count": null,
      "outputs": []
    },
    {
      "cell_type": "markdown",
      "metadata": {
        "id": "vN1Faz0_jehB"
      },
      "source": [
        "## **Validación**"
      ]
    },
    {
      "cell_type": "code",
      "metadata": {
        "id": "_oI9IElTOggJ"
      },
      "source": [
        "%%time\n",
        "y_pred = svm_clf.predict(X_test)"
      ],
      "execution_count": null,
      "outputs": []
    },
    {
      "cell_type": "code",
      "metadata": {
        "id": "64EBVmWZPHlc"
      },
      "source": [
        "conf_matrix = confusion_matrix(y_test, y_pred)"
      ],
      "execution_count": null,
      "outputs": []
    },
    {
      "cell_type": "code",
      "metadata": {
        "id": "M_y4EWnMQCRP"
      },
      "source": [
        "plt.matshow(conf_matrix, cmap=\"gray\")\n",
        "plt.show()"
      ],
      "execution_count": null,
      "outputs": []
    },
    {
      "cell_type": "code",
      "metadata": {
        "id": "mubk7E0wVa1a"
      },
      "source": [
        "accuracy_score(y_test, y_pred)"
      ],
      "execution_count": null,
      "outputs": []
    },
    {
      "cell_type": "code",
      "metadata": {
        "id": "V-gdjVg6V9Ju"
      },
      "source": [
        "recall_score(y_test, y_pred)"
      ],
      "execution_count": null,
      "outputs": []
    },
    {
      "cell_type": "code",
      "metadata": {
        "id": "CD4mBeLOkwjR"
      },
      "source": [
        "precision_score(y_test, y_pred)"
      ],
      "execution_count": null,
      "outputs": []
    },
    {
      "cell_type": "markdown",
      "metadata": {
        "id": "OvX5O2pZ2iGu"
      },
      "source": [
        "## **Trabajo Asíncrono**\n",
        "1. En primera instancia, utilizar [`GridSearch`](https://scikit-learn.org/stable/modules/generated/sklearn.model_selection.GridSearchCV.html) para determinar los mejores valores de los hiperparámetros. Para eso, averiguar sobre los siguientes hiperparámetros:\n",
        "    - `C`\n",
        "    - `kernel`\n",
        "\n",
        "2. Luego, realizar una clasificación multiclase sobre este mismo dataset con todas las clases utilizando un kernel `rbf`. Para el control de la complejidad, realice un [`GridSearch`](https://scikit-learn.org/stable/modules/generated/sklearn.model_selection.GridSearchCV.html) sobre el parámetro de regularización `C` dejando el `kernel` estático. Revisar la documentación de la Support Vector Machine [aquí](https://scikit-learn.org/stable/modules/generated/sklearn.svm.SVC.html#sklearn.svm.SVC)\n",
        "\n",
        "3. Finalmente, Comparar los resultados del mejor modelo obtenido en el segundo punto con un modelo de tipo `RandomForest` y con el modelo `Ensemble` que ud escoja. Para eso, leer el capítulo 7 del libro: **Geron*, A. (2019). Hands-On Machine Learning with Scikit-Learn and TensorFlow. Concepts, Tools, and Techniques to Build Intelligent Systems. O’Reilly Media, Inc.** Para la comparación utilice las métricas que se han venido trabajando en el curso y construya una curva de precisión y cobertura (precision-recall curve) para cada modelo."
      ]
    },
    {
      "cell_type": "code",
      "metadata": {
        "id": "2kSHbiS_4fAP"
      },
      "source": [
        ""
      ],
      "execution_count": null,
      "outputs": []
    }
  ]
}