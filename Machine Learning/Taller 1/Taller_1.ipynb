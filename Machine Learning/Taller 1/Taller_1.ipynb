{
 "cells": [
  {
   "cell_type": "markdown",
   "metadata": {},
   "source": [
    "![image](https://drive.google.com/u/0/uc?id=15DUc09hFGqR8qcpYiN1OajRNaASmiL6d&export=download)\n",
    "\n",
    "# **Taller No. 1 - ISIS4825**\n",
    "## **Proceso de Aprendizaje Automático e Introducción a la Clasificación**\n",
    "## **Contenido**\n",
    "1. [**Objetivos**](#id1)\n",
    "2. [**Problema**](#id2)\n",
    "3. [**Importando las librerías necesarias para el laboratorio**](#id3)\n",
    "4. [**Visualización y Análisis Exploratorio**](#id4)\n",
    "5. [**Preparación de los Datos**](#id5)\n",
    "6. [**Modelamiento**](#id6)\n",
    "7. [**Predicción**](#id7)\n",
    "8. [**Validación**](#id8)\n",
    "\n",
    "## **Objetivos**<a name=\"id1\"></a>\n",
    "## **Problema**<a name=\"id2\"></a>"
   ]
  },
  {
   "cell_type": "markdown",
   "metadata": {},
   "source": [
    "## **Importando las librerías necesarias para el laboratorio**<a name=\"id3\"></a>\n",
    "\n",
    "## **Visualización y Análisis Exploratorio**<a name=\"id4\"></a>\n",
    "\n",
    "## **Preparación de los Datos**<a name=\"id5\"></a>\n",
    "### **Tratamiento de Imágenes**\n",
    "\n",
    "## **Modelamiento**<a name=\"id6\"></a>\n",
    "### **K-Nearest-Neighbors**\n",
    "\n",
    "## **Predicción**<a name=\"id7\"></a>\n",
    "## **Validación**<a name=\"id8\"></a>"
   ]
  },
  {
   "cell_type": "code",
   "execution_count": null,
   "metadata": {},
   "outputs": [],
   "source": []
  }
 ],
 "metadata": {
  "kernelspec": {
   "display_name": "Python 3",
   "language": "python",
   "name": "python3"
  },
  "language_info": {
   "codemirror_mode": {
    "name": "ipython",
    "version": 3
   },
   "file_extension": ".py",
   "mimetype": "text/x-python",
   "name": "python",
   "nbconvert_exporter": "python",
   "pygments_lexer": "ipython3",
   "version": "3.8.5"
  }
 },
 "nbformat": 4,
 "nbformat_minor": 4
}
