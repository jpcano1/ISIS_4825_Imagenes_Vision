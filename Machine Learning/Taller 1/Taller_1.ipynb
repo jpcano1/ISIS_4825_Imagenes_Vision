{
  "nbformat": 4,
  "nbformat_minor": 0,
  "metadata": {
    "kernelspec": {
      "display_name": "Python 3",
      "language": "python",
      "name": "python3"
    },
    "language_info": {
      "codemirror_mode": {
        "name": "ipython",
        "version": 3
      },
      "file_extension": ".py",
      "mimetype": "text/x-python",
      "name": "python",
      "nbconvert_exporter": "python",
      "pygments_lexer": "ipython3",
      "version": "3.8.5"
    },
    "colab": {
      "name": "Taller_1.ipynb",
      "provenance": [],
      "collapsed_sections": []
    }
  },
  "cells": [
    {
      "cell_type": "markdown",
      "metadata": {
        "id": "SenAd9tDRtL6"
      },
      "source": [
        "![image](https://drive.google.com/u/0/uc?id=15DUc09hFGqR8qcpYiN1OajRNaASmiL6d&export=download)\n",
        "\n",
        "# **Taller No. 1 - ISIS4825**\n",
        "## **Proceso de Aprendizaje Automático e Introducción a la Clasificación**\n",
        "## **Contenido**\n",
        "1. [**Objetivos**](#id1)\n",
        "2. [**Problema**](#id2)\n",
        "3. [**Importando las librerías necesarias para el laboratorio**](#id3)\n",
        "4. [**Visualización y Análisis Exploratorio**](#id4)\n",
        "5. [**Preparación de los Datos**](#id5)\n",
        "6. [**Modelamiento**](#id6)\n",
        "7. [**Predicción**](#id7)\n",
        "8. [**Validación**](#id8)\n",
        "\n",
        "## **Objetivos**<a name=\"id1\"></a>\n",
        "- Familiarizarse con las librerías de Scikit-Learn y con el algoritmo de KNN\n",
        "- Resolver un problema de clasificación multiclase y tomar métricas de desempeño sobre este\n",
        "## **Problema**<a name=\"id2\"></a>"
      ]
    },
    {
      "cell_type": "markdown",
      "metadata": {
        "id": "a2-dS9koRtL7"
      },
      "source": [
        "## **Importando las librerías necesarias para el laboratorio**<a name=\"id3\"></a>"
      ]
    },
    {
      "cell_type": "code",
      "metadata": {
        "id": "6BnPKtL7b8Wz"
      },
      "source": [
        "from sklearn import datasets\n",
        "from sklearn.neighbors import KNeighborsClassifier\n",
        "from sklearn.model_selection import (train_test_split, ShuffleSplit, \n",
        "                                     cross_val_score, GridSearchCV)\n",
        "from sklearn.metrics import (precision_score, recall_score, confusion_matrix, \n",
        "                             accuracy_score, f1_score, roc_curve, \n",
        "                             precision_recall_curve)\n",
        "\n",
        "import utils.general as gen\n",
        "\n",
        "import numpy as np\n",
        "import pandas as pd\n",
        "\n",
        "import matplotlib.pyplot as plt\n",
        "plt.style.use(\"ggplot\")\n",
        "import seaborn as sns"
      ],
      "execution_count": null,
      "outputs": []
    },
    {
      "cell_type": "markdown",
      "metadata": {
        "id": "J-1Nr9qfaynJ"
      },
      "source": [
        "## **Visualización y Análisis Exploratorio**<a name=\"id4\"></a>\n",
        "- Vamos a hacer uso del Dataset `Fashion-MNIST` que consta de 10 clases:\n",
        "    0. T-Shirt/Top\n",
        "    1. Trouser\n",
        "    2. Pullover\n",
        "    3. Dress\n",
        "    4. Coat\n",
        "    5. Sandal\n",
        "    6. Shirt \n",
        "    7. Sneaker\n",
        "    8. Bag\n",
        "    9. Ankle Boot\n",
        "- De igual forma, el dataset tiene 70.000 imágenes en escala de rises con resolución 28x28. Sin embargo, las imágenes ya se encuentran aplanadas con tamaño ed vector 784."
      ]
    },
    {
      "cell_type": "code",
      "metadata": {
        "id": "IGhhg8x0cNFq"
      },
      "source": [
        "fashion_mnist = datasets.fetch_openml(\"Fashion-MNIST\")"
      ],
      "execution_count": null,
      "outputs": []
    },
    {
      "cell_type": "code",
      "metadata": {
        "id": "QlzWWnskcrq_"
      },
      "source": [
        "data, target = fashion_mnist.data, fashion_mnist.target"
      ],
      "execution_count": null,
      "outputs": []
    },
    {
      "cell_type": "code",
      "metadata": {
        "id": "auxFWqN-dGus",
        "outputId": "8d8b7e37-3e78-418b-80f3-b20e90b1a086",
        "colab": {
          "base_uri": "https://localhost:8080/",
          "height": 34
        }
      },
      "source": [
        "data.shape, target.shape"
      ],
      "execution_count": null,
      "outputs": [
        {
          "output_type": "execute_result",
          "data": {
            "text/plain": [
              "((70000, 784), (70000,))"
            ]
          },
          "metadata": {
            "tags": []
          },
          "execution_count": 6
        }
      ]
    },
    {
      "cell_type": "code",
      "metadata": {
        "id": "1agKeVhm5CM0",
        "outputId": "6c0a5bfd-1fd2-4a0e-a906-a84bec301551",
        "colab": {
          "base_uri": "https://localhost:8080/",
          "height": 374
        }
      },
      "source": [
        "random_sample = np.random.choice(np.arange(len(data)), 9)\n",
        "gen.visualize_subplot(\n",
        "    data[random_sample].reshape(-1, 28, 28),\n",
        "    target[random_sample],  (3, 3), (6, 6)\n",
        ")"
      ],
      "execution_count": null,
      "outputs": [
        {
          "output_type": "display_data",
          "data": {
            "image/png": "[encoded data removed]",
            "text/plain": [
              "<Figure size 432x432 with 9 Axes>"
            ]
          },
          "metadata": {
            "tags": []
          }
        }
      ]
    },
    {
      "cell_type": "code",
      "metadata": {
        "id": "p1T854QK5w77",
        "outputId": "0cbd9015-44b6-4e12-966f-1e74c47ea92e",
        "colab": {
          "base_uri": "https://localhost:8080/",
          "height": 374
        }
      },
      "source": [
        "random_sample = np.random.choice(np.arange(len(data)), 9)\n",
        "gen.visualize_subplot(\n",
        "    data[random_sample].reshape(-1, 28, 28),\n",
        "    target[random_sample],  (3, 3), (6, 6)\n",
        ")"
      ],
      "execution_count": null,
      "outputs": [
        {
          "output_type": "display_data",
          "data": {
            "image/png": "[encoded data removed]",
            "text/plain": [
              "<Figure size 432x432 with 9 Axes>"
            ]
          },
          "metadata": {
            "tags": []
          }
        }
      ]
    },
    {
      "cell_type": "code",
      "metadata": {
        "id": "yh4PT97c7wtr"
      },
      "source": [
        "target_classes = [\"T-Shirt/Top\", \"Trouser\", \"Pullover\", \"Dress\", \n",
        "                  \"Coat\", \"Sandal\", \"Shirt\", \"Sneaker\", \"Bag\", \"Ankle Boot\"]"
      ],
      "execution_count": null,
      "outputs": []
    },
    {
      "cell_type": "code",
      "metadata": {
        "id": "T8tlKKIE7HrE"
      },
      "source": [
        "target_distribution = pd.Series(target).value_counts().sort_index()\n",
        "target_distribution.index = target_classes"
      ],
      "execution_count": null,
      "outputs": []
    },
    {
      "cell_type": "code",
      "metadata": {
        "id": "34fORFSH8OMd",
        "outputId": "1d19ce1e-792b-42c5-88fc-ae0abfb1f88c",
        "colab": {
          "base_uri": "https://localhost:8080/",
          "height": 204
        }
      },
      "source": [
        "target_distribution"
      ],
      "execution_count": null,
      "outputs": [
        {
          "output_type": "execute_result",
          "data": {
            "text/plain": [
              "T-Shirt/Top    7000\n",
              "Trouser        7000\n",
              "Pullover       7000\n",
              "Dress          7000\n",
              "Coat           7000\n",
              "Sandal         7000\n",
              "Shirt          7000\n",
              "Sneaker        7000\n",
              "Bag            7000\n",
              "Ankle Boot     7000\n",
              "dtype: int64"
            ]
          },
          "metadata": {
            "tags": []
          },
          "execution_count": 11
        }
      ]
    },
    {
      "cell_type": "markdown",
      "metadata": {
        "id": "LIdc1cZ3a09O"
      },
      "source": [
        "## **Preparación de los Datos**<a name=\"id5\"></a>\n",
        "- Dado que estamos trabajando con modelos de Machine Learning superficial, vamos a necesitar que todas nuestras imágenes sean convertidas a vectores, si es que aún no lo son.\n",
        "\n",
        "### **Tratamiento de Imágenes**\n",
        "- En este caso, nuestras imágenes son vectores, sin embargo vamos a ver cómo hacer su transformación vector-imagen e imagen-vector"
      ]
    },
    {
      "cell_type": "code",
      "metadata": {
        "id": "1E_f9YVR9MnQ"
      },
      "source": [
        "sample_img = data[0].reshape(28, 28)\n",
        "sample_target = target[0]"
      ],
      "execution_count": null,
      "outputs": []
    },
    {
      "cell_type": "code",
      "metadata": {
        "id": "vU-RdiCs9QO4",
        "outputId": "1fa34c3c-7f69-474a-bb47-b698721c83b7",
        "colab": {
          "base_uri": "https://localhost:8080/",
          "height": 248
        }
      },
      "source": [
        "gen.imshow(sample_img, color=False)"
      ],
      "execution_count": null,
      "outputs": [
        {
          "output_type": "display_data",
          "data": {
            "image/png": "[encoded data removed]",
            "text/plain": [
              "<Figure size 432x288 with 1 Axes>"
            ]
          },
          "metadata": {
            "tags": []
          }
        }
      ]
    },
    {
      "cell_type": "code",
      "metadata": {
        "id": "sFH2Gopm-JYl",
        "outputId": "6c489736-9658-4fba-fc0d-90e2b5165846",
        "colab": {
          "base_uri": "https://localhost:8080/",
          "height": 34
        }
      },
      "source": [
        "sample_img.shape"
      ],
      "execution_count": null,
      "outputs": [
        {
          "output_type": "execute_result",
          "data": {
            "text/plain": [
              "(28, 28)"
            ]
          },
          "metadata": {
            "tags": []
          },
          "execution_count": 14
        }
      ]
    },
    {
      "cell_type": "code",
      "metadata": {
        "id": "IOguFqLu_eZP"
      },
      "source": [
        "sample_img = sample_img.flatten()"
      ],
      "execution_count": null,
      "outputs": []
    },
    {
      "cell_type": "code",
      "metadata": {
        "id": "Qq2aCs-v_rPL",
        "outputId": "4edd28a1-b1cf-4d82-9218-91680e6d5837",
        "colab": {
          "base_uri": "https://localhost:8080/",
          "height": 34
        }
      },
      "source": [
        "sample_img.shape"
      ],
      "execution_count": null,
      "outputs": [
        {
          "output_type": "execute_result",
          "data": {
            "text/plain": [
              "(784,)"
            ]
          },
          "metadata": {
            "tags": []
          },
          "execution_count": 16
        }
      ]
    },
    {
      "cell_type": "markdown",
      "metadata": {
        "id": "gBNcJ5d7_3oR"
      },
      "source": [
        "### **Train Set, Validation Set, Test Set**\n",
        "- Generalmente, en el mundo del computer vision, se hace la siguiente partición de datasets:\n",
        "    - Train Data:\n",
        "        - Train Set\n",
        "        - Validation Set\n",
        "    - Test Data:\n",
        "        - Test Set\n",
        "- La partición de los datasets la podemos hacer de varias formas, pero en esta ocasión veremos la partición por índices y por contenido.\n",
        "\n",
        "#### **Partición por Índice**\n",
        "- Buscamos dividir nuestro dataset a partir de sus índices."
      ]
    },
    {
      "cell_type": "code",
      "metadata": {
        "id": "Pjd3IfxWFQr8"
      },
      "source": [
        "rnd_data = np.random.choice(np.arange(len(data)), 10000)\n",
        "full_data = data.copy()\n",
        "full_target = target.copy()\n",
        "data = data[rnd_data]\n",
        "target = target[rnd_data]"
      ],
      "execution_count": null,
      "outputs": []
    },
    {
      "cell_type": "markdown",
      "metadata": {
        "id": "1gomDeVj2jnK"
      },
      "source": [
        "- Aquí usamos el `random_state` para definir una semilla de aleatoriedad para que los grupos generados se mantengan siempre."
      ]
    },
    {
      "cell_type": "code",
      "metadata": {
        "id": "3iE3hK2wAUdl"
      },
      "source": [
        "ss_full_train_test = ShuffleSplit(n_splits=10, test_size=0.2, random_state=1234)"
      ],
      "execution_count": null,
      "outputs": []
    },
    {
      "cell_type": "code",
      "metadata": {
        "id": "R7gowYCxDHTv"
      },
      "source": [
        "for full_train_index, test_index in ss_full_train_test.split(data):\n",
        "    pass"
      ],
      "execution_count": null,
      "outputs": []
    },
    {
      "cell_type": "code",
      "metadata": {
        "id": "GGEKr8myDMdD",
        "outputId": "80d9133a-2d66-484d-f59c-b13a25647835",
        "colab": {
          "base_uri": "https://localhost:8080/",
          "height": 34
        }
      },
      "source": [
        "full_train_index"
      ],
      "execution_count": null,
      "outputs": [
        {
          "output_type": "execute_result",
          "data": {
            "text/plain": [
              "array([ 155, 3130, 5727, ..., 7948, 1064, 1750])"
            ]
          },
          "metadata": {
            "tags": []
          },
          "execution_count": 81
        }
      ]
    },
    {
      "cell_type": "code",
      "metadata": {
        "id": "9S0cHvacDNw5",
        "outputId": "8089af20-8a66-4913-d6a5-20e574d6adae",
        "colab": {
          "base_uri": "https://localhost:8080/",
          "height": 34
        }
      },
      "source": [
        "test_index"
      ],
      "execution_count": null,
      "outputs": [
        {
          "output_type": "execute_result",
          "data": {
            "text/plain": [
              "array([6899,  214, 5124, ..., 9211, 9399, 9295])"
            ]
          },
          "metadata": {
            "tags": []
          },
          "execution_count": 82
        }
      ]
    },
    {
      "cell_type": "code",
      "metadata": {
        "id": "gLu1jc0jEGM0"
      },
      "source": [
        "full_train_set, test_set = ((data[full_train_index], target[full_train_index]), \n",
        "                            (data[test_index], target[test_index]))"
      ],
      "execution_count": null,
      "outputs": []
    },
    {
      "cell_type": "code",
      "metadata": {
        "id": "oX4yKr2jD6u2"
      },
      "source": [
        "ss_train_val = ShuffleSplit(n_splits=10, test_size=0.2, random_state=5678)"
      ],
      "execution_count": null,
      "outputs": []
    },
    {
      "cell_type": "code",
      "metadata": {
        "id": "2QYUrn5GEBCY"
      },
      "source": [
        "for train_index, val_index in ss_train_val.split(full_train_set[0]):\n",
        "    pass"
      ],
      "execution_count": null,
      "outputs": []
    },
    {
      "cell_type": "code",
      "metadata": {
        "id": "6BmNCiLFFQHD"
      },
      "source": [
        "train_set, val_set = ((full_train_set[0][train_index], full_train_set[1][train_index]), \n",
        "                      (full_train_set[0][val_index], full_train_set[1][val_index]))"
      ],
      "execution_count": null,
      "outputs": []
    },
    {
      "cell_type": "code",
      "metadata": {
        "id": "rvyDHWq3Fghq"
      },
      "source": [
        "X_train, y_train = train_set[0], train_set[1]\n",
        "X_val, y_val = val_set[0], val_set[1]\n",
        "X_test, y_test = test_set[0], test_set[1]"
      ],
      "execution_count": null,
      "outputs": []
    },
    {
      "cell_type": "code",
      "metadata": {
        "id": "YDrwl4TDFtZy",
        "outputId": "ea5676a8-b7b8-40a1-ea52-f97bffc75035",
        "colab": {
          "base_uri": "https://localhost:8080/",
          "height": 34
        }
      },
      "source": [
        "X_train.shape, y_train.shape"
      ],
      "execution_count": null,
      "outputs": [
        {
          "output_type": "execute_result",
          "data": {
            "text/plain": [
              "((6400, 784), (6400,))"
            ]
          },
          "metadata": {
            "tags": []
          },
          "execution_count": 88
        }
      ]
    },
    {
      "cell_type": "code",
      "metadata": {
        "id": "JjG6ShXNFxVH",
        "outputId": "988253f8-a9d2-460f-b627-4008faa72a9b",
        "colab": {
          "base_uri": "https://localhost:8080/",
          "height": 34
        }
      },
      "source": [
        "X_val.shape, y_val.shape"
      ],
      "execution_count": null,
      "outputs": [
        {
          "output_type": "execute_result",
          "data": {
            "text/plain": [
              "((1600, 784), (1600,))"
            ]
          },
          "metadata": {
            "tags": []
          },
          "execution_count": 89
        }
      ]
    },
    {
      "cell_type": "code",
      "metadata": {
        "id": "M0btHvcfF0Pd",
        "outputId": "92934242-d880-477e-8147-263aa308ced8",
        "colab": {
          "base_uri": "https://localhost:8080/",
          "height": 34
        }
      },
      "source": [
        "X_test.shape, y_test.shape"
      ],
      "execution_count": null,
      "outputs": [
        {
          "output_type": "execute_result",
          "data": {
            "text/plain": [
              "((2000, 784), (2000,))"
            ]
          },
          "metadata": {
            "tags": []
          },
          "execution_count": 90
        }
      ]
    },
    {
      "cell_type": "markdown",
      "metadata": {
        "id": "4j5YUi0i2_PM"
      },
      "source": [
        "- Generemos una muestra de imágenes por cada set generado."
      ]
    },
    {
      "cell_type": "code",
      "metadata": {
        "id": "AUt-yQ9NGW0H",
        "outputId": "3a1eef32-5fe9-4d54-c445-dd2bdbf45648",
        "colab": {
          "base_uri": "https://localhost:8080/",
          "height": 374
        }
      },
      "source": [
        "random_sample = np.random.choice(np.arange(len(X_train)), 9)\n",
        "gen.visualize_subplot(\n",
        "    X_train[random_sample].reshape(-1, 28, 28),\n",
        "    y_train[random_sample],  (3, 3), (6, 6)\n",
        ")"
      ],
      "execution_count": null,
      "outputs": [
        {
          "output_type": "display_data",
          "data": {
            "image/png": "[encoded data removed]",
            "text/plain": [
              "<Figure size 432x432 with 9 Axes>"
            ]
          },
          "metadata": {
            "tags": []
          }
        }
      ]
    },
    {
      "cell_type": "code",
      "metadata": {
        "id": "XY1NnYsWGyIx",
        "outputId": "48badcca-8c11-4430-9260-04db7f2ed490",
        "colab": {
          "base_uri": "https://localhost:8080/",
          "height": 374
        }
      },
      "source": [
        "random_sample = np.random.choice(np.arange(len(X_val)), 9)\n",
        "gen.visualize_subplot(\n",
        "    X_val[random_sample].reshape(-1, 28, 28),\n",
        "    y_val[random_sample],  (3, 3), (6, 6)\n",
        ")"
      ],
      "execution_count": null,
      "outputs": [
        {
          "output_type": "display_data",
          "data": {
            "image/png": "[encoded data removed]",
            "text/plain": [
              "<Figure size 432x432 with 9 Axes>"
            ]
          },
          "metadata": {
            "tags": []
          }
        }
      ]
    },
    {
      "cell_type": "code",
      "metadata": {
        "id": "xngq2dD0G8ig",
        "outputId": "80e1d3fc-60da-4258-aadf-e9e783517a0f",
        "colab": {
          "base_uri": "https://localhost:8080/",
          "height": 374
        }
      },
      "source": [
        "random_sample = np.random.choice(np.arange(len(X_test)), 9)\n",
        "gen.visualize_subplot(\n",
        "    X_test[random_sample].reshape(-1, 28, 28),\n",
        "    y_test[random_sample],  (3, 3), (6, 6)\n",
        ")"
      ],
      "execution_count": null,
      "outputs": [
        {
          "output_type": "display_data",
          "data": {
            "image/png": "[encoded data removed]",
            "text/plain": [
              "<Figure size 432x432 with 9 Axes>"
            ]
          },
          "metadata": {
            "tags": []
          }
        }
      ]
    },
    {
      "cell_type": "markdown",
      "metadata": {
        "id": "_bMIfi0bJXoW"
      },
      "source": [
        "#### **Partición por Contenido**\n",
        "- Aquí no buscamos partir nuestro dataset a partir de los índices que contiene, sino por el cuerpo de la data."
      ]
    },
    {
      "cell_type": "code",
      "metadata": {
        "id": "WgXR6nlkJUtR"
      },
      "source": [
        "full_X_train, X_test, full_y_train, y_test = train_test_split(data, target, \n",
        "                                                              test_size=0.2, \n",
        "                                                              random_state=1234)"
      ],
      "execution_count": null,
      "outputs": []
    },
    {
      "cell_type": "code",
      "metadata": {
        "id": "DYB248E0KVG1"
      },
      "source": [
        "X_train, X_val, y_train, y_val = train_test_split(full_X_train, full_y_train, \n",
        "                                                  test_size=0.2, \n",
        "                                                  random_state=1234)"
      ],
      "execution_count": null,
      "outputs": []
    },
    {
      "cell_type": "code",
      "metadata": {
        "id": "KIaJJt81KqLn",
        "outputId": "f5dd347d-759c-429a-b16d-a876692c7ed5",
        "colab": {
          "base_uri": "https://localhost:8080/",
          "height": 374
        }
      },
      "source": [
        "random_sample = np.random.choice(np.arange(len(X_train)), 9)\n",
        "gen.visualize_subplot(\n",
        "    X_train[random_sample].reshape(-1, 28, 28),\n",
        "    y_train[random_sample],  (3, 3), (6, 6)\n",
        ")"
      ],
      "execution_count": null,
      "outputs": [
        {
          "output_type": "display_data",
          "data": {
            "image/png": "[encoded data removed]",
            "text/plain": [
              "<Figure size 432x432 with 9 Axes>"
            ]
          },
          "metadata": {
            "tags": []
          }
        }
      ]
    },
    {
      "cell_type": "code",
      "metadata": {
        "id": "CFCKzZTvK32t",
        "outputId": "4ba99767-9e55-4588-f5db-29063b8daaa8",
        "colab": {
          "base_uri": "https://localhost:8080/",
          "height": 374
        }
      },
      "source": [
        "random_sample = np.random.choice(np.arange(len(X_val)), 9)\n",
        "gen.visualize_subplot(\n",
        "    X_val[random_sample].reshape(-1, 28, 28),\n",
        "    y_val[random_sample],  (3, 3), (6, 6)\n",
        ")"
      ],
      "execution_count": null,
      "outputs": [
        {
          "output_type": "display_data",
          "data": {
            "image/png": "[encoded data removed]",
            "text/plain": [
              "<Figure size 432x432 with 9 Axes>"
            ]
          },
          "metadata": {
            "tags": []
          }
        }
      ]
    },
    {
      "cell_type": "code",
      "metadata": {
        "id": "OPTbKOtmK8OX",
        "outputId": "4e97855c-2e4b-4b79-cc0a-35530096516f",
        "colab": {
          "base_uri": "https://localhost:8080/",
          "height": 374
        }
      },
      "source": [
        "random_sample = np.random.choice(np.arange(len(X_test)), 9)\n",
        "gen.visualize_subplot(\n",
        "    X_test[random_sample].reshape(-1, 28, 28),\n",
        "    y_test[random_sample],  (3, 3), (6, 6)\n",
        ")"
      ],
      "execution_count": null,
      "outputs": [
        {
          "output_type": "display_data",
          "data": {
            "image/png": "[encoded data removed]",
            "text/plain": [
              "<Figure size 432x432 with 9 Axes>"
            ]
          },
          "metadata": {
            "tags": []
          }
        }
      ]
    },
    {
      "cell_type": "markdown",
      "metadata": {
        "id": "W4UjOaAYbFPY"
      },
      "source": [
        "## **Modelamiento**<a name=\"id6\"></a>\n",
        "- A la hora de modelar los datos, buscamos un algoritmo que generalice la forma como los datos se comportan y con base a ello, pueda generar predicciones.\n",
        "\n",
        "### **K-Nearest-Neighbors**\n",
        "- En este caso, vamos a utilizar un algoritmo de modelado no lineal basado en vecindades o *neighborhoods*. Se trata de *K-Nearest Neighbors*.\n",
        "\n",
        "![image](https://miro.medium.com/max/3544/1*4F-q86XFr2-EsaAcz0Zu5A.png)\n",
        "\n",
        "> Tomado de [Towards Data Science](https://towardsdatascience.com/k-nearest-neighbor-python-2fccc47d2a55)\n",
        "\n",
        "- Este espacio lo tomamos, generalmente, para buscar algoritmos que puedan ser usados para modelar, y una vez encontrados, exploramos los hiperparámetros que podamos usar para mejorar los resultados de nuestros algoritmos."
      ]
    },
    {
      "cell_type": "code",
      "metadata": {
        "id": "LwURGKS25uDr"
      },
      "source": [
        "KNeighborsClassifier?"
      ],
      "execution_count": null,
      "outputs": []
    },
    {
      "cell_type": "code",
      "metadata": {
        "id": "oqNktuMbNAcJ"
      },
      "source": [
        "knn_clf = KNeighborsClassifier(n_jobs=-1)"
      ],
      "execution_count": null,
      "outputs": []
    },
    {
      "cell_type": "code",
      "metadata": {
        "id": "O9z6B97fNOvZ",
        "outputId": "e8a46dea-b902-47fd-fd6a-ef7b2c65e72a",
        "colab": {
          "base_uri": "https://localhost:8080/",
          "height": 68
        }
      },
      "source": [
        "knn_clf.fit(X_train, y_train)"
      ],
      "execution_count": null,
      "outputs": [
        {
          "output_type": "execute_result",
          "data": {
            "text/plain": [
              "KNeighborsClassifier(algorithm='auto', leaf_size=30, metric='minkowski',\n",
              "                     metric_params=None, n_jobs=-1, n_neighbors=5, p=2,\n",
              "                     weights='uniform')"
            ]
          },
          "metadata": {
            "tags": []
          },
          "execution_count": 158
        }
      ]
    },
    {
      "cell_type": "markdown",
      "metadata": {
        "id": "02kqqiUEbI8n"
      },
      "source": [
        "## **Predicción**<a name=\"id7\"></a>\n",
        "- En esta etapa nos concentramos en hacer nuestras predicciones y validarlas con el ojo."
      ]
    },
    {
      "cell_type": "code",
      "metadata": {
        "id": "JhUFqcSMO6en"
      },
      "source": [
        "random_sample = np.random.choice(np.arange(len(X_test)), 9)\n",
        "y_pred = knn_clf.predict(X_test[random_sample])"
      ],
      "execution_count": null,
      "outputs": []
    },
    {
      "cell_type": "code",
      "metadata": {
        "id": "rn8sNJ1d89Ah",
        "outputId": "d319e411-e158-4d19-afad-fdb1eb58e8d5",
        "colab": {
          "base_uri": "https://localhost:8080/",
          "height": 374
        }
      },
      "source": [
        "gen.visualize_subplot(\n",
        "    X_test[random_sample].reshape(-1, 28, 28),\n",
        "    y_pred, (3, 3), (6, 6)\n",
        ")"
      ],
      "execution_count": null,
      "outputs": [
        {
          "output_type": "display_data",
          "data": {
            "image/png": "[encoded data removed]",
            "text/plain": [
              "<Figure size 432x432 with 9 Axes>"
            ]
          },
          "metadata": {
            "tags": []
          }
        }
      ]
    },
    {
      "cell_type": "markdown",
      "metadata": {
        "id": "ar7LQHP0bLWp"
      },
      "source": [
        "## **Validación**<a name=\"id8\"></a>\n",
        "- En esta etapa de evaluación realizamos el proceso de toma de métricas. Por lo tanto, dado que estamos resolviendo un problema de clasificación, vamos a usar la matriz de confusión y las siguientes métricas globales:\n",
        "\n",
        "- Precision: $\\frac{TP}{TP + FP}$\n",
        "\n",
        "- Cobertura: $\\frac{TP}{TP + FN}$ (Recall, Sensitivity)\n",
        "\n",
        "- Accuracy score: $\\frac{TP + TN}{TP + TN + FP + FN}$\n",
        "\n",
        "- F1 score: $\\frac{TP}{TP + \\frac{FN + FP}{2}}$ (Harmonic Mean)"
      ]
    },
    {
      "cell_type": "code",
      "metadata": {
        "id": "cN5lWCNT9sFl"
      },
      "source": [
        "y_pred = knn_clf.predict(X_test)"
      ],
      "execution_count": null,
      "outputs": []
    },
    {
      "cell_type": "code",
      "metadata": {
        "id": "KWp7yoN6RtL8"
      },
      "source": [
        "conf_matrix = confusion_matrix(y_test, y_pred)"
      ],
      "execution_count": null,
      "outputs": []
    },
    {
      "cell_type": "code",
      "metadata": {
        "id": "wTV3vA-D9YqD",
        "outputId": "96dc6c0b-614c-4f67-8520-1705e787e4ce",
        "colab": {
          "base_uri": "https://localhost:8080/",
          "height": 359
        }
      },
      "source": [
        "pd.DataFrame(conf_matrix)"
      ],
      "execution_count": null,
      "outputs": [
        {
          "output_type": "execute_result",
          "data": {
            "text/html": [
              "<div>\n",
              "<style scoped>\n",
              "    .dataframe tbody tr th:only-of-type {\n",
              "        vertical-align: middle;\n",
              "    }\n",
              "\n",
              "    .dataframe tbody tr th {\n",
              "        vertical-align: top;\n",
              "    }\n",
              "\n",
              "    .dataframe thead th {\n",
              "        text-align: right;\n",
              "    }\n",
              "</style>\n",
              "<table border=\"1\" class=\"dataframe\">\n",
              "  <thead>\n",
              "    <tr style=\"text-align: right;\">\n",
              "      <th></th>\n",
              "      <th>0</th>\n",
              "      <th>1</th>\n",
              "      <th>2</th>\n",
              "      <th>3</th>\n",
              "      <th>4</th>\n",
              "      <th>5</th>\n",
              "      <th>6</th>\n",
              "      <th>7</th>\n",
              "      <th>8</th>\n",
              "      <th>9</th>\n",
              "    </tr>\n",
              "  </thead>\n",
              "  <tbody>\n",
              "    <tr>\n",
              "      <th>0</th>\n",
              "      <td>175</td>\n",
              "      <td>1</td>\n",
              "      <td>10</td>\n",
              "      <td>5</td>\n",
              "      <td>0</td>\n",
              "      <td>0</td>\n",
              "      <td>11</td>\n",
              "      <td>0</td>\n",
              "      <td>0</td>\n",
              "      <td>0</td>\n",
              "    </tr>\n",
              "    <tr>\n",
              "      <th>1</th>\n",
              "      <td>0</td>\n",
              "      <td>181</td>\n",
              "      <td>2</td>\n",
              "      <td>5</td>\n",
              "      <td>0</td>\n",
              "      <td>0</td>\n",
              "      <td>0</td>\n",
              "      <td>0</td>\n",
              "      <td>0</td>\n",
              "      <td>0</td>\n",
              "    </tr>\n",
              "    <tr>\n",
              "      <th>2</th>\n",
              "      <td>4</td>\n",
              "      <td>0</td>\n",
              "      <td>154</td>\n",
              "      <td>1</td>\n",
              "      <td>21</td>\n",
              "      <td>0</td>\n",
              "      <td>28</td>\n",
              "      <td>0</td>\n",
              "      <td>0</td>\n",
              "      <td>0</td>\n",
              "    </tr>\n",
              "    <tr>\n",
              "      <th>3</th>\n",
              "      <td>13</td>\n",
              "      <td>2</td>\n",
              "      <td>3</td>\n",
              "      <td>150</td>\n",
              "      <td>11</td>\n",
              "      <td>0</td>\n",
              "      <td>4</td>\n",
              "      <td>0</td>\n",
              "      <td>3</td>\n",
              "      <td>0</td>\n",
              "    </tr>\n",
              "    <tr>\n",
              "      <th>4</th>\n",
              "      <td>3</td>\n",
              "      <td>1</td>\n",
              "      <td>23</td>\n",
              "      <td>5</td>\n",
              "      <td>142</td>\n",
              "      <td>0</td>\n",
              "      <td>22</td>\n",
              "      <td>0</td>\n",
              "      <td>1</td>\n",
              "      <td>0</td>\n",
              "    </tr>\n",
              "    <tr>\n",
              "      <th>5</th>\n",
              "      <td>1</td>\n",
              "      <td>0</td>\n",
              "      <td>0</td>\n",
              "      <td>0</td>\n",
              "      <td>0</td>\n",
              "      <td>159</td>\n",
              "      <td>3</td>\n",
              "      <td>45</td>\n",
              "      <td>0</td>\n",
              "      <td>13</td>\n",
              "    </tr>\n",
              "    <tr>\n",
              "      <th>6</th>\n",
              "      <td>51</td>\n",
              "      <td>1</td>\n",
              "      <td>30</td>\n",
              "      <td>3</td>\n",
              "      <td>10</td>\n",
              "      <td>0</td>\n",
              "      <td>89</td>\n",
              "      <td>0</td>\n",
              "      <td>2</td>\n",
              "      <td>0</td>\n",
              "    </tr>\n",
              "    <tr>\n",
              "      <th>7</th>\n",
              "      <td>0</td>\n",
              "      <td>0</td>\n",
              "      <td>0</td>\n",
              "      <td>0</td>\n",
              "      <td>0</td>\n",
              "      <td>1</td>\n",
              "      <td>0</td>\n",
              "      <td>182</td>\n",
              "      <td>0</td>\n",
              "      <td>12</td>\n",
              "    </tr>\n",
              "    <tr>\n",
              "      <th>8</th>\n",
              "      <td>1</td>\n",
              "      <td>0</td>\n",
              "      <td>8</td>\n",
              "      <td>1</td>\n",
              "      <td>2</td>\n",
              "      <td>2</td>\n",
              "      <td>2</td>\n",
              "      <td>3</td>\n",
              "      <td>204</td>\n",
              "      <td>1</td>\n",
              "    </tr>\n",
              "    <tr>\n",
              "      <th>9</th>\n",
              "      <td>0</td>\n",
              "      <td>0</td>\n",
              "      <td>0</td>\n",
              "      <td>0</td>\n",
              "      <td>0</td>\n",
              "      <td>0</td>\n",
              "      <td>1</td>\n",
              "      <td>5</td>\n",
              "      <td>0</td>\n",
              "      <td>187</td>\n",
              "    </tr>\n",
              "  </tbody>\n",
              "</table>\n",
              "</div>"
            ],
            "text/plain": [
              "     0    1    2    3    4    5   6    7    8    9\n",
              "0  175    1   10    5    0    0  11    0    0    0\n",
              "1    0  181    2    5    0    0   0    0    0    0\n",
              "2    4    0  154    1   21    0  28    0    0    0\n",
              "3   13    2    3  150   11    0   4    0    3    0\n",
              "4    3    1   23    5  142    0  22    0    1    0\n",
              "5    1    0    0    0    0  159   3   45    0   13\n",
              "6   51    1   30    3   10    0  89    0    2    0\n",
              "7    0    0    0    0    0    1   0  182    0   12\n",
              "8    1    0    8    1    2    2   2    3  204    1\n",
              "9    0    0    0    0    0    0   1    5    0  187"
            ]
          },
          "metadata": {
            "tags": []
          },
          "execution_count": 163
        }
      ]
    },
    {
      "cell_type": "code",
      "metadata": {
        "id": "4rU9QmOIkdb7",
        "outputId": "7a3b8336-b0ae-46a7-e867-98303a39915a",
        "colab": {
          "base_uri": "https://localhost:8080/",
          "height": 275
        }
      },
      "source": [
        "plt.matshow(conf_matrix, cmap=\"gray\")\n",
        "plt.grid(0)\n",
        "plt.show()"
      ],
      "execution_count": null,
      "outputs": [
        {
          "output_type": "display_data",
          "data": {
            "image/png": "[encoded data removed]",
            "text/plain": [
              "<Figure size 288x288 with 1 Axes>"
            ]
          },
          "metadata": {
            "tags": []
          }
        }
      ]
    },
    {
      "cell_type": "code",
      "metadata": {
        "id": "femTRpn3mXaH",
        "outputId": "c93022da-375c-4173-abfb-95d0a70b0b48",
        "colab": {
          "base_uri": "https://localhost:8080/",
          "height": 34
        }
      },
      "source": [
        "np.trace(conf_matrix)"
      ],
      "execution_count": null,
      "outputs": [
        {
          "output_type": "execute_result",
          "data": {
            "text/plain": [
              "1623"
            ]
          },
          "metadata": {
            "tags": []
          },
          "execution_count": 168
        }
      ]
    },
    {
      "cell_type": "code",
      "metadata": {
        "id": "h_SVf13XmfvZ"
      },
      "source": [
        "norm_conf_mat = conf_matrix / conf_matrix.sum(axis=1, keepdims=True)\n",
        "np.fill_diagonal(norm_conf_mat, 0)"
      ],
      "execution_count": null,
      "outputs": []
    },
    {
      "cell_type": "code",
      "metadata": {
        "id": "pfEZuGBFm0c_",
        "outputId": "0d25d69b-c8d0-4b78-97ed-236e2473da45",
        "colab": {
          "base_uri": "https://localhost:8080/",
          "height": 275
        }
      },
      "source": [
        "plt.matshow(norm_conf_mat, cmap=\"gray\")\n",
        "plt.grid(0)\n",
        "plt.show()"
      ],
      "execution_count": null,
      "outputs": [
        {
          "output_type": "display_data",
          "data": {
            "image/png": "[encoded data removed]",
            "text/plain": [
              "<Figure size 288x288 with 1 Axes>"
            ]
          },
          "metadata": {
            "tags": []
          }
        }
      ]
    },
    {
      "cell_type": "code",
      "metadata": {
        "id": "Cme2d7xx9a3Y",
        "outputId": "a93659b5-2aba-42be-81f8-3170f2394a7d",
        "colab": {
          "base_uri": "https://localhost:8080/",
          "height": 34
        }
      },
      "source": [
        "accuracy_score(y_test, y_pred)"
      ],
      "execution_count": null,
      "outputs": [
        {
          "output_type": "execute_result",
          "data": {
            "text/plain": [
              "0.8115"
            ]
          },
          "metadata": {
            "tags": []
          },
          "execution_count": 181
        }
      ]
    },
    {
      "cell_type": "code",
      "metadata": {
        "id": "0IKl_eJC90P_",
        "outputId": "d9de5798-24f6-456c-c427-17670f09957b",
        "colab": {
          "base_uri": "https://localhost:8080/",
          "height": 34
        }
      },
      "source": [
        "precision_score(y_test, y_pred, average=\"weighted\")"
      ],
      "execution_count": null,
      "outputs": [
        {
          "output_type": "execute_result",
          "data": {
            "text/plain": [
              "0.8188520597177541"
            ]
          },
          "metadata": {
            "tags": []
          },
          "execution_count": 182
        }
      ]
    },
    {
      "cell_type": "code",
      "metadata": {
        "id": "Cqz6j3nkA8YN",
        "outputId": "9b1ac4ab-f678-4304-b5fb-9046694f4df6",
        "colab": {
          "base_uri": "https://localhost:8080/",
          "height": 34
        }
      },
      "source": [
        "recall_score(y_test, y_pred, average=\"weighted\")"
      ],
      "execution_count": null,
      "outputs": [
        {
          "output_type": "execute_result",
          "data": {
            "text/plain": [
              "0.8115"
            ]
          },
          "metadata": {
            "tags": []
          },
          "execution_count": 183
        }
      ]
    },
    {
      "cell_type": "code",
      "metadata": {
        "id": "TMnbLJLvHm_k",
        "outputId": "15125a4c-f12a-4834-bab6-c54b0c32f0bf",
        "colab": {
          "base_uri": "https://localhost:8080/",
          "height": 34
        }
      },
      "source": [
        "f1_score(y_test, y_pred, average=\"weighted\")"
      ],
      "execution_count": null,
      "outputs": [
        {
          "output_type": "execute_result",
          "data": {
            "text/plain": [
              "0.8103918457736391"
            ]
          },
          "metadata": {
            "tags": []
          },
          "execution_count": 184
        }
      ]
    },
    {
      "cell_type": "code",
      "metadata": {
        "id": "IaPFZms6B8Q3",
        "outputId": "7c20fab4-df12-46fd-aece-3693c95a77e2",
        "colab": {
          "base_uri": "https://localhost:8080/",
          "height": 34
        }
      },
      "source": [
        "cross_val_score(knn_clf, X_val, y_val, cv=4, scoring=\"accuracy\")"
      ],
      "execution_count": null,
      "outputs": [
        {
          "output_type": "execute_result",
          "data": {
            "text/plain": [
              "array([0.7675, 0.7425, 0.75  , 0.8   ])"
            ]
          },
          "metadata": {
            "tags": []
          },
          "execution_count": 185
        }
      ]
    },
    {
      "cell_type": "code",
      "metadata": {
        "id": "waa3IMWhID4k"
      },
      "source": [
        "param_grid = [\n",
        "    {\"n_neighbors\": np.arange(10, 51, 10), \"algorithm\": [\"auto\", \"ball_tree\", \n",
        "                                                         \"kd_tree\"]},\n",
        "    {\"weights\": [\"uniform\", \"distance\"]}\n",
        "]"
      ],
      "execution_count": null,
      "outputs": []
    },
    {
      "cell_type": "code",
      "metadata": {
        "id": "AjcaGtEwIpgd"
      },
      "source": [
        "grid_search = GridSearchCV(KNeighborsClassifier(), param_grid, scoring=\"accuracy\", \n",
        "                           cv=4, return_train_score=True)"
      ],
      "execution_count": null,
      "outputs": []
    },
    {
      "cell_type": "code",
      "metadata": {
        "id": "aLb2SA6AIrRK",
        "outputId": "988f78d1-a949-4776-c7d8-84397db7386b",
        "colab": {
          "base_uri": "https://localhost:8080/",
          "height": 221
        }
      },
      "source": [
        "grid_search.fit(X_val, y_val)"
      ],
      "execution_count": null,
      "outputs": [
        {
          "output_type": "execute_result",
          "data": {
            "text/plain": [
              "GridSearchCV(cv=4, error_score=nan,\n",
              "             estimator=KNeighborsClassifier(algorithm='auto', leaf_size=30,\n",
              "                                            metric='minkowski',\n",
              "                                            metric_params=None, n_jobs=None,\n",
              "                                            n_neighbors=5, p=2,\n",
              "                                            weights='uniform'),\n",
              "             iid='deprecated', n_jobs=None,\n",
              "             param_grid=[{'algorithm': ['auto', 'ball_tree', 'kd_tree'],\n",
              "                          'n_neighbors': array([10, 20, 30, 40, 50])},\n",
              "                         {'weights': ['uniform', 'distance']}],\n",
              "             pre_dispatch='2*n_jobs', refit=True, return_train_score=True,\n",
              "             scoring='accuracy', verbose=0)"
            ]
          },
          "metadata": {
            "tags": []
          },
          "execution_count": 188
        }
      ]
    },
    {
      "cell_type": "code",
      "metadata": {
        "id": "rr2kvXQqfXad",
        "outputId": "04c6c9d9-a102-4da8-b787-cf7c29d5fa0c",
        "colab": {
          "base_uri": "https://localhost:8080/",
          "height": 34
        }
      },
      "source": [
        "grid_search.best_score_"
      ],
      "execution_count": null,
      "outputs": [
        {
          "output_type": "execute_result",
          "data": {
            "text/plain": [
              "0.7699999999999999"
            ]
          },
          "metadata": {
            "tags": []
          },
          "execution_count": 189
        }
      ]
    },
    {
      "cell_type": "code",
      "metadata": {
        "id": "A3i2_a0Dguke"
      },
      "source": [
        "knn_clf = grid_search.best_estimator_"
      ],
      "execution_count": null,
      "outputs": []
    },
    {
      "cell_type": "code",
      "metadata": {
        "id": "E3lZXmRAg6l_"
      },
      "source": [
        "random_sample = np.random.choice(np.arange(len(X_test)), 9)\n",
        "y_pred = knn_clf.predict(X_test[random_sample])"
      ],
      "execution_count": null,
      "outputs": []
    },
    {
      "cell_type": "code",
      "metadata": {
        "id": "9JuYyMoUg_7Q",
        "outputId": "3727b804-4fdf-47e5-91f9-e89277d02f8f",
        "colab": {
          "base_uri": "https://localhost:8080/",
          "height": 374
        }
      },
      "source": [
        "gen.visualize_subplot(\n",
        "    X_test[random_sample].reshape(-1, 28, 28),\n",
        "    y_pred,  (3, 3), (6, 6)\n",
        ")"
      ],
      "execution_count": null,
      "outputs": [
        {
          "output_type": "display_data",
          "data": {
            "image/png": "[encoded data removed]",
            "text/plain": [
              "<Figure size 432x432 with 9 Axes>"
            ]
          },
          "metadata": {
            "tags": []
          }
        }
      ]
    },
    {
      "cell_type": "code",
      "metadata": {
        "id": "MWgG37OTq3Fu"
      },
      "source": [
        ""
      ],
      "execution_count": null,
      "outputs": []
    }
  ]
}