{
  "nbformat": 4,
  "nbformat_minor": 0,
  "metadata": {
    "colab": {
      "name": "Taller_11.ipynb",
      "provenance": [],
      "collapsed_sections": []
    },
    "kernelspec": {
      "name": "python3",
      "display_name": "Python 3"
    },
    "widgets": {
      "application/vnd.jupyter.widget-state+json": {
        "18978338a05749a3bba902af368e762b": {
          "model_module": "@jupyter-widgets/controls",
          "model_name": "HBoxModel",
          "state": {
            "_view_name": "HBoxView",
            "_dom_classes": [],
            "_model_name": "HBoxModel",
            "_view_module": "@jupyter-widgets/controls",
            "_model_module_version": "1.5.0",
            "_view_count": null,
            "_view_module_version": "1.5.0",
            "box_style": "",
            "layout": "IPY_MODEL_d194d0042642470c98f386d5cb5b0742",
            "_model_module": "@jupyter-widgets/controls",
            "children": [
              "IPY_MODEL_b597297f5e534f1bac8a5c6a70f8e67f",
              "IPY_MODEL_59f50211c1e64b27b862135ec323623c"
            ]
          }
        },
        "d194d0042642470c98f386d5cb5b0742": {
          "model_module": "@jupyter-widgets/base",
          "model_name": "LayoutModel",
          "state": {
            "_view_name": "LayoutView",
            "grid_template_rows": null,
            "right": null,
            "justify_content": null,
            "_view_module": "@jupyter-widgets/base",
            "overflow": null,
            "_model_module_version": "1.2.0",
            "_view_count": null,
            "flex_flow": null,
            "width": null,
            "min_width": null,
            "border": null,
            "align_items": null,
            "bottom": null,
            "_model_module": "@jupyter-widgets/base",
            "top": null,
            "grid_column": null,
            "overflow_y": null,
            "overflow_x": null,
            "grid_auto_flow": null,
            "grid_area": null,
            "grid_template_columns": null,
            "flex": null,
            "_model_name": "LayoutModel",
            "justify_items": null,
            "grid_row": null,
            "max_height": null,
            "align_content": null,
            "visibility": null,
            "align_self": null,
            "height": null,
            "min_height": null,
            "padding": null,
            "grid_auto_rows": null,
            "grid_gap": null,
            "max_width": null,
            "order": null,
            "_view_module_version": "1.2.0",
            "grid_template_areas": null,
            "object_position": null,
            "object_fit": null,
            "grid_auto_columns": null,
            "margin": null,
            "display": null,
            "left": null
          }
        },
        "b597297f5e534f1bac8a5c6a70f8e67f": {
          "model_module": "@jupyter-widgets/controls",
          "model_name": "FloatProgressModel",
          "state": {
            "_view_name": "ProgressView",
            "style": "IPY_MODEL_2dcb5cccb489420885b05357c144fcff",
            "_dom_classes": [],
            "description": "100%",
            "_model_name": "FloatProgressModel",
            "bar_style": "success",
            "max": 2,
            "_view_module": "@jupyter-widgets/controls",
            "_model_module_version": "1.5.0",
            "value": 2,
            "_view_count": null,
            "_view_module_version": "1.5.0",
            "orientation": "horizontal",
            "min": 0,
            "description_tooltip": null,
            "_model_module": "@jupyter-widgets/controls",
            "layout": "IPY_MODEL_c149e3ff03124e2ba2373b60170d08e5"
          }
        },
        "59f50211c1e64b27b862135ec323623c": {
          "model_module": "@jupyter-widgets/controls",
          "model_name": "HTMLModel",
          "state": {
            "_view_name": "HTMLView",
            "style": "IPY_MODEL_ce1378f05e7b4c7586e98d55d755651a",
            "_dom_classes": [],
            "description": "",
            "_model_name": "HTMLModel",
            "placeholder": "​",
            "_view_module": "@jupyter-widgets/controls",
            "_model_module_version": "1.5.0",
            "value": " 2/2 [01:07&lt;00:00, 33.90s/KB]",
            "_view_count": null,
            "_view_module_version": "1.5.0",
            "description_tooltip": null,
            "_model_module": "@jupyter-widgets/controls",
            "layout": "IPY_MODEL_4ef6aed2fc474a0c8727d19b23be3551"
          }
        },
        "2dcb5cccb489420885b05357c144fcff": {
          "model_module": "@jupyter-widgets/controls",
          "model_name": "ProgressStyleModel",
          "state": {
            "_view_name": "StyleView",
            "_model_name": "ProgressStyleModel",
            "description_width": "initial",
            "_view_module": "@jupyter-widgets/base",
            "_model_module_version": "1.5.0",
            "_view_count": null,
            "_view_module_version": "1.2.0",
            "bar_color": null,
            "_model_module": "@jupyter-widgets/controls"
          }
        },
        "c149e3ff03124e2ba2373b60170d08e5": {
          "model_module": "@jupyter-widgets/base",
          "model_name": "LayoutModel",
          "state": {
            "_view_name": "LayoutView",
            "grid_template_rows": null,
            "right": null,
            "justify_content": null,
            "_view_module": "@jupyter-widgets/base",
            "overflow": null,
            "_model_module_version": "1.2.0",
            "_view_count": null,
            "flex_flow": null,
            "width": null,
            "min_width": null,
            "border": null,
            "align_items": null,
            "bottom": null,
            "_model_module": "@jupyter-widgets/base",
            "top": null,
            "grid_column": null,
            "overflow_y": null,
            "overflow_x": null,
            "grid_auto_flow": null,
            "grid_area": null,
            "grid_template_columns": null,
            "flex": null,
            "_model_name": "LayoutModel",
            "justify_items": null,
            "grid_row": null,
            "max_height": null,
            "align_content": null,
            "visibility": null,
            "align_self": null,
            "height": null,
            "min_height": null,
            "padding": null,
            "grid_auto_rows": null,
            "grid_gap": null,
            "max_width": null,
            "order": null,
            "_view_module_version": "1.2.0",
            "grid_template_areas": null,
            "object_position": null,
            "object_fit": null,
            "grid_auto_columns": null,
            "margin": null,
            "display": null,
            "left": null
          }
        },
        "ce1378f05e7b4c7586e98d55d755651a": {
          "model_module": "@jupyter-widgets/controls",
          "model_name": "DescriptionStyleModel",
          "state": {
            "_view_name": "StyleView",
            "_model_name": "DescriptionStyleModel",
            "description_width": "",
            "_view_module": "@jupyter-widgets/base",
            "_model_module_version": "1.5.0",
            "_view_count": null,
            "_view_module_version": "1.2.0",
            "_model_module": "@jupyter-widgets/controls"
          }
        },
        "4ef6aed2fc474a0c8727d19b23be3551": {
          "model_module": "@jupyter-widgets/base",
          "model_name": "LayoutModel",
          "state": {
            "_view_name": "LayoutView",
            "grid_template_rows": null,
            "right": null,
            "justify_content": null,
            "_view_module": "@jupyter-widgets/base",
            "overflow": null,
            "_model_module_version": "1.2.0",
            "_view_count": null,
            "flex_flow": null,
            "width": null,
            "min_width": null,
            "border": null,
            "align_items": null,
            "bottom": null,
            "_model_module": "@jupyter-widgets/base",
            "top": null,
            "grid_column": null,
            "overflow_y": null,
            "overflow_x": null,
            "grid_auto_flow": null,
            "grid_area": null,
            "grid_template_columns": null,
            "flex": null,
            "_model_name": "LayoutModel",
            "justify_items": null,
            "grid_row": null,
            "max_height": null,
            "align_content": null,
            "visibility": null,
            "align_self": null,
            "height": null,
            "min_height": null,
            "padding": null,
            "grid_auto_rows": null,
            "grid_gap": null,
            "max_width": null,
            "order": null,
            "_view_module_version": "1.2.0",
            "grid_template_areas": null,
            "object_position": null,
            "object_fit": null,
            "grid_auto_columns": null,
            "margin": null,
            "display": null,
            "left": null
          }
        }
      }
    }
  },
  "cells": [
    {
      "cell_type": "markdown",
      "metadata": {
        "id": "do1UBHZuj11t"
      },
      "source": [
        "![image](https://drive.google.com/u/0/uc?id=15DUc09hFGqR8qcpYiN1OajRNaASmiL6d&export=download)\n",
        "\n",
        "# **Taller No. 10 - ISIS4825**\n",
        "\n",
        "## **Perceptron Multicapa y Redes Neuronales Profundas**\n",
        "1. [**Objetivos**](#id1)\n",
        "2. [**Problema**](#id2)\n",
        "3. [**Importando las librerías necesarias para el laboratorio**](#id3)\n",
        "4. [**Visualización y Análisis Exploratorio**](#id4)\n",
        "5. [**Preparación de los Datos**](#id5)\n",
        "6. [**Modelamiento**](#id6)\n",
        "7. [**Predicción**](#id7)\n",
        "8. [**Validación**](#id8)\n",
        "9. [**Trabajo Asíncrono**](#id9)\n",
        "\n",
        "## **Objetivos**<a name=\"id1\"></a>\n",
        "- Introducirnos a las redes neuronales a través del perceptron multicapa.\n",
        "- Ver algunas funciones básicas de `Keras` y de `TensorFlow`.\n",
        "\n",
        "## **Problema**<a name=\"id2\"></a>"
      ]
    },
    {
      "cell_type": "markdown",
      "metadata": {
        "id": "qG4YVjCGqP2n"
      },
      "source": [
        "## **Notebook Configuration**"
      ]
    },
    {
      "cell_type": "code",
      "metadata": {
        "id": "iQEX8RD6qSu9",
        "outputId": "1c2d29a4-9622-4bc9-a18f-e39670804346",
        "colab": {
          "base_uri": "https://localhost:8080/",
          "height": 100,
          "referenced_widgets": [
            "18978338a05749a3bba902af368e762b",
            "d194d0042642470c98f386d5cb5b0742",
            "b597297f5e534f1bac8a5c6a70f8e67f",
            "59f50211c1e64b27b862135ec323623c",
            "2dcb5cccb489420885b05357c144fcff",
            "c149e3ff03124e2ba2373b60170d08e5",
            "ce1378f05e7b4c7586e98d55d755651a",
            "4ef6aed2fc474a0c8727d19b23be3551"
          ]
        }
      },
      "source": [
        "!shred -u setup_colab_general.py\n",
        "!wget -q \"https://github.com/jpcano1/python_utils/raw/main/setup_colab_general.py\" -O setup_colab_general.py\n",
        "import setup_colab_general as setup_general\n",
        "setup_general.setup_general()"
      ],
      "execution_count": 14,
      "outputs": [
        {
          "output_type": "stream",
          "text": [
            "shred: setup_colab_general.py: failed to open for writing: No such file or directory\n"
          ],
          "name": "stdout"
        },
        {
          "output_type": "display_data",
          "data": {
            "application/vnd.jupyter.widget-view+json": {
              "model_id": "18978338a05749a3bba902af368e762b",
              "version_minor": 0,
              "version_major": 2
            },
            "text/plain": [
              "HBox(children=(FloatProgress(value=0.0, max=2.0), HTML(value='')))"
            ]
          },
          "metadata": {
            "tags": []
          }
        },
        {
          "output_type": "stream",
          "text": [
            "\n",
            "General Functions Enabled Successfully\n"
          ],
          "name": "stdout"
        }
      ]
    },
    {
      "cell_type": "markdown",
      "metadata": {
        "id": "cEvHy2R7mYpS"
      },
      "source": [
        "## **Importando las librerías necesarias para el laboratorio**<a name=\"id3\"></a>"
      ]
    },
    {
      "cell_type": "code",
      "metadata": {
        "id": "xLHJIzD6K0Nl"
      },
      "source": [
        "import numpy as np\n",
        "import pandas as pd\n",
        "\n",
        "import tensorflow as tf\n",
        "from tensorflow import keras\n",
        "\n",
        "import matplotlib.pyplot as plt\n",
        "plt.style.use(\"seaborn-dark\")\n",
        "import seaborn as sns\n",
        "\n",
        "from utils import general as gen\n",
        "\n",
        "from sklearn.model_selection import StratifiedShuffleSplit\n",
        "from sklearn.metrics import precision_score, recall_score, confusion_matrix"
      ],
      "execution_count": 55,
      "outputs": []
    },
    {
      "cell_type": "markdown",
      "metadata": {
        "id": "YkOZI8QvmZd_"
      },
      "source": [
        "### **Carga de Datos**"
      ]
    },
    {
      "cell_type": "code",
      "metadata": {
        "id": "SMWaPYjFl05q"
      },
      "source": [
        "(full_X_train, full_y_train), (X_test, y_test) = keras.datasets.mnist.load_data()"
      ],
      "execution_count": 2,
      "outputs": []
    },
    {
      "cell_type": "code",
      "metadata": {
        "id": "P-_uFi_Lmgoo",
        "outputId": "7d037651-a1e2-44e6-e646-493f2a06ab99",
        "colab": {
          "base_uri": "https://localhost:8080/"
        }
      },
      "source": [
        "full_X_train.shape, X_test.shape"
      ],
      "execution_count": 3,
      "outputs": [
        {
          "output_type": "execute_result",
          "data": {
            "text/plain": [
              "((60000, 28, 28), (10000, 28, 28))"
            ]
          },
          "metadata": {
            "tags": []
          },
          "execution_count": 3
        }
      ]
    },
    {
      "cell_type": "markdown",
      "metadata": {
        "id": "MQK8O5pWmf3b"
      },
      "source": [
        "## **Visualización y Análisis Exploratorio**<a name=\"id4\"></a>"
      ]
    },
    {
      "cell_type": "code",
      "metadata": {
        "id": "WWHag-nAqa-u"
      },
      "source": [
        "np.random.seed(0)\n",
        "random_sample = np.random.choice(len(full_X_train), size=9)"
      ],
      "execution_count": 4,
      "outputs": []
    },
    {
      "cell_type": "code",
      "metadata": {
        "id": "yeh0KyKfqj7u",
        "outputId": "3d0489ac-c9ba-4611-b3c7-6f723e5b3486",
        "colab": {
          "base_uri": "https://localhost:8080/",
          "height": 372
        }
      },
      "source": [
        "gen.visualize_subplot(full_X_train[random_sample], \n",
        "                      full_y_train[random_sample], \n",
        "                      (3, 3), (6, 6))"
      ],
      "execution_count": 5,
      "outputs": [
        {
          "output_type": "display_data",
          "data": {
            "image/png": "[encoded data removed]",
            "text/plain": [
              "<Figure size 432x432 with 9 Axes>"
            ]
          },
          "metadata": {
            "tags": [],
            "needs_background": "light"
          }
        }
      ]
    },
    {
      "cell_type": "code",
      "metadata": {
        "id": "Gm7-PE4Hq5Fv"
      },
      "source": [
        "dist = np.unique(full_y_train, return_counts=True)"
      ],
      "execution_count": 6,
      "outputs": []
    },
    {
      "cell_type": "code",
      "metadata": {
        "id": "BuANGDSdrHxf",
        "outputId": "f3ad67e6-26cb-4f72-9126-decc83e30594",
        "colab": {
          "base_uri": "https://localhost:8080/",
          "height": 263
        }
      },
      "source": [
        "sns.barplot(x=dist[0], y=dist[1])\n",
        "plt.show()"
      ],
      "execution_count": 7,
      "outputs": [
        {
          "output_type": "display_data",
          "data": {
            "image/png": "[encoded data removed]",
            "text/plain": [
              "<Figure size 432x288 with 1 Axes>"
            ]
          },
          "metadata": {
            "tags": [],
            "needs_background": "light"
          }
        }
      ]
    },
    {
      "cell_type": "code",
      "metadata": {
        "id": "91VIK3RMrZHG",
        "outputId": "16bf362c-8754-4311-d25e-5f26195ae5da",
        "colab": {
          "base_uri": "https://localhost:8080/"
        }
      },
      "source": [
        "dist[1].mean()"
      ],
      "execution_count": 8,
      "outputs": [
        {
          "output_type": "execute_result",
          "data": {
            "text/plain": [
              "6000.0"
            ]
          },
          "metadata": {
            "tags": []
          },
          "execution_count": 8
        }
      ]
    },
    {
      "cell_type": "markdown",
      "metadata": {
        "id": "z4CM1PLDriDz"
      },
      "source": [
        "## **Preparación de los Datos**<a name=\"id5\"></a>\n",
        "\n",
        "### **Normalización**"
      ]
    },
    {
      "cell_type": "code",
      "metadata": {
        "id": "l634WgG-mLoy"
      },
      "source": [
        "full_X_train, X_test = full_X_train / 255., X_test / 255."
      ],
      "execution_count": 9,
      "outputs": []
    },
    {
      "cell_type": "code",
      "metadata": {
        "id": "8ShfuAn0sGEz",
        "outputId": "8b5a4d9f-c818-41de-c1d1-db5674b92920",
        "colab": {
          "base_uri": "https://localhost:8080/"
        }
      },
      "source": [
        "full_X_train.max()"
      ],
      "execution_count": 10,
      "outputs": [
        {
          "output_type": "execute_result",
          "data": {
            "text/plain": [
              "1.0"
            ]
          },
          "metadata": {
            "tags": []
          },
          "execution_count": 10
        }
      ]
    },
    {
      "cell_type": "code",
      "metadata": {
        "id": "DKS4CK-BsHoZ",
        "outputId": "bc81194d-0314-4018-bd92-c0c23afa7a55",
        "colab": {
          "base_uri": "https://localhost:8080/"
        }
      },
      "source": [
        "X_test.max()"
      ],
      "execution_count": 11,
      "outputs": [
        {
          "output_type": "execute_result",
          "data": {
            "text/plain": [
              "1.0"
            ]
          },
          "metadata": {
            "tags": []
          },
          "execution_count": 11
        }
      ]
    },
    {
      "cell_type": "code",
      "metadata": {
        "id": "JIySka6asJrA",
        "outputId": "cd98c6a9-48ae-41b7-cabb-241b7786cf0c",
        "colab": {
          "base_uri": "https://localhost:8080/"
        }
      },
      "source": [
        "full_X_train.mean()"
      ],
      "execution_count": 12,
      "outputs": [
        {
          "output_type": "execute_result",
          "data": {
            "text/plain": [
              "0.1306604762738429"
            ]
          },
          "metadata": {
            "tags": []
          },
          "execution_count": 12
        }
      ]
    },
    {
      "cell_type": "markdown",
      "metadata": {
        "id": "hryN62EcsFMG"
      },
      "source": [
        "### **Train Set, Validation Set, Test Set**"
      ]
    },
    {
      "cell_type": "code",
      "metadata": {
        "id": "0jO8v4i7r2Pc"
      },
      "source": [
        "sss = StratifiedShuffleSplit(test_size=0.2, random_state=1234)"
      ],
      "execution_count": 13,
      "outputs": []
    },
    {
      "cell_type": "code",
      "metadata": {
        "id": "3pbuXI9lsVsu"
      },
      "source": [
        "for train_index, val_index in sss.split(full_X_train, full_y_train):\n",
        "    X_train, y_train = full_X_train[train_index], full_y_train[train_index]\n",
        "    X_val, y_val = full_X_train[val_index], full_y_train[val_index]"
      ],
      "execution_count": 14,
      "outputs": []
    },
    {
      "cell_type": "markdown",
      "metadata": {
        "id": "848Yn4FYsxrK"
      },
      "source": [
        "## **Modelamiento**<a name=\"id6\"></a>"
      ]
    },
    {
      "cell_type": "code",
      "metadata": {
        "id": "9N-qrUsAsqqU"
      },
      "source": [
        "model = keras.Sequential([\n",
        "    keras.layers.Input(shape=(28, 28)),\n",
        "    keras.layers.Flatten(),\n",
        "    keras.layers.Dense(256, activation=\"relu\", kernel_initializer=\"he_normal\"),\n",
        "    keras.layers.Dense(128, activation=\"relu\", kernel_initializer=\"he_normal\"),\n",
        "    keras.layers.Dense(64, activation=\"relu\", kernel_initializer=\"he_normal\"),\n",
        "    keras.layers.Dense(10, activation=\"softmax\", kernel_initializer=\"he_normal\")\n",
        "])"
      ],
      "execution_count": 105,
      "outputs": []
    },
    {
      "cell_type": "code",
      "metadata": {
        "id": "7B8-gg3ls-ke"
      },
      "source": [
        "optimizer = keras.optimizers.Adam(lr=5e-4)\n",
        "metrics = [keras.metrics.SparseCategoricalAccuracy(name=\"acc\")]\n",
        "loss = keras.losses.SparseCategoricalCrossentropy(name=\"loss\")"
      ],
      "execution_count": 106,
      "outputs": []
    },
    {
      "cell_type": "code",
      "metadata": {
        "id": "dGlCV_zXvib_"
      },
      "source": [
        "model.compile(optimizer=optimizer, metrics=metrics, loss=loss)"
      ],
      "execution_count": 107,
      "outputs": []
    },
    {
      "cell_type": "code",
      "metadata": {
        "id": "efRVs8r7vr64",
        "outputId": "ed86f120-854b-424d-86d2-4a590307a422",
        "colab": {
          "base_uri": "https://localhost:8080/"
        }
      },
      "source": [
        "history = model.fit(X_train, y_train, batch_size=64, \n",
        "                    validation_data=(X_val, y_val), \n",
        "                    epochs=10)"
      ],
      "execution_count": 108,
      "outputs": [
        {
          "output_type": "stream",
          "text": [
            "Epoch 1/10\n",
            "750/750 [==============================] - 3s 4ms/step - loss: 0.3018 - acc: 0.9129 - val_loss: 0.1641 - val_acc: 0.9497\n",
            "Epoch 2/10\n",
            "750/750 [==============================] - 3s 4ms/step - loss: 0.1201 - acc: 0.9647 - val_loss: 0.1046 - val_acc: 0.9684\n",
            "Epoch 3/10\n",
            "750/750 [==============================] - 3s 4ms/step - loss: 0.0781 - acc: 0.9758 - val_loss: 0.0998 - val_acc: 0.9680\n",
            "Epoch 4/10\n",
            "750/750 [==============================] - 3s 4ms/step - loss: 0.0559 - acc: 0.9834 - val_loss: 0.0804 - val_acc: 0.9753\n",
            "Epoch 5/10\n",
            "750/750 [==============================] - 3s 4ms/step - loss: 0.0414 - acc: 0.9873 - val_loss: 0.1020 - val_acc: 0.9689\n",
            "Epoch 6/10\n",
            "750/750 [==============================] - 3s 4ms/step - loss: 0.0339 - acc: 0.9897 - val_loss: 0.0834 - val_acc: 0.9751\n",
            "Epoch 7/10\n",
            "750/750 [==============================] - 3s 4ms/step - loss: 0.0252 - acc: 0.9924 - val_loss: 0.0781 - val_acc: 0.9758\n",
            "Epoch 8/10\n",
            "750/750 [==============================] - 3s 4ms/step - loss: 0.0206 - acc: 0.9933 - val_loss: 0.0841 - val_acc: 0.9759\n",
            "Epoch 9/10\n",
            "750/750 [==============================] - 3s 4ms/step - loss: 0.0155 - acc: 0.9950 - val_loss: 0.0883 - val_acc: 0.9754\n",
            "Epoch 10/10\n",
            "750/750 [==============================] - 3s 4ms/step - loss: 0.0174 - acc: 0.9945 - val_loss: 0.0929 - val_acc: 0.9763\n"
          ],
          "name": "stdout"
        }
      ]
    },
    {
      "cell_type": "markdown",
      "metadata": {
        "id": "91KviySo2nyW"
      },
      "source": [
        "## **Predicción**<a name=\"id7\"></a>"
      ]
    },
    {
      "cell_type": "code",
      "metadata": {
        "id": "Z5AwUT2V1LCO"
      },
      "source": [
        "np.random.seed(1234)\n",
        "random_sample = np.random.choice(len(X_test), 9)"
      ],
      "execution_count": 109,
      "outputs": []
    },
    {
      "cell_type": "code",
      "metadata": {
        "id": "9s9wTI954CVu"
      },
      "source": [
        "y_pred = model.predict(X_test[random_sample])"
      ],
      "execution_count": 110,
      "outputs": []
    },
    {
      "cell_type": "code",
      "metadata": {
        "id": "NnS-6FPc351V",
        "outputId": "3dac7dd4-1f59-4dd5-ce38-f617bca435fd",
        "colab": {
          "base_uri": "https://localhost:8080/",
          "height": 372
        }
      },
      "source": [
        "gen.visualize_subplot(X_test[random_sample], \n",
        "                      y_pred.argmax(axis=1), \n",
        "                      (3, 3), (6, 6))"
      ],
      "execution_count": 111,
      "outputs": [
        {
          "output_type": "display_data",
          "data": {
            "image/png": "[encoded data removed]",
            "text/plain": [
              "<Figure size 432x432 with 9 Axes>"
            ]
          },
          "metadata": {
            "tags": []
          }
        }
      ]
    },
    {
      "cell_type": "markdown",
      "metadata": {
        "id": "dfuANa_t4nz0"
      },
      "source": [
        "## **Validación**<a name=\"id8\"></a>"
      ]
    },
    {
      "cell_type": "code",
      "metadata": {
        "id": "QXsGlMyS4spQ",
        "outputId": "a4872b20-3e21-4a1d-8d8e-7e989d151bce",
        "colab": {
          "base_uri": "https://localhost:8080/"
        }
      },
      "source": [
        "loss, acc = model.evaluate(X_test, y_test, verbose=1)"
      ],
      "execution_count": 112,
      "outputs": [
        {
          "output_type": "stream",
          "text": [
            "313/313 [==============================] - 0s 1ms/step - loss: 0.0951 - acc: 0.9753\n"
          ],
          "name": "stdout"
        }
      ]
    },
    {
      "cell_type": "code",
      "metadata": {
        "id": "ev8r4YI85RQp",
        "outputId": "a14f4703-ac97-4d18-f5f3-c570bf8471eb",
        "colab": {
          "base_uri": "https://localhost:8080/"
        }
      },
      "source": [
        "loss"
      ],
      "execution_count": 113,
      "outputs": [
        {
          "output_type": "execute_result",
          "data": {
            "text/plain": [
              "0.0950610563158989"
            ]
          },
          "metadata": {
            "tags": []
          },
          "execution_count": 113
        }
      ]
    },
    {
      "cell_type": "code",
      "metadata": {
        "id": "MgxWkZBC5UDw",
        "outputId": "1bc70592-4257-45b0-e59a-cb906fe84fe2",
        "colab": {
          "base_uri": "https://localhost:8080/"
        }
      },
      "source": [
        "acc"
      ],
      "execution_count": 114,
      "outputs": [
        {
          "output_type": "execute_result",
          "data": {
            "text/plain": [
              "0.9753000140190125"
            ]
          },
          "metadata": {
            "tags": []
          },
          "execution_count": 114
        }
      ]
    },
    {
      "cell_type": "code",
      "metadata": {
        "id": "2bWw_Grj3NFi",
        "outputId": "a705b32e-4da4-4e1c-e347-81287fa6eea4",
        "colab": {
          "base_uri": "https://localhost:8080/",
          "height": 276
        }
      },
      "source": [
        "plt.plot(history.history[\"acc\"], label=\"Train Acc\")\n",
        "plt.plot(history.history[\"val_acc\"], Label=\"Val Acc\")\n",
        "plt.xlabel(\"Epoch\")\n",
        "plt.ylabel(\"Acc\")\n",
        "plt.legend(loc=\"best\")\n",
        "plt.show()"
      ],
      "execution_count": 115,
      "outputs": [
        {
          "output_type": "display_data",
          "data": {
            "image/png": "[encoded data removed]",
            "text/plain": [
              "<Figure size 432x288 with 1 Axes>"
            ]
          },
          "metadata": {
            "tags": []
          }
        }
      ]
    },
    {
      "cell_type": "code",
      "metadata": {
        "id": "agu9pDKz3Ng4",
        "outputId": "48abb440-73cf-49b1-a64b-ca7b80fe23b5",
        "colab": {
          "base_uri": "https://localhost:8080/",
          "height": 276
        }
      },
      "source": [
        "plt.plot(history.history[\"loss\"], label=\"Train Loss\")\n",
        "plt.plot(history.history[\"val_loss\"], label=\"Val Loss\")\n",
        "plt.xlabel(\"Epoch\")\n",
        "plt.ylabel(\"Loss\")\n",
        "plt.legend(loc=\"best\")\n",
        "plt.show()"
      ],
      "execution_count": 116,
      "outputs": [
        {
          "output_type": "display_data",
          "data": {
            "image/png": "[encoded data removed]",
            "text/plain": [
              "<Figure size 432x288 with 1 Axes>"
            ]
          },
          "metadata": {
            "tags": []
          }
        }
      ]
    },
    {
      "cell_type": "code",
      "metadata": {
        "id": "x-bcD7UU3P7V"
      },
      "source": [
        "y_pred = model.predict(X_test)"
      ],
      "execution_count": 117,
      "outputs": []
    },
    {
      "cell_type": "code",
      "metadata": {
        "id": "MWuG5NtQ5cAb"
      },
      "source": [
        "conf_matrix = confusion_matrix(y_test, y_pred.argmax(axis=1))"
      ],
      "execution_count": 118,
      "outputs": []
    },
    {
      "cell_type": "code",
      "metadata": {
        "id": "7_RWx5F-5eBn",
        "outputId": "e8e3db0c-631d-462b-8183-906e95ee1461",
        "colab": {
          "base_uri": "https://localhost:8080/",
          "height": 294
        }
      },
      "source": [
        "plt.matshow(conf_matrix, cmap=\"gray\")\n",
        "plt.title(\"Confusion Matrix\")\n",
        "plt.xlabel(\"Predicted Class\")\n",
        "plt.ylabel(\"True Class\")\n",
        "plt.show()"
      ],
      "execution_count": 119,
      "outputs": [
        {
          "output_type": "display_data",
          "data": {
            "image/png": "[encoded data removed]",
            "text/plain": [
              "<Figure size 288x288 with 1 Axes>"
            ]
          },
          "metadata": {
            "tags": []
          }
        }
      ]
    },
    {
      "cell_type": "code",
      "metadata": {
        "id": "EhuKrvSy5x1q"
      },
      "source": [
        "norm_conf_mat = conf_matrix / conf_matrix.sum(axis=1, keepdims=True)\n",
        "np.fill_diagonal(norm_conf_mat, 0)"
      ],
      "execution_count": 120,
      "outputs": []
    },
    {
      "cell_type": "code",
      "metadata": {
        "id": "7q6fyPXr6QPS",
        "outputId": "19ced36c-4b9a-4ee1-90b3-b261e4666635",
        "colab": {
          "base_uri": "https://localhost:8080/",
          "height": 294
        }
      },
      "source": [
        "plt.matshow(norm_conf_mat, cmap=\"gray\")\n",
        "plt.title(\"Confusion Matrix\")\n",
        "plt.xlabel(\"Predicted Class\")\n",
        "plt.ylabel(\"True Class\")\n",
        "plt.show()"
      ],
      "execution_count": 121,
      "outputs": [
        {
          "output_type": "display_data",
          "data": {
            "image/png": "[encoded data removed]",
            "text/plain": [
              "<Figure size 288x288 with 1 Axes>"
            ]
          },
          "metadata": {
            "tags": []
          }
        }
      ]
    },
    {
      "cell_type": "code",
      "metadata": {
        "id": "bNsKdCbp6T28",
        "outputId": "f3cce4b5-9a5e-4eec-ef15-1ef5bc2afa98",
        "colab": {
          "base_uri": "https://localhost:8080/"
        }
      },
      "source": [
        "precision_score(y_test, y_pred.argmax(axis=1), average=\"weighted\")"
      ],
      "execution_count": 122,
      "outputs": [
        {
          "output_type": "execute_result",
          "data": {
            "text/plain": [
              "0.9756359740322463"
            ]
          },
          "metadata": {
            "tags": []
          },
          "execution_count": 122
        }
      ]
    },
    {
      "cell_type": "code",
      "metadata": {
        "id": "HxO_dYzn6cpC",
        "outputId": "04575d85-6cd6-4ab1-c4d7-0cdae3d6655e",
        "colab": {
          "base_uri": "https://localhost:8080/"
        }
      },
      "source": [
        "recall_score(y_test, y_pred.argmax(axis=1), average=\"weighted\")"
      ],
      "execution_count": 123,
      "outputs": [
        {
          "output_type": "execute_result",
          "data": {
            "text/plain": [
              "0.9753"
            ]
          },
          "metadata": {
            "tags": []
          },
          "execution_count": 123
        }
      ]
    },
    {
      "cell_type": "markdown",
      "metadata": {
        "id": "VPkLadbfBv48"
      },
      "source": [
        "## **Trabajo Asíncrono**<a name=\"id9\"></a>"
      ]
    },
    {
      "cell_type": "code",
      "metadata": {
        "id": "u8b4DR8TBwSW"
      },
      "source": [
        ""
      ],
      "execution_count": null,
      "outputs": []
    }
  ]
}