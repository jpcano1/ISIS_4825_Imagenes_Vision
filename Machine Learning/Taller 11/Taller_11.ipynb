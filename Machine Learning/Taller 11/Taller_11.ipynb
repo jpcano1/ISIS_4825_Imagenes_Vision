{
  "nbformat": 4,
  "nbformat_minor": 0,
  "metadata": {
    "colab": {
      "name": "Taller_11.ipynb",
      "provenance": [],
      "collapsed_sections": []
    },
    "kernelspec": {
      "name": "python3",
      "display_name": "Python 3"
    },
    "widgets": {
      "application/vnd.jupyter.widget-state+json": {
        "3a736d27416741a8b3219947fd0066ec": {
          "model_module": "@jupyter-widgets/controls",
          "model_name": "HBoxModel",
          "state": {
            "_view_name": "HBoxView",
            "_dom_classes": [],
            "_model_name": "HBoxModel",
            "_view_module": "@jupyter-widgets/controls",
            "_model_module_version": "1.5.0",
            "_view_count": null,
            "_view_module_version": "1.5.0",
            "box_style": "",
            "layout": "IPY_MODEL_72d9ed85a2f54909b15b993f30977810",
            "_model_module": "@jupyter-widgets/controls",
            "children": [
              "IPY_MODEL_18d6c0998ea14b7790444e79512366c8",
              "IPY_MODEL_f0f2f1ee2162449cbd4a5bb5f8f7b3b8"
            ]
          }
        },
        "72d9ed85a2f54909b15b993f30977810": {
          "model_module": "@jupyter-widgets/base",
          "model_name": "LayoutModel",
          "state": {
            "_view_name": "LayoutView",
            "grid_template_rows": null,
            "right": null,
            "justify_content": null,
            "_view_module": "@jupyter-widgets/base",
            "overflow": null,
            "_model_module_version": "1.2.0",
            "_view_count": null,
            "flex_flow": null,
            "width": null,
            "min_width": null,
            "border": null,
            "align_items": null,
            "bottom": null,
            "_model_module": "@jupyter-widgets/base",
            "top": null,
            "grid_column": null,
            "overflow_y": null,
            "overflow_x": null,
            "grid_auto_flow": null,
            "grid_area": null,
            "grid_template_columns": null,
            "flex": null,
            "_model_name": "LayoutModel",
            "justify_items": null,
            "grid_row": null,
            "max_height": null,
            "align_content": null,
            "visibility": null,
            "align_self": null,
            "height": null,
            "min_height": null,
            "padding": null,
            "grid_auto_rows": null,
            "grid_gap": null,
            "max_width": null,
            "order": null,
            "_view_module_version": "1.2.0",
            "grid_template_areas": null,
            "object_position": null,
            "object_fit": null,
            "grid_auto_columns": null,
            "margin": null,
            "display": null,
            "left": null
          }
        },
        "18d6c0998ea14b7790444e79512366c8": {
          "model_module": "@jupyter-widgets/controls",
          "model_name": "FloatProgressModel",
          "state": {
            "_view_name": "ProgressView",
            "style": "IPY_MODEL_24ff8c2777744408b189097b45a8e67b",
            "_dom_classes": [],
            "description": "100%",
            "_model_name": "FloatProgressModel",
            "bar_style": "success",
            "max": 2,
            "_view_module": "@jupyter-widgets/controls",
            "_model_module_version": "1.5.0",
            "value": 2,
            "_view_count": null,
            "_view_module_version": "1.5.0",
            "orientation": "horizontal",
            "min": 0,
            "description_tooltip": null,
            "_model_module": "@jupyter-widgets/controls",
            "layout": "IPY_MODEL_26181ba12e8f4e33ae340e98bba552ea"
          }
        },
        "f0f2f1ee2162449cbd4a5bb5f8f7b3b8": {
          "model_module": "@jupyter-widgets/controls",
          "model_name": "HTMLModel",
          "state": {
            "_view_name": "HTMLView",
            "style": "IPY_MODEL_f84c2399a8d34f63a1ed142eaf27eab5",
            "_dom_classes": [],
            "description": "",
            "_model_name": "HTMLModel",
            "placeholder": "​",
            "_view_module": "@jupyter-widgets/controls",
            "_model_module_version": "1.5.0",
            "value": " 2/2 [00:00&lt;00:00, 50.17KB/s]",
            "_view_count": null,
            "_view_module_version": "1.5.0",
            "description_tooltip": null,
            "_model_module": "@jupyter-widgets/controls",
            "layout": "IPY_MODEL_6dcc43f75edd4c37bd9d50f8a2158cd1"
          }
        },
        "24ff8c2777744408b189097b45a8e67b": {
          "model_module": "@jupyter-widgets/controls",
          "model_name": "ProgressStyleModel",
          "state": {
            "_view_name": "StyleView",
            "_model_name": "ProgressStyleModel",
            "description_width": "initial",
            "_view_module": "@jupyter-widgets/base",
            "_model_module_version": "1.5.0",
            "_view_count": null,
            "_view_module_version": "1.2.0",
            "bar_color": null,
            "_model_module": "@jupyter-widgets/controls"
          }
        },
        "26181ba12e8f4e33ae340e98bba552ea": {
          "model_module": "@jupyter-widgets/base",
          "model_name": "LayoutModel",
          "state": {
            "_view_name": "LayoutView",
            "grid_template_rows": null,
            "right": null,
            "justify_content": null,
            "_view_module": "@jupyter-widgets/base",
            "overflow": null,
            "_model_module_version": "1.2.0",
            "_view_count": null,
            "flex_flow": null,
            "width": null,
            "min_width": null,
            "border": null,
            "align_items": null,
            "bottom": null,
            "_model_module": "@jupyter-widgets/base",
            "top": null,
            "grid_column": null,
            "overflow_y": null,
            "overflow_x": null,
            "grid_auto_flow": null,
            "grid_area": null,
            "grid_template_columns": null,
            "flex": null,
            "_model_name": "LayoutModel",
            "justify_items": null,
            "grid_row": null,
            "max_height": null,
            "align_content": null,
            "visibility": null,
            "align_self": null,
            "height": null,
            "min_height": null,
            "padding": null,
            "grid_auto_rows": null,
            "grid_gap": null,
            "max_width": null,
            "order": null,
            "_view_module_version": "1.2.0",
            "grid_template_areas": null,
            "object_position": null,
            "object_fit": null,
            "grid_auto_columns": null,
            "margin": null,
            "display": null,
            "left": null
          }
        },
        "f84c2399a8d34f63a1ed142eaf27eab5": {
          "model_module": "@jupyter-widgets/controls",
          "model_name": "DescriptionStyleModel",
          "state": {
            "_view_name": "StyleView",
            "_model_name": "DescriptionStyleModel",
            "description_width": "",
            "_view_module": "@jupyter-widgets/base",
            "_model_module_version": "1.5.0",
            "_view_count": null,
            "_view_module_version": "1.2.0",
            "_model_module": "@jupyter-widgets/controls"
          }
        },
        "6dcc43f75edd4c37bd9d50f8a2158cd1": {
          "model_module": "@jupyter-widgets/base",
          "model_name": "LayoutModel",
          "state": {
            "_view_name": "LayoutView",
            "grid_template_rows": null,
            "right": null,
            "justify_content": null,
            "_view_module": "@jupyter-widgets/base",
            "overflow": null,
            "_model_module_version": "1.2.0",
            "_view_count": null,
            "flex_flow": null,
            "width": null,
            "min_width": null,
            "border": null,
            "align_items": null,
            "bottom": null,
            "_model_module": "@jupyter-widgets/base",
            "top": null,
            "grid_column": null,
            "overflow_y": null,
            "overflow_x": null,
            "grid_auto_flow": null,
            "grid_area": null,
            "grid_template_columns": null,
            "flex": null,
            "_model_name": "LayoutModel",
            "justify_items": null,
            "grid_row": null,
            "max_height": null,
            "align_content": null,
            "visibility": null,
            "align_self": null,
            "height": null,
            "min_height": null,
            "padding": null,
            "grid_auto_rows": null,
            "grid_gap": null,
            "max_width": null,
            "order": null,
            "_view_module_version": "1.2.0",
            "grid_template_areas": null,
            "object_position": null,
            "object_fit": null,
            "grid_auto_columns": null,
            "margin": null,
            "display": null,
            "left": null
          }
        }
      }
    }
  },
  "cells": [
    {
      "cell_type": "markdown",
      "metadata": {
        "id": "do1UBHZuj11t"
      },
      "source": [
        "![image](https://drive.google.com/u/0/uc?id=15DUc09hFGqR8qcpYiN1OajRNaASmiL6d&export=download)\n",
        "\n",
        "# **Taller No. 11 - ISIS4825**\n",
        "\n",
        "## **Perceptron Multicapa y Redes Neuronales Profundas**\n",
        "1. [**Objetivos**](#id1)\n",
        "2. [**Problema**](#id2)\n",
        "3. [**Importando las librerías necesarias para el laboratorio**](#id3)\n",
        "4. [**Visualización y Análisis Exploratorio**](#id4)\n",
        "5. [**Preparación de los Datos**](#id5)\n",
        "6. [**Modelamiento**](#id6)\n",
        "7. [**Predicción**](#id7)\n",
        "8. [**Validación**](#id8)\n",
        "9. [**Trabajo Asíncrono**](#id9)\n",
        "\n",
        "## **Objetivos**<a name=\"id1\"></a>\n",
        "- Introducirnos a las redes neuronales a través del perceptron multicapa.\n",
        "- Ver algunas funciones básicas de `Keras` y de `TensorFlow`.\n",
        "\n",
        "## **Problema**<a name=\"id2\"></a>\n",
        "- La idea del siguiente laboratorio es clasificar imágenes de escritura de dígitos desde el 0 hasta el 9."
      ]
    },
    {
      "cell_type": "markdown",
      "metadata": {
        "id": "qG4YVjCGqP2n"
      },
      "source": [
        "## **Notebook Configuration**"
      ]
    },
    {
      "cell_type": "code",
      "metadata": {
        "id": "iQEX8RD6qSu9",
        "outputId": "77125aed-bce7-43ae-858d-a8bb56ec5a9f",
        "colab": {
          "base_uri": "https://localhost:8080/",
          "height": 100,
          "referenced_widgets": [
            "3a736d27416741a8b3219947fd0066ec",
            "72d9ed85a2f54909b15b993f30977810",
            "18d6c0998ea14b7790444e79512366c8",
            "f0f2f1ee2162449cbd4a5bb5f8f7b3b8",
            "24ff8c2777744408b189097b45a8e67b",
            "26181ba12e8f4e33ae340e98bba552ea",
            "f84c2399a8d34f63a1ed142eaf27eab5",
            "6dcc43f75edd4c37bd9d50f8a2158cd1"
          ]
        }
      },
      "source": [
        "!shred -u setup_colab_general.py\n",
        "!wget -q \"https://github.com/jpcano1/python_utils/raw/main/setup_colab_general.py\" -O setup_colab_general.py\n",
        "import setup_colab_general as setup_general\n",
        "setup_general.setup_general()"
      ],
      "execution_count": 1,
      "outputs": [
        {
          "output_type": "stream",
          "text": [
            "shred: setup_colab_general.py: failed to open for writing: No such file or directory\n"
          ],
          "name": "stdout"
        },
        {
          "output_type": "display_data",
          "data": {
            "application/vnd.jupyter.widget-view+json": {
              "model_id": "3a736d27416741a8b3219947fd0066ec",
              "version_minor": 0,
              "version_major": 2
            },
            "text/plain": [
              "HBox(children=(FloatProgress(value=0.0, max=2.0), HTML(value='')))"
            ]
          },
          "metadata": {
            "tags": []
          }
        },
        {
          "output_type": "stream",
          "text": [
            "\n",
            "General Functions Enabled Successfully\n"
          ],
          "name": "stdout"
        }
      ]
    },
    {
      "cell_type": "markdown",
      "metadata": {
        "id": "cEvHy2R7mYpS"
      },
      "source": [
        "## **Importando las librerías necesarias para el laboratorio**<a name=\"id3\"></a>"
      ]
    },
    {
      "cell_type": "code",
      "metadata": {
        "id": "xLHJIzD6K0Nl"
      },
      "source": [
        "import numpy as np\n",
        "import pandas as pd\n",
        "\n",
        "import tensorflow as tf\n",
        "from tensorflow import keras\n",
        "\n",
        "import matplotlib.pyplot as plt\n",
        "plt.style.use(\"seaborn-dark\")\n",
        "import seaborn as sns\n",
        "\n",
        "from utils import general as gen\n",
        "\n",
        "from sklearn.model_selection import StratifiedShuffleSplit\n",
        "from sklearn.metrics import precision_score, recall_score, confusion_matrix"
      ],
      "execution_count": 2,
      "outputs": []
    },
    {
      "cell_type": "markdown",
      "metadata": {
        "id": "YkOZI8QvmZd_"
      },
      "source": [
        "### **Carga de Datos**"
      ]
    },
    {
      "cell_type": "code",
      "metadata": {
        "id": "SMWaPYjFl05q"
      },
      "source": [
        "(full_X_train, full_y_train), (X_test, y_test) = keras.datasets.mnist.load_data()"
      ],
      "execution_count": null,
      "outputs": []
    },
    {
      "cell_type": "code",
      "metadata": {
        "id": "P-_uFi_Lmgoo"
      },
      "source": [
        "full_X_train.shape, X_test.shape"
      ],
      "execution_count": null,
      "outputs": []
    },
    {
      "cell_type": "markdown",
      "metadata": {
        "id": "MQK8O5pWmf3b"
      },
      "source": [
        "## **Visualización y Análisis Exploratorio**<a name=\"id4\"></a>"
      ]
    },
    {
      "cell_type": "code",
      "metadata": {
        "id": "WWHag-nAqa-u"
      },
      "source": [
        "np.random.seed(0)\n",
        "random_sample = np.random.choice(len(full_X_train), size=9)"
      ],
      "execution_count": null,
      "outputs": []
    },
    {
      "cell_type": "code",
      "metadata": {
        "id": "yeh0KyKfqj7u"
      },
      "source": [
        "gen.visualize_subplot(full_X_train[random_sample], \n",
        "                      full_y_train[random_sample], \n",
        "                      (3, 3), (6, 6))"
      ],
      "execution_count": null,
      "outputs": []
    },
    {
      "cell_type": "code",
      "metadata": {
        "id": "Gm7-PE4Hq5Fv"
      },
      "source": [
        "dist = np.unique(full_y_train, return_counts=True)"
      ],
      "execution_count": null,
      "outputs": []
    },
    {
      "cell_type": "code",
      "metadata": {
        "id": "BuANGDSdrHxf"
      },
      "source": [
        "sns.barplot(x=dist[0], y=dist[1])\n",
        "plt.show()"
      ],
      "execution_count": null,
      "outputs": []
    },
    {
      "cell_type": "code",
      "metadata": {
        "id": "91VIK3RMrZHG"
      },
      "source": [
        "dist[1].mean()"
      ],
      "execution_count": null,
      "outputs": []
    },
    {
      "cell_type": "markdown",
      "metadata": {
        "id": "z4CM1PLDriDz"
      },
      "source": [
        "## **Preparación de los Datos**<a name=\"id5\"></a>\n",
        "\n",
        "### **Normalización**"
      ]
    },
    {
      "cell_type": "code",
      "metadata": {
        "id": "l634WgG-mLoy"
      },
      "source": [
        "full_X_train, X_test = full_X_train / 255., X_test / 255."
      ],
      "execution_count": null,
      "outputs": []
    },
    {
      "cell_type": "code",
      "metadata": {
        "id": "8ShfuAn0sGEz"
      },
      "source": [
        "full_X_train.max()"
      ],
      "execution_count": null,
      "outputs": []
    },
    {
      "cell_type": "code",
      "metadata": {
        "id": "DKS4CK-BsHoZ"
      },
      "source": [
        "X_test.max()"
      ],
      "execution_count": null,
      "outputs": []
    },
    {
      "cell_type": "code",
      "metadata": {
        "id": "JIySka6asJrA"
      },
      "source": [
        "full_X_train.mean()"
      ],
      "execution_count": null,
      "outputs": []
    },
    {
      "cell_type": "markdown",
      "metadata": {
        "id": "hryN62EcsFMG"
      },
      "source": [
        "### **Train Set, Validation Set, Test Set**"
      ]
    },
    {
      "cell_type": "code",
      "metadata": {
        "id": "0jO8v4i7r2Pc"
      },
      "source": [
        "sss = StratifiedShuffleSplit(test_size=0.2, random_state=1234)"
      ],
      "execution_count": null,
      "outputs": []
    },
    {
      "cell_type": "code",
      "metadata": {
        "id": "3pbuXI9lsVsu"
      },
      "source": [
        "for train_index, val_index in sss.split(full_X_train, full_y_train):\n",
        "    X_train, y_train = full_X_train[train_index], full_y_train[train_index]\n",
        "    X_val, y_val = full_X_train[val_index], full_y_train[val_index]"
      ],
      "execution_count": null,
      "outputs": []
    },
    {
      "cell_type": "markdown",
      "metadata": {
        "id": "848Yn4FYsxrK"
      },
      "source": [
        "## **Modelamiento**<a name=\"id6\"></a>"
      ]
    },
    {
      "cell_type": "code",
      "metadata": {
        "id": "9N-qrUsAsqqU"
      },
      "source": [
        "model = keras.Sequential([\n",
        "    keras.layers.Input(shape=(28, 28)),\n",
        "    keras.layers.Flatten(),\n",
        "    keras.layers.Dense(256, activation=\"relu\", kernel_initializer=\"he_normal\"),\n",
        "    keras.layers.BatchNormalization(),\n",
        "    keras.layers.Dense(128, activation=\"relu\", kernel_initializer=\"he_normal\"),\n",
        "    keras.layers.BatchNormalization(),\n",
        "    keras.layers.Dense(64, activation=\"relu\", kernel_initializer=\"he_normal\"),\n",
        "    keras.layers.Dense(10, activation=\"softmax\", kernel_initializer=\"he_normal\")\n",
        "])"
      ],
      "execution_count": null,
      "outputs": []
    },
    {
      "cell_type": "code",
      "metadata": {
        "id": "7B8-gg3ls-ke"
      },
      "source": [
        "optimizer = keras.optimizers.Adam(lr=5e-4)\n",
        "metrics = [keras.metrics.SparseCategoricalAccuracy(name=\"acc\")]\n",
        "loss = keras.losses.SparseCategoricalCrossentropy(name=\"loss\")"
      ],
      "execution_count": null,
      "outputs": []
    },
    {
      "cell_type": "code",
      "metadata": {
        "id": "dGlCV_zXvib_"
      },
      "source": [
        "model.compile(optimizer=optimizer, metrics=metrics, loss=loss)"
      ],
      "execution_count": null,
      "outputs": []
    },
    {
      "cell_type": "code",
      "metadata": {
        "id": "efRVs8r7vr64"
      },
      "source": [
        "history = model.fit(X_train, y_train, batch_size=64, \n",
        "                    validation_data=(X_val, y_val), \n",
        "                    epochs=1)"
      ],
      "execution_count": null,
      "outputs": []
    },
    {
      "cell_type": "markdown",
      "metadata": {
        "id": "91KviySo2nyW"
      },
      "source": [
        "## **Predicción**<a name=\"id7\"></a>"
      ]
    },
    {
      "cell_type": "code",
      "metadata": {
        "id": "Z5AwUT2V1LCO"
      },
      "source": [
        "np.random.seed(1234)\n",
        "random_sample = np.random.choice(len(X_test), 9)"
      ],
      "execution_count": null,
      "outputs": []
    },
    {
      "cell_type": "code",
      "metadata": {
        "id": "9s9wTI954CVu"
      },
      "source": [
        "y_pred = model.predict(X_test[random_sample])"
      ],
      "execution_count": null,
      "outputs": []
    },
    {
      "cell_type": "code",
      "metadata": {
        "id": "NnS-6FPc351V"
      },
      "source": [
        "gen.visualize_subplot(X_test[random_sample], \n",
        "                      y_pred.argmax(axis=1), \n",
        "                      (3, 3), (6, 6))"
      ],
      "execution_count": null,
      "outputs": []
    },
    {
      "cell_type": "markdown",
      "metadata": {
        "id": "dfuANa_t4nz0"
      },
      "source": [
        "## **Validación**<a name=\"id8\"></a>"
      ]
    },
    {
      "cell_type": "code",
      "metadata": {
        "id": "QXsGlMyS4spQ"
      },
      "source": [
        "loss, acc = model.evaluate(X_test, y_test, verbose=1)"
      ],
      "execution_count": null,
      "outputs": []
    },
    {
      "cell_type": "code",
      "metadata": {
        "id": "ev8r4YI85RQp"
      },
      "source": [
        "loss"
      ],
      "execution_count": null,
      "outputs": []
    },
    {
      "cell_type": "code",
      "metadata": {
        "id": "MgxWkZBC5UDw"
      },
      "source": [
        "acc"
      ],
      "execution_count": null,
      "outputs": []
    },
    {
      "cell_type": "code",
      "metadata": {
        "id": "2bWw_Grj3NFi"
      },
      "source": [
        "plt.plot(history.history[\"acc\"], label=\"Train Acc\")\n",
        "plt.plot(history.history[\"val_acc\"], Label=\"Val Acc\")\n",
        "plt.xlabel(\"Epoch\")\n",
        "plt.ylabel(\"Acc\")\n",
        "plt.legend(loc=\"best\")\n",
        "plt.show()"
      ],
      "execution_count": null,
      "outputs": []
    },
    {
      "cell_type": "code",
      "metadata": {
        "id": "agu9pDKz3Ng4"
      },
      "source": [
        "plt.plot(history.history[\"loss\"], label=\"Train Loss\")\n",
        "plt.plot(history.history[\"val_loss\"], label=\"Val Loss\")\n",
        "plt.xlabel(\"Epoch\")\n",
        "plt.ylabel(\"Loss\")\n",
        "plt.legend(loc=\"best\")\n",
        "plt.show()"
      ],
      "execution_count": null,
      "outputs": []
    },
    {
      "cell_type": "code",
      "metadata": {
        "id": "x-bcD7UU3P7V"
      },
      "source": [
        "y_pred = model.predict(X_test)"
      ],
      "execution_count": null,
      "outputs": []
    },
    {
      "cell_type": "code",
      "metadata": {
        "id": "MWuG5NtQ5cAb"
      },
      "source": [
        "conf_matrix = confusion_matrix(y_test, y_pred.argmax(axis=1))"
      ],
      "execution_count": null,
      "outputs": []
    },
    {
      "cell_type": "code",
      "metadata": {
        "id": "7_RWx5F-5eBn"
      },
      "source": [
        "plt.matshow(conf_matrix, cmap=\"gray\")\n",
        "plt.title(\"Confusion Matrix\")\n",
        "plt.xlabel(\"Predicted Class\")\n",
        "plt.ylabel(\"True Class\")\n",
        "plt.show()"
      ],
      "execution_count": null,
      "outputs": []
    },
    {
      "cell_type": "code",
      "metadata": {
        "id": "EhuKrvSy5x1q"
      },
      "source": [
        "norm_conf_mat = conf_matrix / conf_matrix.sum(axis=1, keepdims=True)\n",
        "np.fill_diagonal(norm_conf_mat, 0)"
      ],
      "execution_count": null,
      "outputs": []
    },
    {
      "cell_type": "code",
      "metadata": {
        "id": "7q6fyPXr6QPS"
      },
      "source": [
        "plt.matshow(norm_conf_mat, cmap=\"gray\")\n",
        "plt.title(\"Confusion Matrix\")\n",
        "plt.xlabel(\"Predicted Class\")\n",
        "plt.ylabel(\"True Class\")\n",
        "plt.show()"
      ],
      "execution_count": null,
      "outputs": []
    },
    {
      "cell_type": "code",
      "metadata": {
        "id": "bNsKdCbp6T28"
      },
      "source": [
        "precision_score(y_test, y_pred.argmax(axis=1), average=\"weighted\")"
      ],
      "execution_count": null,
      "outputs": []
    },
    {
      "cell_type": "code",
      "metadata": {
        "id": "HxO_dYzn6cpC"
      },
      "source": [
        "recall_score(y_test, y_pred.argmax(axis=1), average=\"weighted\")"
      ],
      "execution_count": null,
      "outputs": []
    },
    {
      "cell_type": "markdown",
      "metadata": {
        "id": "VPkLadbfBv48"
      },
      "source": [
        "## **Trabajo Asíncrono**<a name=\"id9\"></a>\n",
        "1. Entrenar esta misma red sobre el dataset de CIFAR-10 utilizando una [GPU](https://www.tensorflow.org/guide/gpu). Para cargar CIFAR-10, lo podrá hacer con la siguiente línea de código: `keras.datasets.cifar10.load_data()`.\n",
        "2. Responder las siguientes preguntas:\n",
        "    - Cuál es la diferencia entre entrenar con GPU y entrenar con CPU?\n",
        "    - Encontrar los valores de rendimiento sobre el conjunto de test.\n",
        "    - Explique los resultados de desempeño que fueron obtenidos.\n",
        "    - ¿Qué pierde una imagen cuando se vectoriza?\n",
        "3. Utilizar [`GridSearch`](https://scikit-learn.org/stable/modules/generated/sklearn.model_selection.GridSearchCV.html) para buscar los hiperparámetros que ajusten mejor la red neuronal. Para eso, averiguar sobre los siguientes hiperparámetros:\n",
        "    - `activation`\n",
        "    - `kernel_initializer`\n",
        "    - `kernel_regularizer`\n",
        "    - `epochs`\n",
        "4. Comparar los resultados obtenidos en el punto anterior con los obtenidos en el punto 1. Justifique."
      ]
    },
    {
      "cell_type": "code",
      "metadata": {
        "id": "XT_MR4LgySXs"
      },
      "source": [
        ""
      ],
      "execution_count": null,
      "outputs": []
    }
  ]
}