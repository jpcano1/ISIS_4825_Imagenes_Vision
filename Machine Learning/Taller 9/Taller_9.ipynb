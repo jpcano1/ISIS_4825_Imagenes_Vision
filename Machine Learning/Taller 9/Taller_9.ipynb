{
  "nbformat": 4,
  "nbformat_minor": 0,
  "metadata": {
    "colab": {
      "name": "Taller_9.ipynb",
      "provenance": [],
      "collapsed_sections": []
    },
    "kernelspec": {
      "name": "python3",
      "display_name": "Python 3"
    }
  },
  "cells": [
    {
      "cell_type": "markdown",
      "metadata": {
        "id": "7BcH9XYCe-Y_"
      },
      "source": [
        "![image](https://drive.google.com/u/0/uc?id=15DUc09hFGqR8qcpYiN1OajRNaASmiL6d&export=download)\n",
        "\n",
        "# **Taller No. 9 - ISIS4825**\n",
        "\n",
        "## **Regresión Logística para Clasificación Binaria y Análisis de Componentes Principales**\n",
        "## **Contenido**\n",
        "1. [**Objetivos**](#id1)\n",
        "2. [**Problema**](#id2)\n",
        "3. [**Importando las librerías necesarias para el laboratorio**](#id3)\n",
        "4. [**Visualización y Análisis Exploratorio**](#id4)\n",
        "5. [**Preparación de los Datos**](#id5)\n",
        "6. [**Modelamiento**](#id6)\n",
        "7. [**Predicción**](#id7)\n",
        "8. [**Validación**](#id8)\n",
        "9. [**Trabajo Asíncrono**](#id9)\n",
        "\n",
        "## **Objetivos**<a name=\"id1\"></a>\n",
        "\n",
        "- Familiarizarse con la regresón logística y sus parámetros.\n",
        "- Aplicar PCA como técnica de reducción de la dimensión.\n",
        "- Pensar en un problema de categorías desbalanceadas.\n",
        "\n",
        "## **Problema**<a name=\"id2\"></a>\n",
        "- En un dataset de imágenes de lenguaje de señas buscamos clasificar todas las imágenes que pertenezcan a la letra R y a la letra E."
      ]
    },
    {
      "cell_type": "markdown",
      "metadata": {
        "id": "55xiS-BdGMh0"
      },
      "source": [
        "### **Notebook Configuration**"
      ]
    },
    {
      "cell_type": "code",
      "metadata": {
        "id": "y6UrFHV7ebqB"
      },
      "source": [
        "!shred -u setup_colab.py\n",
        "!wget -q \"https://github.com/jpcano1/python_utils/raw/main/setup_colab_general.py\" -O setup_colab_general.py\n",
        "!wget -q \"https://github.com/jpcano1/python_utils/raw/main/ISIS_4825/setup_colab.py\" -O setup_colab.py\n",
        "import setup_colab as setup\n",
        "setup.setup_workshop_9()"
      ],
      "execution_count": null,
      "outputs": []
    },
    {
      "cell_type": "markdown",
      "metadata": {
        "id": "iwteyd-KGaDa"
      },
      "source": [
        "## **Importando las librerías necesarias para el laboratorio**<a name=\"id3\"></a>"
      ]
    },
    {
      "cell_type": "code",
      "metadata": {
        "id": "H0CYxAO9GWdj"
      },
      "source": [
        "from sklearn import datasets\n",
        "from sklearn.linear_model import LogisticRegression\n",
        "from sklearn.decomposition import PCA\n",
        "from sklearn.model_selection import (train_test_split, ShuffleSplit, \n",
        "                                     cross_val_score, GridSearchCV)\n",
        "from sklearn.metrics import (precision_score, recall_score, confusion_matrix, \n",
        "                             accuracy_score, f1_score, roc_curve, \n",
        "                             precision_recall_curve)\n",
        "from sklearn.utils import resample\n",
        "\n",
        "from utils import general as gen\n",
        "\n",
        "from tqdm.auto import tqdm\n",
        "\n",
        "import numpy as np\n",
        "import pandas as pd\n",
        "\n",
        "import matplotlib.pyplot as plt\n",
        "plt.style.use(\"ggplot\")\n",
        "import seaborn as sns"
      ],
      "execution_count": null,
      "outputs": []
    },
    {
      "cell_type": "markdown",
      "metadata": {
        "id": "4AHSMRDXsR_Q"
      },
      "source": [
        "### **Carga de Datos**"
      ]
    },
    {
      "cell_type": "code",
      "metadata": {
        "id": "WVCK2opdsRT1"
      },
      "source": [
        "train_dir = gen.create_and_verify(\"data\", \"sign_mnist_train.csv\")\n",
        "test_dir = gen.create_and_verify(\"data\", \"sign_mnist_test.csv\")"
      ],
      "execution_count": null,
      "outputs": []
    },
    {
      "cell_type": "code",
      "metadata": {
        "id": "Mu0H9oQPsxzL"
      },
      "source": [
        "train_data = pd.read_csv(train_dir)\n",
        "test_data = pd.read_csv(test_dir)"
      ],
      "execution_count": null,
      "outputs": []
    },
    {
      "cell_type": "code",
      "metadata": {
        "id": "MOWg8UhdtEUo"
      },
      "source": [
        "full_X_train, full_y_train = train_data.drop(columns=[\"label\"]), train_data[\"label\"]\n",
        "X_test, y_test = test_data.drop(columns=[\"label\"]), test_data[\"label\"]"
      ],
      "execution_count": null,
      "outputs": []
    },
    {
      "cell_type": "code",
      "metadata": {
        "id": "c0m0hVzK2rY7"
      },
      "source": [
        "if (full_y_train == 9).sum() == 0 or (y_test == 9).sum() == 0:\n",
        "    full_y_train = full_y_train.apply(lambda x: x - 1 if x > 8 else x)\n",
        "    y_test = y_test.apply(lambda x: x - 1 if x > 8 else x)"
      ],
      "execution_count": null,
      "outputs": []
    },
    {
      "cell_type": "code",
      "metadata": {
        "id": "5D6YS8H2P00e"
      },
      "source": [
        "if train_data.query(\"label==9\").size == 0 or test_data.query(\"label==9\").size == 0:\n",
        "    train_data[\"label\"] = train_data[\"label\"].apply(lambda x: x - 1 if x > 8 else x)\n",
        "    test_data[\"label\"] = test_data[\"label\"].apply(lambda x: x - 1 if x > 8 else x)"
      ],
      "execution_count": null,
      "outputs": []
    },
    {
      "cell_type": "code",
      "metadata": {
        "id": "wg_8nKcWv5Bh"
      },
      "source": [
        "full_X_train.shape, full_y_train.shape"
      ],
      "execution_count": null,
      "outputs": []
    },
    {
      "cell_type": "code",
      "metadata": {
        "id": "NJb1WIANv8JI"
      },
      "source": [
        "X_test.shape, y_test.shape"
      ],
      "execution_count": null,
      "outputs": []
    },
    {
      "cell_type": "markdown",
      "metadata": {
        "id": "9H2qqdaBk6x3"
      },
      "source": [
        "## **Visualización y Análisis Exploratorio**<a name=\"id4\"></a>\n",
        "- En este laboratorio vamos a usar una variación del dataset de MNIST que utiliza imágenes de lenguaje de señas. Cada número, desde el 0 hasta el 23, será asignado a cada seña.\n",
        "\n",
        "![image](https://docs.google.com/uc?export=download&id=17e0VoyKW_0HgmItDWqGiyB1Bl6C-e8G8)\n",
        "\n",
        "- Este dataset consta de 7172 imágenes en total con clases madianamente balanceadas."
      ]
    },
    {
      "cell_type": "code",
      "metadata": {
        "id": "yFL91zqjFtV4"
      },
      "source": [
        "random_sample = full_X_train.sample(9, random_state=1234)\n",
        "gen.visualize_subplot(\n",
        "    random_sample.values.reshape(-1, 28, 28),\n",
        "    full_y_train[random_sample.index].values, (3, 3), (6, 6)\n",
        ")"
      ],
      "execution_count": null,
      "outputs": []
    },
    {
      "cell_type": "code",
      "metadata": {
        "id": "U7J1GF6M3AdF"
      },
      "source": [
        "plt.figure(figsize=(10, 6))\n",
        "ax = full_y_train.plot(kind=\"hist\", bins=24)\n",
        "ax.set_xticks(range(24))\n",
        "plt.show()"
      ],
      "execution_count": null,
      "outputs": []
    },
    {
      "cell_type": "code",
      "metadata": {
        "id": "CvMda2WJ3h03"
      },
      "source": [
        "full_y_train.value_counts().sort_index()"
      ],
      "execution_count": null,
      "outputs": []
    },
    {
      "cell_type": "markdown",
      "metadata": {
        "id": "EJGR0H24qbez"
      },
      "source": [
        "## **Preparación de los Datos**<a name=\"id5\"></a>"
      ]
    },
    {
      "cell_type": "code",
      "metadata": {
        "id": "lxeExLPtmG9v"
      },
      "source": [
        "random_sample = full_X_train.sample(1, random_state=5678)\n",
        "sample_target = full_y_train[random_sample.index].values"
      ],
      "execution_count": null,
      "outputs": []
    },
    {
      "cell_type": "code",
      "metadata": {
        "id": "yI4uO5EvqnIu"
      },
      "source": [
        "gen.imshow(random_sample.values.reshape(28, 28), color=False, \n",
        "           title=sample_target[0])"
      ],
      "execution_count": null,
      "outputs": []
    },
    {
      "cell_type": "code",
      "metadata": {
        "id": "rgt9oqakParH"
      },
      "source": [
        "train_data_a = train_data.query(\"(label==4) | (label==16)\")\n",
        "test_data_a = test_data.query(\"(label==4) | (label==16)\")"
      ],
      "execution_count": null,
      "outputs": []
    },
    {
      "cell_type": "code",
      "metadata": {
        "id": "JxqRMVWbRSfR"
      },
      "source": [
        "full_X_train, full_y_train = train_data_a.drop(columns=[\"label\"]), train_data_a[\"label\"]\n",
        "X_test, y_test = test_data_a.drop(columns=[\"label\"]), test_data_a[\"label\"]"
      ],
      "execution_count": null,
      "outputs": []
    },
    {
      "cell_type": "code",
      "metadata": {
        "id": "-zF3pa8JRzRI"
      },
      "source": [
        "full_y_train = (full_y_train == 4).astype(\"uint8\")\n",
        "y_test = (y_test == 4).astype(\"uint8\")"
      ],
      "execution_count": null,
      "outputs": []
    },
    {
      "cell_type": "markdown",
      "metadata": {
        "id": "zY84Uu-2xluq"
      },
      "source": [
        "### **Train Set, Validation Set, Test Set**"
      ]
    },
    {
      "cell_type": "code",
      "metadata": {
        "id": "nPEsDkp60gdP"
      },
      "source": [
        "X_train, X_val, y_train, y_val = train_test_split(full_X_train,\n",
        "                                                  full_y_train,\n",
        "                                                  test_size=0.2,\n",
        "                                                  random_state=1234)"
      ],
      "execution_count": null,
      "outputs": []
    },
    {
      "cell_type": "code",
      "metadata": {
        "id": "D9iGxRN003Z0"
      },
      "source": [
        "random_sample = X_train.sample(9, random_state=1234)\n",
        "gen.visualize_subplot(\n",
        "    random_sample.values.reshape(-1, 28, 28),\n",
        "    y_train[random_sample.index].values, (3, 3), (6, 6)\n",
        ")"
      ],
      "execution_count": null,
      "outputs": []
    },
    {
      "cell_type": "markdown",
      "metadata": {
        "id": "mK77Sp4e2t9y"
      },
      "source": [
        "### **Desbalanceo de Clases**\n",
        "- Algo muy usual dentro de los problemas de clasificación binaria es el desbalanceo de clases. Esto implicará que nuestro algoritmo probablemente clasificará la clase mayoritaria, lo cual no debería ser.\n",
        "\n",
        "$$\\text{freq}_p = \\frac{\\text{Número de instancias positivas}}{\\text{Total de instancias}}$$\n",
        "\n",
        "$$\\text{freq}_n = \\frac{\\text{Número de instancias negativas}}{\\text{Total de instancias}}$$\n",
        "\n",
        "- En este caso, vamos a usar un método de la librería `Scikit-Learn` llamado `resample`. Esta función nos va a permitir hacer un remuestreo de la clase con mayor cantidad de instancias, para que tenga igual número de muestras que la clase con menor cantidad de instancias."
      ]
    },
    {
      "cell_type": "code",
      "metadata": {
        "id": "Rx0Mt6uO1DoR"
      },
      "source": [
        "plt.figure(figsize=(10, 6))\n",
        "y_train.astype(\"int\").plot(kind=\"hist\")\n",
        "plt.show()"
      ],
      "execution_count": null,
      "outputs": []
    },
    {
      "cell_type": "code",
      "metadata": {
        "id": "Rt_UywrE1tdn"
      },
      "source": [
        "def cat_frequencies(labels):\n",
        "    freq_p = labels.mean()\n",
        "    freq_n = 1 - freq_p\n",
        "    return freq_p, freq_n"
      ],
      "execution_count": null,
      "outputs": []
    },
    {
      "cell_type": "code",
      "metadata": {
        "id": "nUumlz4A4Aex"
      },
      "source": [
        "f_p, f_n = cat_frequencies(y_train)"
      ],
      "execution_count": null,
      "outputs": []
    },
    {
      "cell_type": "code",
      "metadata": {
        "id": "SxSmFlkn4CpI"
      },
      "source": [
        "f_p, f_n"
      ],
      "execution_count": null,
      "outputs": []
    },
    {
      "cell_type": "code",
      "metadata": {
        "id": "NQhvfu6f4qC4"
      },
      "source": [
        "total = pd.concat([X_train, y_train], axis=1)"
      ],
      "execution_count": null,
      "outputs": []
    },
    {
      "cell_type": "code",
      "metadata": {
        "id": "e6xtFaSQ7KlU"
      },
      "source": [
        "neg_class = total.query(\"label==0\")\n",
        "pos_class = total.query(\"label==1\")"
      ],
      "execution_count": null,
      "outputs": []
    },
    {
      "cell_type": "code",
      "metadata": {
        "id": "E9_ScsZk7lzg"
      },
      "source": [
        "neg_class_downsampled = resample(neg_class, replace=False,\n",
        "                                 n_samples=len(pos_class), \n",
        "                                 random_state=1234)"
      ],
      "execution_count": null,
      "outputs": []
    },
    {
      "cell_type": "code",
      "metadata": {
        "id": "hO2QFwXr7yBF"
      },
      "source": [
        "balanced_data = pd.concat([neg_class_downsampled, pos_class])"
      ],
      "execution_count": null,
      "outputs": []
    },
    {
      "cell_type": "code",
      "metadata": {
        "id": "kEhcDABi78CN"
      },
      "source": [
        "y_train = balanced_data[\"label\"]\n",
        "X_train = balanced_data.drop(\"label\", axis=1)"
      ],
      "execution_count": null,
      "outputs": []
    },
    {
      "cell_type": "code",
      "metadata": {
        "id": "anPKou5w8DFx"
      },
      "source": [
        "f_p, f_n = cat_frequencies(y_train)"
      ],
      "execution_count": null,
      "outputs": []
    },
    {
      "cell_type": "code",
      "metadata": {
        "id": "hKjdEj0z8IIl"
      },
      "source": [
        "f_p, f_n"
      ],
      "execution_count": null,
      "outputs": []
    },
    {
      "cell_type": "markdown",
      "metadata": {
        "id": "RLNyzo5SyBcw"
      },
      "source": [
        "## **Modelamiento**<a name=\"id6\"></a>\n",
        "- En esta ocasión se hará uso de la regresión Logística, una función lineal ampliamente usada en problemas de clasificación binaria.\n",
        "\n",
        "$$\\text{sigmoid}(x)=\\frac{1}{1+e^{-x}}$$"
      ]
    },
    {
      "cell_type": "code",
      "metadata": {
        "id": "tI-zxbbRx7bC"
      },
      "source": [
        "log_reg = LogisticRegression(n_jobs=-1)"
      ],
      "execution_count": null,
      "outputs": []
    },
    {
      "cell_type": "code",
      "metadata": {
        "id": "f3MVUD8gyRJ2"
      },
      "source": [
        "log_reg.fit(X_train, y_train)"
      ],
      "execution_count": null,
      "outputs": []
    },
    {
      "cell_type": "markdown",
      "metadata": {
        "id": "2CpfO-tB_ZFP"
      },
      "source": [
        "## **Predicción**<a name=\"id7\"></a>"
      ]
    },
    {
      "cell_type": "code",
      "metadata": {
        "id": "JkLHUn5S-H6C"
      },
      "source": [
        "random_sample = X_test.sample(9, random_state=1234)\n",
        "y_pred = log_reg.predict(random_sample)"
      ],
      "execution_count": null,
      "outputs": []
    },
    {
      "cell_type": "code",
      "metadata": {
        "id": "7Thl263E_jrK"
      },
      "source": [
        "gen.visualize_subplot(\n",
        "    random_sample.values.reshape(-1, 28, 28),\n",
        "    y_pred, (3, 3), (6, 6)\n",
        ")"
      ],
      "execution_count": null,
      "outputs": []
    },
    {
      "cell_type": "markdown",
      "metadata": {
        "id": "HnB6777bC2m0"
      },
      "source": [
        "## **Validación**<a name=\"id8\"></a>"
      ]
    },
    {
      "cell_type": "code",
      "metadata": {
        "id": "XRZeVVbb_uIU"
      },
      "source": [
        "y_pred = log_reg.predict(X_test)"
      ],
      "execution_count": null,
      "outputs": []
    },
    {
      "cell_type": "code",
      "metadata": {
        "id": "NvNHal_SC8VK"
      },
      "source": [
        "conf_matrix = confusion_matrix(y_test, y_pred)"
      ],
      "execution_count": null,
      "outputs": []
    },
    {
      "cell_type": "code",
      "metadata": {
        "id": "u1ivWxf7DBun"
      },
      "source": [
        "pd.DataFrame(conf_matrix)"
      ],
      "execution_count": null,
      "outputs": []
    },
    {
      "cell_type": "code",
      "metadata": {
        "id": "lIvYG8pLDDkL"
      },
      "source": [
        "plt.matshow(conf_matrix, cmap=\"gray\")\n",
        "plt.grid(0)\n",
        "plt.show()"
      ],
      "execution_count": null,
      "outputs": []
    },
    {
      "cell_type": "code",
      "metadata": {
        "id": "HJ6fL2g-DiBH"
      },
      "source": [
        "norm_conf_mat = conf_matrix / conf_matrix.sum(axis=1, keepdims=True)\n",
        "np.fill_diagonal(norm_conf_mat, 0)"
      ],
      "execution_count": null,
      "outputs": []
    },
    {
      "cell_type": "code",
      "metadata": {
        "id": "YcnnfaE2DkTb"
      },
      "source": [
        "plt.matshow(norm_conf_mat, cmap=\"gray\")\n",
        "plt.grid(0)\n",
        "plt.show()"
      ],
      "execution_count": null,
      "outputs": []
    },
    {
      "cell_type": "code",
      "metadata": {
        "id": "B9o2sJgMDlpn"
      },
      "source": [
        "accuracy_score(y_test, y_pred)"
      ],
      "execution_count": null,
      "outputs": []
    },
    {
      "cell_type": "code",
      "metadata": {
        "id": "_RoRZRD8DtM5"
      },
      "source": [
        "recall_score(y_test, y_pred)"
      ],
      "execution_count": null,
      "outputs": []
    },
    {
      "cell_type": "code",
      "metadata": {
        "id": "YWCD-x3GDwQ1"
      },
      "source": [
        "precision_score(y_test, y_pred)"
      ],
      "execution_count": null,
      "outputs": []
    },
    {
      "cell_type": "code",
      "metadata": {
        "id": "w3GKhr7JzVcS"
      },
      "source": [
        "cross_val_score(log_reg, full_X_train, full_y_train, cv=4, scoring=\"accuracy\")"
      ],
      "execution_count": null,
      "outputs": []
    },
    {
      "cell_type": "markdown",
      "metadata": {
        "id": "Um-AstRjoLYX"
      },
      "source": [
        "## **Trabajo Asíncrono**<a name=\"id9\"></a>\n",
        "1. En primera instancia, utilizar [`GridSearch`](https://scikit-learn.org/stable/modules/generated/sklearn.model_selection.GridSearchCV.html) para determinar los mejores valores de los hiperparámetros. Para eso, averiguar sobre los siguientes hiperparámetros:\n",
        "\n",
        "    - `penalty: 'l1' y 'l2'`\n",
        "    - `C`\n",
        "    - `solver: 'saga', 'liblinear'`\n",
        "2. Luego, realizar una clasificación multiclase sobre este mismo dataset y con las clases desde la 'A' hasta la 'K'. Revisar la documentación de la regresión logística [aquí](https://scikit-learn.org/stable/modules/generated/sklearn.linear_model.LogisticRegression.html)\n",
        "3. Por último, aplicar [PCA](https://es.wikipedia.org/wiki/An%C3%A1lisis_de_componentes_principales) para construir un conjunto de datos de dimensión reducida para el problema multiclase del punto 2. Comparar los resultados con base en las métricas de clasificación sobre el conjunto de test. Para lo anterior, se puede hacer uso de la clase [`PCA`](https://scikit-learn.org/stable/modules/generated/sklearn.decomposition.PCA.html) de `scikit-learn`"
      ]
    },
    {
      "cell_type": "code",
      "metadata": {
        "id": "s_LCZnZxvtxE"
      },
      "source": [
        ""
      ],
      "execution_count": null,
      "outputs": []
    }
  ]
}