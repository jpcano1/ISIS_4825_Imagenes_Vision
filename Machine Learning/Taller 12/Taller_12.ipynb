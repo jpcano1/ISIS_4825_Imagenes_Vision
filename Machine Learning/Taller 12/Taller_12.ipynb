{
  "nbformat": 4,
  "nbformat_minor": 0,
  "metadata": {
    "colab": {
      "name": "Taller_12.ipynb",
      "provenance": [],
      "collapsed_sections": []
    },
    "kernelspec": {
      "name": "python3",
      "display_name": "Python 3"
    },
    "accelerator": "GPU"
  },
  "cells": [
    {
      "cell_type": "markdown",
      "metadata": {
        "id": "T4ONwBrVFKw5"
      },
      "source": [
        "![image](https://drive.google.com/u/0/uc?id=15DUc09hFGqR8qcpYiN1OajRNaASmiL6d&export=download)\n",
        "\n",
        "# **Taller No. 12 - ISIS4825**\n",
        "\n",
        "## **Redes Neuronales Convolucionales, Arquitecturas Neuronales y Aprendizaje Profundo**\n",
        "## **Contenido**\n",
        "1. [**Objetivos**](#id1)\n",
        "2. [**Problema**](#id2)\n",
        "3. [**Importando las librerías necesarias para el laboratorio**](#id3)\n",
        "4. [**Visualización y Análisis Exploratorio**](#id4)\n",
        "5. [**Preparación de los Datos**](#id5)\n",
        "6. [**Modelamiento**](#id6)\n",
        "7. [**Predicción**](#id7)\n",
        "8. [**Validación**](#id8)\n",
        "9. [**Trabajo Asíncrono**](#id9)\n",
        "\n",
        "## **Objetivos**<a name=\"id1\"></a>\n",
        "- Entrar en materia con las Redes Neuronales Convolucionales.\n",
        "- Conocer tácticas de aprendizaje y mejoras en el entrenamiento.\n",
        "- Familiarizarse con el aprendizaje por transferencia.\n",
        "- Entrar en más profundidad con los gadgets de `TensorFlow` y `Keras`.\n",
        "- Aprender arquitecturas neuronales, sus ventajas y desventajas.\n",
        "\n",
        "## **Problema**<a name=\"id2\"></a>\n",
        "- En un cultivo de gran área se busca hacer la clasificación de 9 especies que allí habitan, dado que hacen daño al ecosistema. El objetivo de la clasificación es identificar correctamente la planta, para respectiva su extracción."
      ]
    },
    {
      "cell_type": "markdown",
      "metadata": {
        "id": "DpN6mAukFF6Z"
      },
      "source": [
        "## **Notebook Configuration**"
      ]
    },
    {
      "cell_type": "code",
      "metadata": {
        "id": "KZZVP2b4BSHN"
      },
      "source": [
        "!shred -u setup_colab.py\n",
        "!shred -u setup_colab_general.py\n",
        "!wget -q \"https://github.com/jpcano1/python_utils/raw/main/setup_colab_general.py\" -O setup_colab_general.py\n",
        "!wget -q \"https://github.com/jpcano1/python_utils/raw/main/ISIS_4825/setup_colab.py\" -O setup_colab.py\n",
        "import setup_colab as setup\n",
        "setup.setup_workshop_12()"
      ],
      "execution_count": null,
      "outputs": []
    },
    {
      "cell_type": "markdown",
      "metadata": {
        "id": "yQD8-zw0FWJR"
      },
      "source": [
        "## **Importando las librerías necesarias para el laboratorio**<a name=\"id3\"></a>"
      ]
    },
    {
      "cell_type": "code",
      "metadata": {
        "id": "w-ubxWb3Ci1l"
      },
      "source": [
        "import os\n",
        "\n",
        "import tensorflow as tf\n",
        "from tensorflow import keras\n",
        "from tensorflow.keras import backend as K\n",
        "from tensorflow.keras.preprocessing.image import ImageDataGenerator\n",
        "import tensorflow_datasets as tfds\n",
        "\n",
        "from skimage import io\n",
        "\n",
        "from utils import general as gen\n",
        "from utils import tf_utils\n",
        "\n",
        "import numpy as np\n",
        "import pandas as pd\n",
        "\n",
        "import matplotlib.pyplot as plt\n",
        "plt.style.use(\"seaborn-deep\")\n",
        "import seaborn as sns\n",
        "\n",
        "from sklearn.model_selection import ShuffleSplit\n",
        "from sklearn.utils import resample\n",
        "from sklearn.metrics import confusion_matrix"
      ],
      "execution_count": null,
      "outputs": []
    },
    {
      "cell_type": "markdown",
      "metadata": {
        "id": "uE4Vb2PhFfOO"
      },
      "source": [
        "### **Carga de Datos**"
      ]
    },
    {
      "cell_type": "code",
      "metadata": {
        "id": "ZfYIeKpW3WL-"
      },
      "source": [
        "data_dir = gen.read_listdir(\"data\")\n",
        "labels = pd.read_csv(\"data/labels.csv\")"
      ],
      "execution_count": null,
      "outputs": []
    },
    {
      "cell_type": "code",
      "metadata": {
        "id": "5KLFCCBD3mh1"
      },
      "source": [
        "labels.head()"
      ],
      "execution_count": null,
      "outputs": []
    },
    {
      "cell_type": "markdown",
      "metadata": {
        "id": "3t5fbp1eICAj"
      },
      "source": [
        "## **Visualización y Análisis Exploratorio**<a name=\"id4\"></a>\n",
        "- En esta ocación nos vamos a enfrentar al dataset *Deep Weeds*. Que es un dataset que busca clasificar distintas especies de maleza silvestre para efectuar un control de plagas vegetativas más certero. Las especies son las siguientes:\n",
        "    - Chinee apple\n",
        "    - Lantana\n",
        "    - Negative\n",
        "    - Parkinsonia\n",
        "    - Parthenium\n",
        "    - Prickly acacia\n",
        "    - Rubber vine\n",
        "    - Siam weed\n",
        "    - Snake weed\n"
      ]
    },
    {
      "cell_type": "code",
      "metadata": {
        "id": "zOggLRYFHCXm"
      },
      "source": [
        "np.random.seed(5678)\n",
        "random_sample = np.random.choice(len(data_dir), 9)"
      ],
      "execution_count": null,
      "outputs": []
    },
    {
      "cell_type": "code",
      "metadata": {
        "id": "5gNN4Lz6HUiQ"
      },
      "source": [
        "imgs = []\n",
        "for i in random_sample:\n",
        "    img = io.imread(data_dir[i])\n",
        "    imgs.append(img)"
      ],
      "execution_count": null,
      "outputs": []
    },
    {
      "cell_type": "code",
      "metadata": {
        "id": "cbr23SHgH61b"
      },
      "source": [
        "gen.visualize_subplot(imgs, labels.loc[random_sample, \"Species\"].values, \n",
        "                      (3, 3), (10, 10))"
      ],
      "execution_count": null,
      "outputs": []
    },
    {
      "cell_type": "code",
      "metadata": {
        "id": "C_B2fu_Fd4hL"
      },
      "source": [
        "distribution = labels[\"Species\"].value_counts().sort_index()"
      ],
      "execution_count": null,
      "outputs": []
    },
    {
      "cell_type": "code",
      "metadata": {
        "id": "tw58k7igsiN9"
      },
      "source": [
        "ax = sns.barplot(x=distribution.index, y=distribution.values, palette=\"Set1\")\n",
        "ax.set_xticklabels(distribution.index, rotation=45)\n",
        "plt.show()"
      ],
      "execution_count": null,
      "outputs": []
    },
    {
      "cell_type": "code",
      "metadata": {
        "id": "R7KKpWq8eYWO"
      },
      "source": [
        "n_samples = 1100"
      ],
      "execution_count": null,
      "outputs": []
    },
    {
      "cell_type": "code",
      "metadata": {
        "id": "cUhbXG6peu5n"
      },
      "source": [
        "pos_class = labels.query(\"Label != 8\")\n",
        "neg_class = labels.query(\"Label == 8\")"
      ],
      "execution_count": null,
      "outputs": []
    },
    {
      "cell_type": "code",
      "metadata": {
        "id": "RGGeNJ0oe82O"
      },
      "source": [
        "neg_class_downsampled = resample(neg_class, replace=False, \n",
        "                                  n_samples=n_samples, \n",
        "                                  random_state=1234)"
      ],
      "execution_count": null,
      "outputs": []
    },
    {
      "cell_type": "code",
      "metadata": {
        "id": "n7uG_CPsfU7F"
      },
      "source": [
        "labels_resampled = pd.concat([pos_class, neg_class_downsampled])"
      ],
      "execution_count": null,
      "outputs": []
    },
    {
      "cell_type": "code",
      "metadata": {
        "id": "_ft0KljIfgbi"
      },
      "source": [
        "labels_resampled.reset_index(drop=True, inplace=True)"
      ],
      "execution_count": null,
      "outputs": []
    },
    {
      "cell_type": "code",
      "metadata": {
        "id": "UH4SgIAofwig"
      },
      "source": [
        "labels = labels_resampled.copy()"
      ],
      "execution_count": null,
      "outputs": []
    },
    {
      "cell_type": "code",
      "metadata": {
        "id": "XzFB_jsOiSKt"
      },
      "source": [
        "labels[\"Species\"].value_counts().sort_index()"
      ],
      "execution_count": null,
      "outputs": []
    },
    {
      "cell_type": "markdown",
      "metadata": {
        "id": "aFAlZtYuIdM7"
      },
      "source": [
        "## **Preparación de los Datos**<a name=\"id5\"></a>"
      ]
    },
    {
      "cell_type": "code",
      "metadata": {
        "id": "yEDlvogSIgil"
      },
      "source": [
        "shuffle_split = ShuffleSplit(test_size=0.2, random_state=1234)"
      ],
      "execution_count": null,
      "outputs": []
    },
    {
      "cell_type": "code",
      "metadata": {
        "id": "Ik0cYmURI8AS"
      },
      "source": [
        "for full_train_index, test_index in shuffle_split.split(labels):\n",
        "    full_train_set = labels.loc[full_train_index]\n",
        "    test_set = labels.loc[test_index]"
      ],
      "execution_count": null,
      "outputs": []
    },
    {
      "cell_type": "code",
      "metadata": {
        "id": "PdjVrK3QJfhT"
      },
      "source": [
        "full_train_set.reset_index(drop=True, inplace=True)\n",
        "test_set.reset_index(drop=True, inplace=True)"
      ],
      "execution_count": null,
      "outputs": []
    },
    {
      "cell_type": "code",
      "metadata": {
        "id": "cGYi2KnKJLDi"
      },
      "source": [
        "for train_index, val_index in shuffle_split.split(full_train_set):\n",
        "    train_set = full_train_set.loc[train_index]\n",
        "    val_set = full_train_set.loc[val_index]"
      ],
      "execution_count": null,
      "outputs": []
    },
    {
      "cell_type": "code",
      "metadata": {
        "id": "AvAIZTQtJu2R"
      },
      "source": [
        "train_set.reset_index(drop=True, inplace=True)\n",
        "val_set.reset_index(drop=True, inplace=True)"
      ],
      "execution_count": null,
      "outputs": []
    },
    {
      "cell_type": "code",
      "metadata": {
        "id": "7ST219hmJ1Gq"
      },
      "source": [
        "train_datagen = ImageDataGenerator(horizontal_flip=True,\n",
        "                                   vertical_flip=True, \n",
        "                                   zoom_range=0.5,\n",
        "                                   rescale=1/255.,\n",
        "                                   rotation_range=10,\n",
        "                                   brightness_range=[1, 1.5], \n",
        "                                   fill_mode=\"wrap\")\n",
        "\n",
        "val_dataget = ImageDataGenerator(rescale=1/255.)"
      ],
      "execution_count": null,
      "outputs": []
    },
    {
      "cell_type": "code",
      "metadata": {
        "id": "R2xDzV7QKADL"
      },
      "source": [
        "size = (128, 128)"
      ],
      "execution_count": null,
      "outputs": []
    },
    {
      "cell_type": "code",
      "metadata": {
        "id": "LYyjPus-KC_N"
      },
      "source": [
        "train_generator = train_datagen.flow_from_dataframe(train_set, \n",
        "                                                    directory=\"data\",\n",
        "                                                    x_col=\"Filename\", \n",
        "                                                    y_col=\"Species\", \n",
        "                                                    target_size=size)\n",
        "\n",
        "valid_generator = val_dataget.flow_from_dataframe(val_set, directory=\"data\",\n",
        "                                                  x_col=\"Filename\", \n",
        "                                                  y_col=\"Species\", \n",
        "                                                  target_size=size, \n",
        "                                                  shuffle=False, \n",
        "                                                  batch_size=16)"
      ],
      "execution_count": null,
      "outputs": []
    },
    {
      "cell_type": "code",
      "metadata": {
        "id": "cPcU_f4GxDA6"
      },
      "source": [
        "np.random.seed(1234)\n",
        "random_batch = np.random.randint(0, len(train_generator))\n",
        "X_batch, y_batch = train_generator[random_batch]"
      ],
      "execution_count": null,
      "outputs": []
    },
    {
      "cell_type": "code",
      "metadata": {
        "id": "pwV79aCpxM55"
      },
      "source": [
        "np.random.seed(1234)\n",
        "random_sample = np.random.choice(len(X_batch), 9)\n",
        "y_batch = labels.Species.unique()[ y_batch[random_sample].argmax(axis=1)]"
      ],
      "execution_count": null,
      "outputs": []
    },
    {
      "cell_type": "code",
      "metadata": {
        "id": "KjVc9_RkyAwm"
      },
      "source": [
        "gen.visualize_subplot(X_batch[random_sample], \n",
        "                      y_batch, (3, 3), (10, 10))"
      ],
      "execution_count": null,
      "outputs": []
    },
    {
      "cell_type": "markdown",
      "metadata": {
        "id": "bcsa-dYWi9hz"
      },
      "source": [
        "## **Modelamiento**<a name=\"id6\"></a>\n",
        "- Inception:\n",
        "\n",
        "![image](https://cloud.google.com/tpu/docs/images/inceptionv3onc--oview.png?hl=es)"
      ]
    },
    {
      "cell_type": "code",
      "metadata": {
        "id": "dMFyoBLZP1xa"
      },
      "source": [
        "if not os.path.exists(\"models\"):\n",
        "    os.makedirs(\"models\")\n",
        "\n",
        "weights_dir = \"models/weights.h5\""
      ],
      "execution_count": null,
      "outputs": []
    },
    {
      "cell_type": "code",
      "metadata": {
        "id": "dIEket5tYs3u"
      },
      "source": [
        "base_model = keras.applications.InceptionV3(include_top=False,\n",
        "                                            weights=\"imagenet\", \n",
        "                                            input_shape=(*size, 3))\n",
        "global_avg = keras.layers.GlobalAveragePooling2D()(base_model.output)\n",
        "dense_1 = tf_utils.DenseBlock(128)(global_avg)\n",
        "dense_2 = tf_utils.DenseBlock(64)(dense_1)\n",
        "\n",
        "output = keras.layers.Dense(9, activation=\"softmax\")(dense_2)\n",
        "model = keras.Model(inputs=base_model.inputs, outputs=output)\n",
        "\n",
        "lr = 1e-3"
      ],
      "execution_count": null,
      "outputs": []
    },
    {
      "cell_type": "code",
      "metadata": {
        "id": "baNpjM4DsS2z"
      },
      "source": [
        "for layer in base_model.layers:\n",
        "    layer.trainable = False"
      ],
      "execution_count": null,
      "outputs": []
    },
    {
      "cell_type": "code",
      "metadata": {
        "id": "mfq8kjJ5sc5v"
      },
      "source": [
        "model.summary()"
      ],
      "execution_count": null,
      "outputs": []
    },
    {
      "cell_type": "code",
      "metadata": {
        "id": "yhu2ZWawslHA"
      },
      "source": [
        "optimizer = keras.optimizers.Adam(lr=lr)\n",
        "model.compile(optimizer=optimizer, loss=\"categorical_crossentropy\", \n",
        "              metrics=[\"acc\"])\n",
        "params = {\n",
        "    \"steps_per_epoch\": train_generator.samples // train_generator.batch_size,\n",
        "    \"validation_steps\": valid_generator.samples // valid_generator.batch_size,\n",
        "    \"epochs\": 5,\n",
        "    \"validation_data\": valid_generator\n",
        "}"
      ],
      "execution_count": null,
      "outputs": []
    },
    {
      "cell_type": "code",
      "metadata": {
        "id": "_-KemKp6srgF"
      },
      "source": [
        "history = model.fit(train_generator, **params)"
      ],
      "execution_count": null,
      "outputs": []
    },
    {
      "cell_type": "code",
      "metadata": {
        "id": "BtnJLi7Ft-fy"
      },
      "source": [
        "for layer in base_model.layers:\n",
        "    layer.trainable = True"
      ],
      "execution_count": null,
      "outputs": []
    },
    {
      "cell_type": "code",
      "metadata": {
        "id": "5OWpWMrdt_58"
      },
      "source": [
        "model.summary()"
      ],
      "execution_count": null,
      "outputs": []
    },
    {
      "cell_type": "markdown",
      "metadata": {
        "id": "Ft5idTJL2n_7"
      },
      "source": [
        "### **Adam Optimizer**\n",
        "- Adam se refiere a *adaptative moment estimation*, y es un optimizador rápido con buen grado de convergencia, es ampliamente usado y es una variación más de SGD.\n",
        "- He aquí una tabla con las características de los mejores optimizadores.\n",
        "\n",
        "|Class|Convergence Speed|Convergence Quality|\n",
        "|---|---|---|\n",
        "|SGD|*|***|\n",
        "|SGD(momentum=...)|**|***|\n",
        "|SGD(momentum=..., nesterov=True)|**|***|\n",
        "|Adagrad|***|* (Se detiene muy antes)|\n",
        "|RMSprop|***|** o ***|\n",
        "|Adam|***|** o ***|\n",
        "|Nadam|***|** o ***|\n",
        "|AdaMax|***|** o ***|"
      ]
    },
    {
      "cell_type": "code",
      "metadata": {
        "id": "vbdnZRvmnI4j"
      },
      "source": [
        "optimizer = keras.optimizers.Adam(lr=lr)\n",
        "metrics = [keras.metrics.Precision(name=\"Precision\"), \n",
        "           keras.metrics.Recall(name=\"Recall\"), \"accuracy\"]\n",
        "\n",
        "callbacks = [tf_utils.CustomCallback(weights_dir, patience=5)]\n",
        "\n",
        "model.compile(optimizer=optimizer, loss=\"categorical_crossentropy\", \n",
        "              metrics=metrics)"
      ],
      "execution_count": null,
      "outputs": []
    },
    {
      "cell_type": "code",
      "metadata": {
        "id": "lSwvyf5hdDkI"
      },
      "source": [
        "params = {\n",
        "    \"steps_per_epoch\": train_generator.samples // train_generator.batch_size,\n",
        "    \"validation_steps\": valid_generator.samples // valid_generator.batch_size,\n",
        "    \"callbacks\": callbacks,\n",
        "    \"epochs\": 10,\n",
        "    \"validation_data\": valid_generator\n",
        "}"
      ],
      "execution_count": null,
      "outputs": []
    },
    {
      "cell_type": "code",
      "metadata": {
        "id": "Uzc2qgB-ne3C"
      },
      "source": [
        "history = model.fit(train_generator, **params)"
      ],
      "execution_count": null,
      "outputs": []
    },
    {
      "cell_type": "markdown",
      "metadata": {
        "id": "DnbMMLNNnklw"
      },
      "source": [
        "## **Predicción**<a name=\"id7\"></a>\n",
        "\n"
      ]
    },
    {
      "cell_type": "code",
      "metadata": {
        "id": "QzIJBgcf8f5d"
      },
      "source": [
        "inception_dir = \"models/inception.h5\"\n",
        "\n",
        "if os.path.exists(inception_dir):\n",
        "    model.load_weights(inception_dir)\n",
        "    print(\"Weights Loaded!!\")\n",
        "    lr = 1e-4"
      ],
      "execution_count": null,
      "outputs": []
    },
    {
      "cell_type": "code",
      "metadata": {
        "id": "xTCuDXh2KmBo"
      },
      "source": [
        "test_datagen = ImageDataGenerator(rescale=1/255.)\n",
        "\n",
        "test_generator = test_datagen.flow_from_dataframe(test_set, directory=\"data\", \n",
        "                                                  x_col=\"Filename\", \n",
        "                                                  y_col=\"Species\", \n",
        "                                                  target_size=size, \n",
        "                                                  shuffle=False, \n",
        "                                                  batch_size=16)"
      ],
      "execution_count": null,
      "outputs": []
    },
    {
      "cell_type": "code",
      "metadata": {
        "id": "m5QZCUcre0U8"
      },
      "source": [
        "np.random.seed(1234)\n",
        "random_batch = np.random.randint(0, len(test_generator))\n",
        "X_batch, y_batch = test_generator[random_batch]"
      ],
      "execution_count": null,
      "outputs": []
    },
    {
      "cell_type": "code",
      "metadata": {
        "id": "B6-C8bQrbAH_"
      },
      "source": [
        "np.random.seed(5678)\n",
        "random_sample = np.random.choice(len(X_batch), 9)"
      ],
      "execution_count": null,
      "outputs": []
    },
    {
      "cell_type": "code",
      "metadata": {
        "id": "zBxfwEQEWd_l"
      },
      "source": [
        "y_pred = model.predict(X_batch[random_sample])\n",
        "y_pred = labels[\"Species\"].unique()[y_pred.argmax(axis=1)]"
      ],
      "execution_count": null,
      "outputs": []
    },
    {
      "cell_type": "code",
      "metadata": {
        "id": "tZCU3ol3aBrg"
      },
      "source": [
        "y_batch = labels[\"Species\"].unique()[y_batch[random_sample].argmax(axis=1)]"
      ],
      "execution_count": null,
      "outputs": []
    },
    {
      "cell_type": "code",
      "metadata": {
        "id": "RhbBvfxnbRe4"
      },
      "source": [
        "titles = [f\"{y_t} - {y_p}\" for y_t, y_p in zip(y_batch, y_pred)]"
      ],
      "execution_count": null,
      "outputs": []
    },
    {
      "cell_type": "code",
      "metadata": {
        "id": "X3N96uk5cJqB"
      },
      "source": [
        "gen.visualize_subplot(\n",
        "    X_batch[random_sample], \n",
        "    titles, (3, 3), (10, 10)\n",
        ")"
      ],
      "execution_count": null,
      "outputs": []
    },
    {
      "cell_type": "markdown",
      "metadata": {
        "id": "ZEwxeBaccvDa"
      },
      "source": [
        "## **Validación**<a name=\"id8\"></a>"
      ]
    },
    {
      "cell_type": "code",
      "metadata": {
        "id": "6E7RjZz5cKUS"
      },
      "source": [
        "loss, precision, recall, acc = model.evaluate(test_generator)"
      ],
      "execution_count": null,
      "outputs": []
    },
    {
      "cell_type": "code",
      "metadata": {
        "id": "qglYz8zcnJG6"
      },
      "source": [
        "loss"
      ],
      "execution_count": null,
      "outputs": []
    },
    {
      "cell_type": "code",
      "metadata": {
        "id": "qgx-G3kOnJ9b"
      },
      "source": [
        "precision"
      ],
      "execution_count": null,
      "outputs": []
    },
    {
      "cell_type": "code",
      "metadata": {
        "id": "ModA3tEunLJD"
      },
      "source": [
        "recall"
      ],
      "execution_count": null,
      "outputs": []
    },
    {
      "cell_type": "code",
      "metadata": {
        "id": "PPh4qqsnnYwu"
      },
      "source": [
        "acc"
      ],
      "execution_count": null,
      "outputs": []
    },
    {
      "cell_type": "code",
      "metadata": {
        "id": "FR-yDmVTc_F8"
      },
      "source": [
        "y_pred = model.predict(test_generator)"
      ],
      "execution_count": null,
      "outputs": []
    },
    {
      "cell_type": "code",
      "metadata": {
        "id": "VrqcH7M3dHAW"
      },
      "source": [
        "y_pred = y_pred.argmax(axis=1)"
      ],
      "execution_count": null,
      "outputs": []
    },
    {
      "cell_type": "code",
      "metadata": {
        "id": "jMzZol9fdLgy"
      },
      "source": [
        "conf_matrix = confusion_matrix(test_generator.labels, y_pred)"
      ],
      "execution_count": null,
      "outputs": []
    },
    {
      "cell_type": "code",
      "metadata": {
        "id": "254gCiUGdMJm"
      },
      "source": [
        "plt.matshow(conf_matrix, cmap=\"gray\")\n",
        "plt.xlabel(\"Predicted Label\")\n",
        "plt.ylabel(\"True Label\")\n",
        "plt.show()"
      ],
      "execution_count": null,
      "outputs": []
    },
    {
      "cell_type": "code",
      "metadata": {
        "id": "dryLs9Lgdh3E"
      },
      "source": [
        "norm_conf_mat = conf_matrix / conf_matrix.sum(axis=1, keepdims=True)\n",
        "np.fill_diagonal(norm_conf_mat, 0)"
      ],
      "execution_count": null,
      "outputs": []
    },
    {
      "cell_type": "code",
      "metadata": {
        "id": "uH_-O24Odriy"
      },
      "source": [
        "plt.matshow(norm_conf_mat, cmap=\"gray\")\n",
        "plt.xlabel(\"Predicted Label\")\n",
        "plt.ylabel(\"True Label\")\n",
        "plt.show()"
      ],
      "execution_count": null,
      "outputs": []
    },
    {
      "cell_type": "markdown",
      "metadata": {
        "id": "xZQkBf5on4xe"
      },
      "source": [
        "## **Trabajo Asíncrono**<a name=\"id9\"></a>\n",
        "1. Investigue sobre las redes convolucionales pre-entrenadas que vienen incorporadas en `keras.applications` y seleccione una para resolver el problema propuesto del taller (conjunto de datos DeepWeeds). Justifique por qué la está usando (máximo un párrafo) y compare métricas de desempeño sobre el test set con respecto a los arrojados por la arquitectura del taller.\n",
        "2. Ahora, tome un dataset de los que vienen incorporados en [TensorFlow](https://www.tensorflow.org/datasets/catalog/overview?hl=es-419) y resuelva el problema de clasificación asociado usando aprendizaje por transferencia (No está permitido seleccionar un dataset de la familia MNIST, ni tampoco el dataset del proyecto).\n",
        "3. Desarrolle su propio [callback](https://www.tensorflow.org/guide/keras/custom_callback?hl=es-419) para resolver nuevamente el problema del punto anterior."
      ]
    },
    {
      "cell_type": "code",
      "metadata": {
        "id": "yjYpJhLZoiad"
      },
      "source": [
        ""
      ],
      "execution_count": null,
      "outputs": []
    }
  ]
}