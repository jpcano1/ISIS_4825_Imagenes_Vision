{
  "nbformat": 4,
  "nbformat_minor": 0,
  "metadata": {
    "colab": {
      "name": "Data_loaders.ipynb",
      "provenance": [],
      "collapsed_sections": []
    },
    "kernelspec": {
      "name": "python3",
      "display_name": "Python 3"
    }
  },
  "cells": [
    {
      "cell_type": "markdown",
      "metadata": {
        "id": "RR9Rv0_8_-cP"
      },
      "source": [
        "![image](https://drive.google.com/u/0/uc?id=15DUc09hFGqR8qcpYiN1OajRNaASmiL6d&export=download)\n",
        "\n",
        "# **Taller Extra - ISIS4825**\n",
        "\n",
        "## **Generación de Datos y Preprocesamiento**\n",
        "## **Contenido**\n",
        "1. [**Objetivos**](#id1)\n",
        "2. [**Problema**](#id2)\n",
        "3. [**Importando las librerías necesarias para el laboratorio**](#id3)\n",
        "4. [**Visualización y Análisis Exploratorio**](#id4)\n",
        "\n",
        "## **Objetivos**<a name=\"id1\"></a>\n",
        "\n",
        "- Familiarizarse con la generación de datos usando código nativo, TensorFlow y PyTorch\n",
        "- Aplicar `scikit-image` al preprocesamiento de las imágenes.\n",
        "- Generar y almacenar datos en la nube para proceder con el modelamiento y la validación.\n",
        "\n",
        "## **Problema**<a name=\"id2\"></a>\n",
        "- Se busca limpiar y guardar los datos generados del procesamiento de los datos relacionados a tomografías de hígado con cáncer."
      ]
    },
    {
      "cell_type": "markdown",
      "metadata": {
        "id": "wU7ZiLke8Fx5"
      },
      "source": [
        "## **Notebook Configuration**"
      ]
    },
    {
      "cell_type": "code",
      "metadata": {
        "id": "gnc2Mq4S7xzv"
      },
      "source": [
        "!shred -u setup_colab.py\n",
        "!shred -u setup_colab_general.py\n",
        "!wget -q \"https://github.com/jpcano1/python_utils/raw/main/setup_colab_general.py\" -O setup_colab_general.py\n",
        "!wget -q \"https://github.com/jpcano1/python_utils/raw/main/ISIS_4825/setup_colab.py\" -O setup_colab.py\n",
        "import setup_colab as setup\n",
        "setup.setup_extra_workshop()"
      ],
      "execution_count": null,
      "outputs": []
    },
    {
      "cell_type": "markdown",
      "metadata": {
        "id": "XxWXJlmlll1c"
      },
      "source": [
        "## **Importando las librerías necesarias para el laboratorio**"
      ]
    },
    {
      "cell_type": "code",
      "metadata": {
        "id": "6zCAKxS-8LOu"
      },
      "source": [
        "from utils import general as gen\n",
        "from utils import extra_utils as extra\n",
        "\n",
        "from tensorflow import keras\n",
        "from tensorflow.keras.utils import Sequence\n",
        "\n",
        "from torch.utils.data import Dataset\n",
        "\n",
        "from skimage import filters, morphology, exposure\n",
        "import cv2\n",
        "\n",
        "from tqdm.auto import tqdm\n",
        "\n",
        "import nibabel as nib\n",
        "\n",
        "import numpy as np\n",
        "import pandas as pd\n",
        "\n",
        "import matplotlib.pyplot as plt\n",
        "plt.style.use(\"seaborn-deep\")\n",
        "import seaborn as sns"
      ],
      "execution_count": null,
      "outputs": []
    },
    {
      "cell_type": "code",
      "metadata": {
        "id": "HzYCjrJ9930s"
      },
      "source": [
        "data_dir = gen.create_and_verify(\"data\", \"media\", \"nas\", \"01_Datasets\", \n",
        "                                 \"CT\", \"LITS\", \"Training Batch 1\")\n",
        "data_list = gen.read_listdir(data_dir)"
      ],
      "execution_count": null,
      "outputs": []
    },
    {
      "cell_type": "markdown",
      "metadata": {
        "id": "S_DnKGHElqDi"
      },
      "source": [
        "## **Preparación de los Datos con Generadores**\n",
        "- Vamos a utilizar los datos de la competencia Liver Tumor Segmentation, los cuales hacen uso de Tomografías Axiales de hígado.\n",
        "\n",
        "![image](https://i.imgur.com/eDN20ck.png)"
      ]
    },
    {
      "cell_type": "code",
      "metadata": {
        "id": "2iGM93nDgj2K"
      },
      "source": [
        "class ClassicDataGenerator:\n",
        "    def __init__(self, data_dirs, as_array=False, transform=None, \n",
        "                 *args, **kwargs):\n",
        "        self.volume_dirs = [p for p in data_list if \"segmentation\" not in p]\n",
        "        self.label_dirs =  [p for p in data_list if \"segmentation\" in p]\n",
        "        self.as_array = as_array\n",
        "        self.transform = transform\n",
        "\n",
        "    def __len__(self):\n",
        "        return len(self.volume_dirs)\n",
        "\n",
        "    def __getitem__(self, idx):\n",
        "        vol = nib.load(self.volume_dirs[idx])\n",
        "        lab = nib.load(self.label_dirs[idx])\n",
        "\n",
        "        if self.as_array:\n",
        "            return vol.get_fdata(), lab.get_fdata()\n",
        "        return vol, lab\n",
        "\n",
        "    def __iter__(self):\n",
        "        self.idx = 0\n",
        "        return self\n",
        "\n",
        "    def __next__(self):\n",
        "        if self.idx < self.__len__():\n",
        "            vol = nib.load(self.volume_dirs[self.idx])\n",
        "            lab = nib.load(self.label_dirs[self.idx])\n",
        "            self.idx += 1\n",
        "\n",
        "            if self.as_array:\n",
        "                return vol.get_fdata(), lab.get_fdata()\n",
        "            return vol, lab\n",
        "        else:\n",
        "            raise StopIteration"
      ],
      "execution_count": null,
      "outputs": []
    },
    {
      "cell_type": "code",
      "metadata": {
        "id": "N5u-q0M8hxKl"
      },
      "source": [
        "lits_dataset = ClassicDataGenerator(data_list)"
      ],
      "execution_count": null,
      "outputs": []
    },
    {
      "cell_type": "code",
      "metadata": {
        "id": "yjWlKw19jcGO"
      },
      "source": [
        "for X, y in lits_dataset:\n",
        "    print(f\"Volume shape: {X.shape}\")\n",
        "    print(f\"Label shape: {y.shape}\")"
      ],
      "execution_count": null,
      "outputs": []
    },
    {
      "cell_type": "code",
      "metadata": {
        "id": "qb-eC99eApgH"
      },
      "source": [
        "class KerasDataGenerator(Sequence):\n",
        "    def __init__(self, data_dirs, as_array=False):\n",
        "        super(KerasDataGenerator, self).__init__()\n",
        "        self.volume_dirs = [p for p in data_list if \"segmentation\" not in p]\n",
        "        self.label_dirs = [p for p in data_list if \"segmentation\" in p]\n",
        "        self.as_array = as_array\n",
        "\n",
        "    def __len__(self):\n",
        "        return len(self.volume_dirs)\n",
        "\n",
        "    def __getitem__(self, idx):\n",
        "        vol = nib.load(self.volume_dirs[idx])\n",
        "        lab = nib.load(self.label_dirs[idx])\n",
        "        if self.as_array:\n",
        "            return vol.get_fdata(), lab.get_fdata()\n",
        "        return vol, lab"
      ],
      "execution_count": null,
      "outputs": []
    },
    {
      "cell_type": "code",
      "metadata": {
        "id": "Ji829CJ_DMnb"
      },
      "source": [
        "lits_dataset = KerasDataGenerator(data_list)"
      ],
      "execution_count": null,
      "outputs": []
    },
    {
      "cell_type": "code",
      "metadata": {
        "id": "Z7KMzhURHzSz"
      },
      "source": [
        "for X, y in lits_dataset:\n",
        "    print(f\"Volume shape: {X.shape}\")\n",
        "    print(f\"Label shape: {y.shape}\")"
      ],
      "execution_count": null,
      "outputs": []
    },
    {
      "cell_type": "code",
      "metadata": {
        "id": "QuPcJmufF5qe"
      },
      "source": [
        "class TorchDataGenerator(Dataset):\n",
        "    def __init__(self, data_dir, as_array=False, transform=None):\n",
        "        super(TorchDataGenerator, self).__init__()\n",
        "        self.volume_dirs = [p for p in data_list if \"segmentation\" not in p]\n",
        "        self.label_dirs = [p for p in data_list if \"segmentation\" in p]\n",
        "        \n",
        "        self.as_array = as_array\n",
        "        self.transform = transform\n",
        "\n",
        "    def __len__(self):\n",
        "        return len(self.volume_dirs)\n",
        "\n",
        "    def __getitem__(self, idx):\n",
        "        vol = nib.load(self.volume_dirs[idx])\n",
        "        lab = nib.load(self.label_dirs[idx])\n",
        "        if self.as_array:\n",
        "            return vol.get_fdata(), lab.get_fdata()\n",
        "        return vol, lab"
      ],
      "execution_count": null,
      "outputs": []
    },
    {
      "cell_type": "code",
      "metadata": {
        "id": "98BYlec9HUFU"
      },
      "source": [
        "lits_dataset = TorchDataGenerator(data_list)"
      ],
      "execution_count": null,
      "outputs": []
    },
    {
      "cell_type": "code",
      "metadata": {
        "id": "W03yV-cTHW1y"
      },
      "source": [
        "for X, y in lits_dataset:\n",
        "    print(f\"Volume shape: {X.shape}\")\n",
        "    print(f\"Label shape: {y.shape}\")"
      ],
      "execution_count": null,
      "outputs": []
    },
    {
      "cell_type": "markdown",
      "metadata": {
        "id": "0s62kI8Mlt5I"
      },
      "source": [
        "## **Visualización y Análisis Exploratorio**<a name=\"id4\"></a>"
      ]
    },
    {
      "cell_type": "code",
      "metadata": {
        "id": "BykLrZAYl1Ov"
      },
      "source": [
        "lits_dataset = ClassicDataGenerator(data_list, as_array=True)"
      ],
      "execution_count": null,
      "outputs": []
    },
    {
      "cell_type": "code",
      "metadata": {
        "id": "C9RVSG_4HdYL"
      },
      "source": [
        "np.random.seed(1234)\n",
        "random_sample = np.random.randint(0, len(lits_dataset))"
      ],
      "execution_count": null,
      "outputs": []
    },
    {
      "cell_type": "code",
      "metadata": {
        "id": "Hz_ZKjn_liru"
      },
      "source": [
        "vol, lab = lits_dataset[random_sample]"
      ],
      "execution_count": null,
      "outputs": []
    },
    {
      "cell_type": "code",
      "metadata": {
        "id": "JnCPCIPKlzVx"
      },
      "source": [
        "vol.shape, lab.shape"
      ],
      "execution_count": null,
      "outputs": []
    },
    {
      "cell_type": "code",
      "metadata": {
        "id": "o70mHt3VmJ2x"
      },
      "source": [
        "vol_slice, lab_slice = extra.get_vol_slice(vol, lab, 130)\n",
        "vol_slice.shape, lab_slice.shape"
      ],
      "execution_count": null,
      "outputs": []
    },
    {
      "cell_type": "code",
      "metadata": {
        "id": "Ad_SacgymZqN"
      },
      "source": [
        "gen.visualize_subplot([vol_slice, lab_slice], [\"Liver\", \"Tumor Mask\"], (1, 2), \n",
        "                      cmap=\"bone\", figsize=(12, 6))"
      ],
      "execution_count": null,
      "outputs": []
    },
    {
      "cell_type": "code",
      "metadata": {
        "id": "JgNP-AUcpF9q"
      },
      "source": [
        "labeled_image = extra.get_labeled_image(vol_slice, lab_slice, 3)"
      ],
      "execution_count": null,
      "outputs": []
    },
    {
      "cell_type": "code",
      "metadata": {
        "id": "klUWWxmVpKOx"
      },
      "source": [
        "plt.figure(figsize=(6, 6))\n",
        "gen.imshow(labeled_image, title=\"Labeled Image\")"
      ],
      "execution_count": null,
      "outputs": []
    },
    {
      "cell_type": "markdown",
      "metadata": {
        "id": "lPAeIkUx62ou"
      },
      "source": [
        "## **Preprocesamiento y Generado de Datos**<a name=\"id5\"></a>"
      ]
    },
    {
      "cell_type": "code",
      "metadata": {
        "id": "gUiEiFrisdSe"
      },
      "source": [
        "def pipeline(img):\n",
        "    img = exposure.equalize_hist(img)\n",
        "    img = gen.scale(img, 0, 255)\n",
        "    selem = morphology.square(10)\n",
        "    img = filters.median(img)\n",
        "    img = filters.rank.mean_bilateral(img, selem)\n",
        "    return img"
      ],
      "execution_count": null,
      "outputs": []
    },
    {
      "cell_type": "code",
      "metadata": {
        "id": "Wa_esVYNyr4r"
      },
      "source": [
        "preprocessed = pipeline(vol_slice)"
      ],
      "execution_count": null,
      "outputs": []
    },
    {
      "cell_type": "code",
      "metadata": {
        "id": "PXZc-rlWyuCh"
      },
      "source": [
        "gen.visualize_subplot([vol_slice, preprocessed],\n",
        "                      [\"Original\", \"Procesada\"], (1, 2), (12, 6))"
      ],
      "execution_count": null,
      "outputs": []
    },
    {
      "cell_type": "code",
      "metadata": {
        "id": "plKSm96S3tO5"
      },
      "source": [
        "extra.create_data(lits_dataset, sanity_check=True)"
      ],
      "execution_count": null,
      "outputs": []
    },
    {
      "cell_type": "code",
      "metadata": {
        "id": "6H0B3lmM26GK"
      },
      "source": [
        "X = np.load(\"train_data/data/X_0.npy\")\n",
        "y = np.load(\"train_data/labels/y_0.npy\")"
      ],
      "execution_count": null,
      "outputs": []
    },
    {
      "cell_type": "code",
      "metadata": {
        "id": "utNNAzmC3EkO"
      },
      "source": [
        "X.shape"
      ],
      "execution_count": null,
      "outputs": []
    },
    {
      "cell_type": "code",
      "metadata": {
        "id": "l7nYruAt3FsX"
      },
      "source": [
        "y.shape"
      ],
      "execution_count": null,
      "outputs": []
    },
    {
      "cell_type": "code",
      "metadata": {
        "id": "MrePofTD3GSB"
      },
      "source": [
        "gen.visualize_subplot([X, y[..., 0]], [\"Image\", \"Label\"], (1, 2), \n",
        "                      cmap=\"bone\")"
      ],
      "execution_count": null,
      "outputs": []
    },
    {
      "cell_type": "code",
      "metadata": {
        "id": "7RBlYOBJ3PVU"
      },
      "source": [
        "gen.visualize_subplot([X, y[..., 1]], [\"Image\", \"Label\"], (1, 2), \n",
        "                      cmap=\"bone\")"
      ],
      "execution_count": null,
      "outputs": []
    },
    {
      "cell_type": "code",
      "metadata": {
        "id": "fs_v8v4kCriw"
      },
      "source": [
        ""
      ],
      "execution_count": null,
      "outputs": []
    }
  ]
}