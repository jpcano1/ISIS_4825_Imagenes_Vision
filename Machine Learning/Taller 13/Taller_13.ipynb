{
  "nbformat": 4,
  "nbformat_minor": 0,
  "metadata": {
    "colab": {
      "name": "Taller_13.ipynb",
      "provenance": [],
      "collapsed_sections": []
    },
    "kernelspec": {
      "name": "python3",
      "display_name": "Python 3"
    },
    "accelerator": "GPU"
  },
  "cells": [
    {
      "cell_type": "markdown",
      "metadata": {
        "id": "oBjR00gp6qFN"
      },
      "source": [
        "![image](https://drive.google.com/u/0/uc?id=15DUc09hFGqR8qcpYiN1OajRNaASmiL6d&export=download)\n",
        "\n",
        "# **Taller No. 13 - ISIS4825**\n",
        "\n",
        "## **Segmentación Semántica y Arquitecturas de Segmentación**\n",
        "\n",
        "## **Contenido**\n",
        "1. [**Objetivos**](#id1)\n",
        "2. [**Problema**](#id2)\n",
        "3. [**Importando las librerías necesarias para el laboratorio**](#id3)\n",
        "4. [**Visualización y Análisis Exploratorio**](#id4)\n",
        "5. [**Preparación de los Datos**](#id5)\n",
        "6. [**Modelamiento**](#id6)\n",
        "    - [**Auntoencoder**](#id6-1)\n",
        "    - [**U-Net**](#id6-2)\n",
        "7. [**Validación**](#id7)\n",
        "8. [**Extracción de Características**](#id8)\n",
        "\n",
        "## **Objetivos**<a name=\"id1\"></a>\n",
        "- Familiarizarse con el entrenamiento de bajo-nivel\n",
        "- Conocer arquitecturas de segmentación tales como el Autoencoder y U-Net\n",
        "- Conocer PyTorch como alternativa a TensorFlow.\n",
        "- Visualizar modelos usando TensorBoard\n",
        "- Conocer más patrones de aprendizaje.\n",
        "- Extraer características de región\n",
        "\n",
        "## **Problema**\n",
        "- En un dataset de tomografías axiales computarizadas (TAC) de abdomen, hay varios pacientes con tumores en sus riñones, la idea es detectarlos utilizando inteligencia artificial."
      ]
    },
    {
      "cell_type": "markdown",
      "metadata": {
        "id": "TSd5n8RL9B6e"
      },
      "source": [
        "## **Notebook Configuration**"
      ]
    },
    {
      "cell_type": "code",
      "metadata": {
        "id": "iOOHkS1WXYEJ"
      },
      "source": [
        "!shred -u setup_colab.py\n",
        "!shred -u setup_colab_general.py\n",
        "!wget -q \"https://github.com/jpcano1/python_utils/raw/main/setup_colab_general.py\" -O setup_colab_general.py\n",
        "!wget -q \"https://github.com/jpcano1/python_utils/raw/main/ISIS_4825/setup_colab.py\" -O setup_colab.py\n",
        "import setup_colab as setup\n",
        "setup.setup_workshop_13()"
      ],
      "execution_count": null,
      "outputs": []
    },
    {
      "cell_type": "markdown",
      "metadata": {
        "id": "LteIf3929Eqd"
      },
      "source": [
        "## **Importando las librerías necesarias para el laboratorio**<a name=\"id3\"></a>"
      ]
    },
    {
      "cell_type": "code",
      "metadata": {
        "id": "Povuvn81iJIg"
      },
      "source": [
        "# Basic Data Analysis Libraries\n",
        "import numpy as np\n",
        "import pandas as pd\n",
        "\n",
        "# Basic OS Libraries\n",
        "import copy\n",
        "import os\n",
        "\n",
        "# Basic Graphic Functions\n",
        "import matplotlib.pyplot as plt\n",
        "plt.style.use(\"seaborn-deep\")\n",
        "import seaborn as sns\n",
        "\n",
        "# Util Functions\n",
        "from utils import general as gen\n",
        "from utils import torch_utils\n",
        "from utils import visualization_utils as vis\n",
        "from utils import train_utils\n",
        "\n",
        "# Loaders\n",
        "from tqdm.auto import tqdm\n",
        "\n",
        "# Data Augmentation Libraries\n",
        "import albumentations as A\n",
        "\n",
        "# PyTorch Libraries\n",
        "import torch\n",
        "from torch import nn\n",
        "from torch import optim\n",
        "from torch.optim.lr_scheduler import ReduceLROnPlateau\n",
        "from torch.nn import functional as F\n",
        "from torch.utils.tensorboard import SummaryWriter\n",
        "writer = SummaryWriter('runs/KiTS')\n",
        "%load_ext tensorboard\n",
        "\n",
        "# Torchvision Functions\n",
        "from torchvision.transforms.functional import to_tensor\n",
        "\n",
        "# Summary Functions\n",
        "from torchsummary import summary\n",
        "\n",
        "# Dataset Creation and Splitting Functions\n",
        "from sklearn.model_selection import ShuffleSplit\n",
        "from torch.utils.data import Dataset, DataLoader, Subset\n",
        "\n",
        "# Computer Vision Libraries\n",
        "import cv2\n",
        "\n",
        "# Image Processing Libraries\n",
        "from skimage import measure\n",
        "\n",
        "# Scikit-Learn Libraries\n",
        "from sklearn.cluster import KMeans"
      ],
      "execution_count": null,
      "outputs": []
    },
    {
      "cell_type": "markdown",
      "metadata": {
        "id": "uZsrEbIh9Gx9"
      },
      "source": [
        "### **Carga de Datos**"
      ]
    },
    {
      "cell_type": "code",
      "metadata": {
        "id": "S8Ol3nW-kCSs"
      },
      "source": [
        "train_dir = gen.create_and_verify(\".\", \"data\", \"train_data\", list_=True)"
      ],
      "execution_count": null,
      "outputs": []
    },
    {
      "cell_type": "code",
      "metadata": {
        "id": "tMqDLg3in-Cy"
      },
      "source": [
        "train_data_dir = gen.read_listdir(train_dir[0])\n",
        "train_labels_dir = gen.read_listdir(train_dir[1])"
      ],
      "execution_count": null,
      "outputs": []
    },
    {
      "cell_type": "markdown",
      "metadata": {
        "id": "e6hn5TLE9LSl"
      },
      "source": [
        "## **Visualización y Análisis Exploratorio**<a name=\"id4\"></a>\n",
        "- En esta ocasión vamos a trabajar con el dataset de Kidney Tumor Segmentation donde vamos a detectar tumores en riñón usando segmentación semántica.\n",
        "- Escala Hounsfield\n",
        "\n",
        "![image](http://1.bp.blogspot.com/-apELBiPpN0g/UCa1sYUjT9I/AAAAAAAAABc/BcFCZE_eHbg/s400/4a11f2.jpg)\n",
        "\n",
        "> Tomado de http://modulotecguana.blogspot.com/2012/08/la-escala-de-hounsfield.html"
      ]
    },
    {
      "cell_type": "code",
      "metadata": {
        "id": "J3tkdhNyDPHJ"
      },
      "source": [
        "np.random.seed(1999)\n",
        "random_sample = np.random.choice(range(len(train_data_dir)), 3)\n",
        "random_sample"
      ],
      "execution_count": null,
      "outputs": []
    },
    {
      "cell_type": "code",
      "metadata": {
        "id": "o1UEjY6-plYR"
      },
      "source": [
        "plt.figure(figsize=(9, 9))\n",
        "\n",
        "index = 1\n",
        "for i in random_sample:\n",
        "    path2img = train_data_dir[i]\n",
        "    path2lab = train_labels_dir[i]\n",
        "    \n",
        "    X = np.load(path2img)\n",
        "    y = np.load(path2lab)[..., 0]\n",
        "    labeled_X = vis.get_labeled_image(X, y, (0, 1, 0), \n",
        "                                      (0, 1, 0), \"thick\")\n",
        "\n",
        "    plt.subplot(3, 3, index)\n",
        "    gen.imshow(X, color=False, cmap=\"bone\")\n",
        "\n",
        "    plt.subplot(3, 3, index+1)\n",
        "    gen.imshow(y, color=False)\n",
        "\n",
        "    plt.subplot(3, 3, index+2)\n",
        "    gen.imshow(labeled_X)\n",
        "\n",
        "    index += 3"
      ],
      "execution_count": null,
      "outputs": []
    },
    {
      "cell_type": "code",
      "metadata": {
        "id": "UGtK3_AHqn3p"
      },
      "source": [
        "plt.figure(figsize=(9, 9))\n",
        "\n",
        "index = 1\n",
        "for i in random_sample:\n",
        "    path2img = train_data_dir[i]\n",
        "    path2lab = train_labels_dir[i]\n",
        "    \n",
        "    X = np.load(path2img)\n",
        "    y = np.load(path2lab)[..., 1]\n",
        "    labeled_X = vis.get_labeled_image(X, y, (0, 0, 1), \n",
        "                                      (0, 0, 1), \"thick\")\n",
        "\n",
        "    plt.subplot(3, 3, index)\n",
        "    gen.imshow(X, color=False, cmap=\"bone\")\n",
        "\n",
        "    plt.subplot(3, 3, index+1)\n",
        "    gen.imshow(y, color=False)\n",
        "\n",
        "    plt.subplot(3, 3, index+2)\n",
        "    gen.imshow(labeled_X)\n",
        "\n",
        "    index += 3"
      ],
      "execution_count": null,
      "outputs": []
    },
    {
      "cell_type": "markdown",
      "metadata": {
        "id": "4hery_q19ez_"
      },
      "source": [
        "## **Preparación de los Datos**<a name=\"id5\"></a>"
      ]
    },
    {
      "cell_type": "code",
      "metadata": {
        "id": "IX2ga3k1WbdO"
      },
      "source": [
        "transform_train = A.Compose([\n",
        "    A.Resize(128, 128),\n",
        "    A.RandomBrightness(p=0.8),\n",
        "    A.RandomGamma(p=0.65),\n",
        "    A.RandomContrast(p=0.7),\n",
        "    A.VerticalFlip(p=0.7)\n",
        "])\n",
        "\n",
        "# Stage 2\n",
        "# transform_train = A.Resize(128, 128)\n",
        "\n",
        "transform_val = A.Resize(128, 128)"
      ],
      "execution_count": null,
      "outputs": []
    },
    {
      "cell_type": "code",
      "metadata": {
        "id": "lowTQPXRtAMR"
      },
      "source": [
        "class KidneyDataset(Dataset):\n",
        "    def __init__(self, path2data, transform=None, *args, **kwargs):\n",
        "        self.data_dir = gen.read_listdir(path2data[0])\n",
        "        self.labels_dir = gen.read_listdir(path2data[1])\n",
        "\n",
        "        self.transform = transform\n",
        "\n",
        "    def __len__(self):\n",
        "        return len(self.data_dir)\n",
        "\n",
        "    def __getitem__(self, index):\n",
        "        path2img = self.data_dir[index]\n",
        "        path2lab = self.labels_dir[index]\n",
        "\n",
        "        X = np.load(path2img)\n",
        "        y = np.load(path2lab)\n",
        "\n",
        "        if self.transform:\n",
        "            augmented = self.transform(image=X, mask=y)\n",
        "            X = augmented[\"image\"]\n",
        "            y = augmented[\"mask\"]\n",
        "        X = to_tensor(X)\n",
        "        y = 255. * to_tensor(y)\n",
        "        return X, y"
      ],
      "execution_count": null,
      "outputs": []
    },
    {
      "cell_type": "code",
      "metadata": {
        "id": "Ads-Vy1Yue0Y"
      },
      "source": [
        "kidney_ds1 = KidneyDataset(train_dir, transform=transform_train)\n",
        "kidney_ds2 = KidneyDataset(train_dir, transform=transform_val)"
      ],
      "execution_count": null,
      "outputs": []
    },
    {
      "cell_type": "code",
      "metadata": {
        "id": "q5fL7r3HB6Yv"
      },
      "source": [
        "X, y = kidney_ds1[259]"
      ],
      "execution_count": null,
      "outputs": []
    },
    {
      "cell_type": "code",
      "metadata": {
        "id": "AlmV1WdFB8AJ"
      },
      "source": [
        "gen.imshow(X[0], color=False)"
      ],
      "execution_count": null,
      "outputs": []
    },
    {
      "cell_type": "code",
      "metadata": {
        "id": "07oBwq3UCQR0"
      },
      "source": [
        "gen.imshow(y[1], color=False)"
      ],
      "execution_count": null,
      "outputs": []
    },
    {
      "cell_type": "code",
      "metadata": {
        "id": "DeTDpfTZvQaC"
      },
      "source": [
        "ss_data = ShuffleSplit(n_splits=2, test_size=0.2, random_state=1234)"
      ],
      "execution_count": null,
      "outputs": []
    },
    {
      "cell_type": "code",
      "metadata": {
        "id": "xWtrRduzwdG_"
      },
      "source": [
        "indices = range(len(kidney_ds1))"
      ],
      "execution_count": null,
      "outputs": []
    },
    {
      "cell_type": "code",
      "metadata": {
        "id": "c6fepST7wggx"
      },
      "source": [
        "for train_index, val_index in ss_data.split(indices):\n",
        "    pass"
      ],
      "execution_count": null,
      "outputs": []
    },
    {
      "cell_type": "code",
      "metadata": {
        "id": "CcC8N7IYwk-x"
      },
      "source": [
        "train_data = Subset(kidney_ds1, train_index)\n",
        "val_data = Subset(kidney_ds2, val_index)"
      ],
      "execution_count": null,
      "outputs": []
    },
    {
      "cell_type": "code",
      "metadata": {
        "id": "crUiZt_RwtHd"
      },
      "source": [
        "train_dl = DataLoader(train_data, batch_size=32, shuffle=True)\n",
        "val_dl = DataLoader(val_data, batch_size=16)"
      ],
      "execution_count": null,
      "outputs": []
    },
    {
      "cell_type": "markdown",
      "metadata": {
        "id": "4n9h6GMv-U1W"
      },
      "source": [
        "## **Modelamiento**<a name=\"id6\"></a>\n",
        "\n",
        "- En este laboratorio vamos a modelar dos arquitecturas neuronales para segmentación semántica.\n",
        "\n",
        "![image](https://docs.google.com/uc?export=download&id=1XAMvojRsVynBrqwcYLZgwzOnaFvmP2vc)\n",
        "\n",
        "![image](https://docs.google.com/uc?export=download&id=1p1aDB6jtU9MDs25PiIwoDUjvYezc2llR)\n",
        "\n",
        "> Tomado de: Atienza, R., 2020. *Advanced Deep Learning With Tensorflow 2 And Keras*. (513 pages) 2nd ed. United Kingdom: Packt Publishing.\n",
        "### **Auntoencoder**<a name=\"id6-1\"></a>\n",
        "![image](https://miro.medium.com/max/1000/0*uq2_ZipB9TqI9G_k)"
      ]
    },
    {
      "cell_type": "code",
      "metadata": {
        "id": "lfLd_Z6D3-cM"
      },
      "source": [
        "device = torch.device(\"cuda\" if torch.cuda.is_available() else \"cpu\")\n",
        "pretrained = False"
      ],
      "execution_count": null,
      "outputs": []
    },
    {
      "cell_type": "code",
      "metadata": {
        "id": "EaWvGqYMw7iX"
      },
      "source": [
        "model = torch_utils.Autoencoder(1, 2, 16, 4, bn=True, jump=2)\n",
        "\n",
        "model = model.to(device)"
      ],
      "execution_count": null,
      "outputs": []
    },
    {
      "cell_type": "code",
      "metadata": {
        "id": "cTKZrVI1wmhQ"
      },
      "source": [
        "summary(model, (1, 128, 128))"
      ],
      "execution_count": null,
      "outputs": []
    },
    {
      "cell_type": "code",
      "metadata": {
        "id": "xWalUaE-OYBX"
      },
      "source": [
        "writer.add_graph(model, torch.rand((2, 1, 128, 128)).to(device))\n",
        "writer.close()"
      ],
      "execution_count": null,
      "outputs": []
    },
    {
      "cell_type": "code",
      "metadata": {
        "id": "XJH00GfqOwHu"
      },
      "source": [
        "%tensorboard --logdir=runs"
      ],
      "execution_count": null,
      "outputs": []
    },
    {
      "cell_type": "code",
      "metadata": {
        "id": "y3Hef3NyKf4q"
      },
      "source": [
        "lr = 5e-3\n",
        "\n",
        "if pretrained:\n",
        "    weights_dir = gen.create_and_verify(\".\", \"models\", \"autoencoder.pt\")\n",
        "    model.load_state_dict(torch.load(weights_dir))\n",
        "    lr = 8e-4\n",
        "    print(\"Weights Loaded\")"
      ],
      "execution_count": null,
      "outputs": []
    },
    {
      "cell_type": "markdown",
      "metadata": {
        "id": "G703_Ncy5D7w"
      },
      "source": [
        "#### **Training**<a name=\"id6-1-1\"></a>"
      ]
    },
    {
      "cell_type": "code",
      "metadata": {
        "id": "QFf_P4ikMlxr"
      },
      "source": [
        "opt = optim.Adam(model.parameters(), lr=lr)\n",
        "lr_scheduler = ReduceLROnPlateau(opt, mode=\"min\", factor=0.5,\n",
        "                                 patience=6, verbose=1)"
      ],
      "execution_count": null,
      "outputs": []
    },
    {
      "cell_type": "code",
      "metadata": {
        "id": "PrKAZrm9OJV6"
      },
      "source": [
        "if not os.path.exists(\"models\"):\n",
        "    os.makedirs(\"models\")\n",
        "\n",
        "weights_dir= \"models/\"\n",
        "\n",
        "args_train = (\n",
        "    100, train_utils.loss_func, opt, train_dl, val_dl, False,\n",
        "    lr_scheduler, weights_dir + \"weights.pt\", device\n",
        ")\n",
        "\n",
        "kwargs_train = {\n",
        "    \"metric\": train_utils.jaccard,\n",
        "    \"best_loss\": 0.1261334,\n",
        "    \"best_acc\": 89.61\n",
        "}"
      ],
      "execution_count": null,
      "outputs": []
    },
    {
      "cell_type": "code",
      "metadata": {
        "id": "uKMidf_cULxO"
      },
      "source": [
        "out_model, loss_history, acc_history = train_utils.train(model, *args_train,\n",
        "                                                         **kwargs_train)"
      ],
      "execution_count": null,
      "outputs": []
    },
    {
      "cell_type": "code",
      "metadata": {
        "id": "pk-3VEescSZ1"
      },
      "source": [
        "from google.colab import drive\n",
        "drive.mount('/gdrive')"
      ],
      "execution_count": null,
      "outputs": []
    },
    {
      "cell_type": "code",
      "metadata": {
        "id": "X3RXstX5cegv"
      },
      "source": [
        "%cd \"/gdrive/My Drive/Datasets Limpios/KiTS/models\"\n",
        "!cp /content/models/weights.pt .\n",
        "%cd /content"
      ],
      "execution_count": null,
      "outputs": []
    },
    {
      "cell_type": "markdown",
      "metadata": {
        "id": "YAMpF-zQPrgx"
      },
      "source": [
        "#### **Predicción**<a name=\"id6-1-2\"></a>"
      ]
    },
    {
      "cell_type": "code",
      "metadata": {
        "id": "3NgPikYAnEh1"
      },
      "source": [
        "weights_dir = gen.create_and_verify(\".\", \"models\", \"autoencoder.pt\")\n",
        "\n",
        "model.load_state_dict(torch.load(weights_dir))\n",
        "model = model.eval().to(device)"
      ],
      "execution_count": null,
      "outputs": []
    },
    {
      "cell_type": "code",
      "metadata": {
        "id": "8WFH0O_WLsM5"
      },
      "source": [
        "vis.predict(model, device, val_data, mode=\"inner\", \n",
        "            random_state=2020)"
      ],
      "execution_count": null,
      "outputs": []
    },
    {
      "cell_type": "code",
      "metadata": {
        "id": "C0ljGuu0Q2q_"
      },
      "source": [
        "vis.predict(model, device, val_data, class_=\"tumor\", mode=\"thick\", \n",
        "            random_state=2020)"
      ],
      "execution_count": null,
      "outputs": []
    },
    {
      "cell_type": "markdown",
      "metadata": {
        "id": "df-1fNwA-oVQ"
      },
      "source": [
        "### **U-Net**<a name=\"id6-2\"></a>\n",
        "![image](https://www.researchgate.net/profile/Olaf_Ronneberger/publication/276923248/figure/fig4/AS:639578838929408@1529498886425/U-net-architecture-example-for-32x32-pixels-in-the-lowest-resolution-Each-blue-box.png)"
      ]
    },
    {
      "cell_type": "code",
      "metadata": {
        "id": "UyhuUHD-0eCt"
      },
      "source": [
        "model = torch_utils.UNet(1, 2, 16, 5, bn=True, jump=2)\n",
        "\n",
        "model = model.to(device)"
      ],
      "execution_count": null,
      "outputs": []
    },
    {
      "cell_type": "code",
      "metadata": {
        "id": "JEO_JGy3-Mj-"
      },
      "source": [
        "summary(model, (1, 128, 128))"
      ],
      "execution_count": null,
      "outputs": []
    },
    {
      "cell_type": "code",
      "metadata": {
        "id": "cfWxKvGYPJO-"
      },
      "source": [
        "writer.add_graph(model, torch.rand((2, 1, 128, 128)).to(device))\n",
        "writer.close()"
      ],
      "execution_count": null,
      "outputs": []
    },
    {
      "cell_type": "code",
      "metadata": {
        "id": "yCqeczBNPNK1"
      },
      "source": [
        "%tensorboard --logdir=runs"
      ],
      "execution_count": null,
      "outputs": []
    },
    {
      "cell_type": "code",
      "metadata": {
        "id": "0iKMVCoLKJ0a"
      },
      "source": [
        "lr = 5e-3\n",
        "\n",
        "if pretrained:\n",
        "    weights_dir = gen.create_and_verify(\".\", \"models\", \"unet.pt\")\n",
        "    model.load_state_dict(torch.load(weights_dir))\n",
        "    lr = 8e-4\n",
        "    print(\"Weights Loaded\")"
      ],
      "execution_count": null,
      "outputs": []
    },
    {
      "cell_type": "markdown",
      "metadata": {
        "id": "DxdI_7lp_EhF"
      },
      "source": [
        "#### **Training**<a name=\"id6-2-1\"></a>"
      ]
    },
    {
      "cell_type": "code",
      "metadata": {
        "id": "2Uzz-nqn-2P8"
      },
      "source": [
        "opt = optim.Adam(model.parameters(), lr=lr)\n",
        "lr_scheduler = ReduceLROnPlateau(opt, mode=\"min\", factor=0.5,\n",
        "                                 patience=6, verbose=1)"
      ],
      "execution_count": null,
      "outputs": []
    },
    {
      "cell_type": "code",
      "metadata": {
        "id": "ZYU9mlev-8g7"
      },
      "source": [
        "if not os.path.exists(\"models\"):\n",
        "    os.makedirs(\"models\")\n",
        "\n",
        "weights_dir= \"models/\"\n",
        "\n",
        "args_train = (\n",
        "    100, train_utils.loss_func, opt, train_dl, val_dl, False,\n",
        "    lr_scheduler, weights_dir + \"weights.pt\", device\n",
        ")\n",
        "\n",
        "kwargs_train = {\n",
        "    \"metric\": train_utils.jaccard,\n",
        "    \"best_loss\": 0.090871,\n",
        "    \"best_acc\": 91.77\n",
        "}"
      ],
      "execution_count": null,
      "outputs": []
    },
    {
      "cell_type": "code",
      "metadata": {
        "id": "xRVhK5ZF-_Aw"
      },
      "source": [
        "out_model, loss_history, acc_history = train_utils.train(model, *args_train,\n",
        "                                                         **kwargs_train)"
      ],
      "execution_count": null,
      "outputs": []
    },
    {
      "cell_type": "code",
      "metadata": {
        "id": "PDbAg2l2Pg5N"
      },
      "source": [
        "from google.colab import drive\n",
        "drive.mount('/gdrive')"
      ],
      "execution_count": null,
      "outputs": []
    },
    {
      "cell_type": "code",
      "metadata": {
        "id": "TVrajB12fSFE"
      },
      "source": [
        "%cd \"/gdrive/My Drive/Datasets Limpios/KiTS/models\"\n",
        "!cp /content/models/weights.pt .\n",
        "%cd /content"
      ],
      "execution_count": null,
      "outputs": []
    },
    {
      "cell_type": "markdown",
      "metadata": {
        "id": "Jw4Lqk4G_I0T"
      },
      "source": [
        "#### **Predicción**<a name=\"id6-2-2\"></a>"
      ]
    },
    {
      "cell_type": "code",
      "metadata": {
        "id": "9RHY7OGI-N7O"
      },
      "source": [
        "weights_dir = gen.create_and_verify(\".\", \"models\", \"unet.pt\")\n",
        "\n",
        "model.load_state_dict(torch.load(weights_dir))\n",
        "model = model.eval().to(device)"
      ],
      "execution_count": null,
      "outputs": []
    },
    {
      "cell_type": "code",
      "metadata": {
        "id": "Ptnyri5FGC6N"
      },
      "source": [
        "vis.predict(model, device, val_data, \n",
        "            random_state=2020)"
      ],
      "execution_count": null,
      "outputs": []
    },
    {
      "cell_type": "code",
      "metadata": {
        "id": "SvDTI2SBGG-e"
      },
      "source": [
        "vis.predict(model, device, val_data, class_=\"tumor\", \n",
        "            random_state=2020)"
      ],
      "execution_count": null,
      "outputs": []
    },
    {
      "cell_type": "markdown",
      "metadata": {
        "id": "4PHfwI5XAd7-"
      },
      "source": [
        "## **Validación**<a name=\"id7\"></a>"
      ]
    },
    {
      "cell_type": "code",
      "metadata": {
        "id": "AjBO3-HaAe0z"
      },
      "source": [
        "test_dir = gen.create_and_verify(\".\", \"data\", \"test_data\", list_=True)"
      ],
      "execution_count": null,
      "outputs": []
    },
    {
      "cell_type": "code",
      "metadata": {
        "id": "ZXulFC6UPO9u"
      },
      "source": [
        "test_ds = KidneyDataset(test_dir, transform=transform_val)\n",
        "test_dl = DataLoader(test_ds, batch_size=16)"
      ],
      "execution_count": null,
      "outputs": []
    },
    {
      "cell_type": "markdown",
      "metadata": {
        "id": "uMrXu34fBUK8"
      },
      "source": [
        "### **Autoencoder**<a name=\"id7-1\"></a>"
      ]
    },
    {
      "cell_type": "code",
      "metadata": {
        "id": "MEkFg_IPBP6U"
      },
      "source": [
        "model = torch_utils.Autoencoder(1, 2, 16, 4, bn=True, jump=2)\n",
        "\n",
        "weights_dir = gen.create_and_verify(\".\", \"models\", \"autoencoder.pt\")\n",
        "\n",
        "model.load_state_dict(torch.load(weights_dir))\n",
        "model = model.eval().to(device)"
      ],
      "execution_count": null,
      "outputs": []
    },
    {
      "cell_type": "code",
      "metadata": {
        "id": "AqVynlGl9Fq5"
      },
      "source": [
        "train_utils.evaluate(model, train_utils.loss_func, test_dl, device, \n",
        "                     sanity_check=False)"
      ],
      "execution_count": null,
      "outputs": []
    },
    {
      "cell_type": "markdown",
      "metadata": {
        "id": "0zdt77SoBays"
      },
      "source": [
        "### **U-Net** <a name=\"id7-2\"></a>"
      ]
    },
    {
      "cell_type": "code",
      "metadata": {
        "id": "K_5LN2RkBdZb"
      },
      "source": [
        "model = torch_utils.UNet(1, 2, 16, 5, bn=True, jump=2)\n",
        "\n",
        "weights_dir = gen.create_and_verify(\".\", \"models\", \"unet.pt\")\n",
        "\n",
        "model.load_state_dict(torch.load(weights_dir))\n",
        "model = model.eval().to(device)"
      ],
      "execution_count": null,
      "outputs": []
    },
    {
      "cell_type": "code",
      "metadata": {
        "id": "NWr8Sj7VOvUl"
      },
      "source": [
        "train_utils.evaluate(model, train_utils.loss_func, test_dl, device, \n",
        "                     sanity_check=False)"
      ],
      "execution_count": null,
      "outputs": []
    },
    {
      "cell_type": "markdown",
      "metadata": {
        "id": "XhuYrVfY6kN3"
      },
      "source": [
        "## **Extracción de Características**<a name=\"id8\"></a>\n",
        "- Extraer características, en este caso, nos va a ser muy útil para saber qué hacer con un tumor de riñón."
      ]
    },
    {
      "cell_type": "code",
      "metadata": {
        "id": "-lWRbga5SEbE"
      },
      "source": [
        "test_generator = train_utils.SimpleGenerator(test_dir)"
      ],
      "execution_count": null,
      "outputs": []
    },
    {
      "cell_type": "code",
      "metadata": {
        "id": "cWnE8zL25dNm"
      },
      "source": [
        "kidney_data = np.zeros((len(test_generator), 224, 224), dtype=\"uint8\")\n",
        "tumor_data = np.zeros((len(test_generator), 224, 224), dtype=\"uint8\")"
      ],
      "execution_count": null,
      "outputs": []
    },
    {
      "cell_type": "code",
      "metadata": {
        "id": "Knhb-9Q85hb8"
      },
      "source": [
        "index = 0\n",
        "for X, y in tqdm(test_generator):\n",
        "    kidney_data[index] = X\n",
        "    tumor_data[index] = y[..., 1]\n",
        "    index += 1"
      ],
      "execution_count": null,
      "outputs": []
    },
    {
      "cell_type": "code",
      "metadata": {
        "id": "8UMwfhqY8nil"
      },
      "source": [
        "random_choice = np.random.choice(len(test_generator), 100)"
      ],
      "execution_count": null,
      "outputs": []
    },
    {
      "cell_type": "code",
      "metadata": {
        "id": "bH5PYMo7T267"
      },
      "source": [
        "plt.figure(figsize=(20, 20))\n",
        "\n",
        "index = 1\n",
        "for i in random_choice:\n",
        "    plt.subplot(10, 10, index)\n",
        "    gen.imshow(kidney_data[i], color=False, \n",
        "               title=f\"Index: {i}\", cmap=\"bone\")\n",
        "\n",
        "    index += 1"
      ],
      "execution_count": null,
      "outputs": []
    },
    {
      "cell_type": "code",
      "metadata": {
        "id": "rO42me777AHx"
      },
      "source": [
        "plt.figure(figsize=(20, 20))\n",
        "\n",
        "index = 1\n",
        "for i in random_choice:\n",
        "    plt.subplot(10, 10, index)\n",
        "    gen.imshow(tumor_data[i], color=False, \n",
        "               title=f\"Index: {i}\")\n",
        "\n",
        "    index += 1"
      ],
      "execution_count": null,
      "outputs": []
    },
    {
      "cell_type": "code",
      "metadata": {
        "id": "-LbddGHB7uMA"
      },
      "source": [
        "segmentation_data = np.zeros((len(test_generator), 224, 224))"
      ],
      "execution_count": null,
      "outputs": []
    },
    {
      "cell_type": "code",
      "metadata": {
        "id": "dI2ettyRTEY6"
      },
      "source": [
        "for i in range(kidney_data.shape[0]):\n",
        "    segmentation_data[i] = kidney_data[i] * tumor_data[i]"
      ],
      "execution_count": null,
      "outputs": []
    },
    {
      "cell_type": "code",
      "metadata": {
        "id": "QcH-6ailUXu0"
      },
      "source": [
        "data_dict = {\n",
        "    \"Area/Mass\": [measure.moments(array, 0)[0, 0] for \n",
        "                  array in segmentation_data],\n",
        "    \"Rugosity\": [vis.rugosity(array) for array in segmentation_data]\n",
        "}"
      ],
      "execution_count": null,
      "outputs": []
    },
    {
      "cell_type": "code",
      "metadata": {
        "id": "dBrbGaOZVfBR"
      },
      "source": [
        "data = pd.DataFrame(data_dict)"
      ],
      "execution_count": null,
      "outputs": []
    },
    {
      "cell_type": "code",
      "metadata": {
        "id": "0eZSvOPbWADb"
      },
      "source": [
        "plt.scatter(x=data[\"Area/Mass\"], y=data[\"Rugosity\"])\n",
        "plt.xlabel(\"Area of Tumor\")\n",
        "plt.ylabel(\"Rugosity Coefficient\")\n",
        "plt.grid(linestyle=\"--\")\n",
        "plt.show()"
      ],
      "execution_count": null,
      "outputs": []
    },
    {
      "cell_type": "code",
      "metadata": {
        "id": "COZMFt1HXjNc"
      },
      "source": [
        "kmeans = KMeans(n_clusters=2, n_jobs=-1, random_state=1234)"
      ],
      "execution_count": null,
      "outputs": []
    },
    {
      "cell_type": "code",
      "metadata": {
        "id": "J_VUjprGZmeT"
      },
      "source": [
        "kmeans = kmeans.fit(data)"
      ],
      "execution_count": null,
      "outputs": []
    },
    {
      "cell_type": "code",
      "metadata": {
        "id": "xUoSoEw9seYD"
      },
      "source": [
        "centroids = kmeans.predict(data)"
      ],
      "execution_count": null,
      "outputs": []
    },
    {
      "cell_type": "code",
      "metadata": {
        "id": "6huFoEGW4ylU"
      },
      "source": [
        "plt.scatter(x=data[\"Area/Mass\"][centroids==0], \n",
        "            y=data[\"Rugosity\"][centroids==0], \n",
        "            label=\"Don't Remove Kidney\")\n",
        "plt.scatter(x=data[\"Area/Mass\"][centroids==1], \n",
        "            y=data[\"Rugosity\"][centroids==1], \n",
        "            label=\"Remove Kidney\")\n",
        "plt.legend(loc=\"best\")\n",
        "plt.xlabel(\"Area of Tumor\")\n",
        "plt.ylabel(\"Rugosity Coefficient\")\n",
        "plt.grid(linestyle=\"--\")\n",
        "plt.show()"
      ],
      "execution_count": null,
      "outputs": []
    },
    {
      "cell_type": "markdown",
      "metadata": {
        "id": "4xemHw1VpB_v"
      },
      "source": [
        "## **Trabajo Asíncrono**\n",
        "1. Basados en el código que ya está escrito para el autoencoder, variar el parámetro `bn` y comparar resultados con los presentados en clase.\n",
        "2. Nuevamente, basados en el código que ya está escrito para U-Net variar únicamente el parámetro `jump` y comparar resultados con los presentados en clase. Adicional a la métrica utilizada en clase, averiguar sobre el coeficiente de similitud [*Dice*](https://en.wikipedia.org/wiki/S%C3%B8rensen%E2%80%93Dice_coefficient), implementarlo y tomar métricas con el mismo.\n",
        "3. Finalmente, tomar otros dos descriptores de los vistos en clase sobre el set de testing, construir otro modelo de clustering y hacer análisis de resultados obtenidos."
      ]
    },
    {
      "cell_type": "code",
      "metadata": {
        "id": "rsKTrJl34zhr"
      },
      "source": [
        ""
      ],
      "execution_count": null,
      "outputs": []
    }
  ]
}