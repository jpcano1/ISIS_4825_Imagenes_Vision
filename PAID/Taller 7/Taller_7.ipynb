{
  "nbformat": 4,
  "nbformat_minor": 0,
  "metadata": {
    "colab": {
      "name": "Scikit_Image_Final_Bootcamp.ipynb",
      "provenance": []
    },
    "kernelspec": {
      "display_name": "Python 3",
      "language": "python",
      "name": "python3"
    },
    "language_info": {
      "codemirror_mode": {
        "name": "ipython",
        "version": 3
      },
      "file_extension": ".py",
      "mimetype": "text/x-python",
      "name": "python",
      "nbconvert_exporter": "python",
      "pygments_lexer": "ipython3",
      "version": "3.8.2"
    }
  },
  "cells": [
    {
      "cell_type": "markdown",
      "metadata": {
        "id": "UCdoopakoVXe"
      },
      "source": [
        "![image](https://docs.google.com/uc?export=download&id=15DUc09hFGqR8qcpYiN1OajRNaASmiL6d)\n",
        "\n",
        "# **Scikit-image Final Bootcamp**"
      ]
    },
    {
      "cell_type": "markdown",
      "metadata": {
        "id": "jbMe6u1CoVXf"
      },
      "source": [
        "# **Contenido**\n",
        "## **Extracción de Características**\n",
        "-  Ya segmentamos nuestras imágenes, y ¿Ahora qué?\n",
        "- Buscamos formas de representar y/o describir lo que encontramos en términos de sus bordes, de su región o de la imagen completa\n",
        "\n",
        "\n",
        "1. [**Preprocesamiento de Contornos**](#id1):\n",
        "    - [**Seguimiento de Contornos Vs. Detección de Contornos**](#id1-1)\n",
        "    - [**Esqueletización Morfológica Vs. Transformada del Eje Medio**](#id1-2)\n",
        "    - [**Código de Cadena de Freeman**](#id1-3)\n",
        "    - [**Firma de Contornos**](#id1-4)\n",
        "    - [**Polígonos de Perímetro Mínimo**](#id1-5)\n",
        "2. [**Características de Frontera**](#id2):\n",
        "    - [**Diámetro Local**](#id2-1)\n",
        "    - [**Longitud**](#id2-2)\n",
        "3. [**Características de Región**](#id3):\n",
        "    - [**Circularidad**](#id3)\n",
        "    - [**Excentricidad**](#id3)\n",
        "    - [**Compacidad**](#id3)\n",
        "    - [**Número de Euler**](#id3)\n",
        "    - [**Descriptores de Textura - Momentos Estadísticos**](#id3-1)\n",
        "    - [**Momentos de Imagen**](#id3-2)\n",
        "4. [**Características de la Imagen**](#id4):\n",
        "    - [**Histograma De Gradientes Orientados**](#id4-1)"
      ]
    },
    {
      "cell_type": "code",
      "metadata": {
        "id": "PgBRTkbdoVXg",
        "scrolled": true
      },
      "source": [
        "import cv2\n",
        "from skimage import io\n",
        "from utils import visualization as vis\n",
        "from skimage.filters import threshold_otsu, sobel, gaussian\n",
        "from skimage.exposure import equalize_hist, rescale_intensity\n",
        "from skimage.measure import (find_contours, \n",
        "                             approximate_polygon, \n",
        "                             subdivide_polygon, label, \n",
        "                             regionprops, regionprops_table)\n",
        "from skimage import measure\n",
        "from skimage.feature import hog\n",
        "from skimage import data\n",
        "from skimage import morphology\n",
        "\n",
        "import matplotlib.pyplot as plt\n",
        "import seaborn as sns\n",
        "\n",
        "import numpy as np\n",
        "import pandas as pd\n",
        "\n",
        "from skimage import color\n",
        "\n",
        "import scipy.ndimage as ndi\n",
        "from scipy import stats"
      ],
      "execution_count": null,
      "outputs": []
    },
    {
      "cell_type": "code",
      "metadata": {
        "id": "UALTYulKoVXl"
      },
      "source": [
        "url = \"https://github.com/PacktPublishing/Python-Image-Processing-Cookbook/blob/master/Chapter%2004/images/planets.png?raw=true\""
      ],
      "execution_count": null,
      "outputs": []
    },
    {
      "cell_type": "markdown",
      "metadata": {
        "id": "lNs-jK7doVXo"
      },
      "source": [
        "# **Preprocesamiento de Contornos**<a name=\"id1\"></a>\n",
        "## **Seguimiento de Contornos Vs. Detección de Contornos**<a name=\"id1-1\"></a>\n",
        "![image](https://i.stack.imgur.com/RNImW.jpg)"
      ]
    },
    {
      "cell_type": "code",
      "metadata": {
        "id": "CZO2xvraoVXp"
      },
      "source": [
        "img = vis.download_content(url)"
      ],
      "execution_count": null,
      "outputs": []
    },
    {
      "cell_type": "code",
      "metadata": {
        "id": "wFHeR9EaoVXt"
      },
      "source": [
        "vis.imshow(img)"
      ],
      "execution_count": null,
      "outputs": []
    },
    {
      "cell_type": "code",
      "metadata": {
        "id": "ElEvyCq8oVXz"
      },
      "source": [
        "img_gray = color.rgb2gray(img)"
      ],
      "execution_count": null,
      "outputs": []
    },
    {
      "cell_type": "code",
      "metadata": {
        "id": "2ZSGglNioVX2"
      },
      "source": [
        "vis.imshow(img_gray)"
      ],
      "execution_count": null,
      "outputs": []
    },
    {
      "cell_type": "code",
      "metadata": {
        "id": "Lo5HDKhDoVX5"
      },
      "source": [
        "thresh = threshold_otsu(img_gray)"
      ],
      "execution_count": null,
      "outputs": []
    },
    {
      "cell_type": "code",
      "metadata": {
        "id": "80svT5AwoVX9"
      },
      "source": [
        "segmented_img = (img_gray > thresh).astype(\"uint8\")"
      ],
      "execution_count": null,
      "outputs": []
    },
    {
      "cell_type": "code",
      "metadata": {
        "id": "Sx5OgEsDoVYB"
      },
      "source": [
        "vis.imshow(segmented_img)"
      ],
      "execution_count": null,
      "outputs": []
    },
    {
      "cell_type": "code",
      "metadata": {
        "id": "ZUvQIX-RoVYE"
      },
      "source": [
        "contours, _ = cv2.findContours(segmented_img, cv2.RETR_EXTERNAL, cv2.CHAIN_APPROX_SIMPLE)"
      ],
      "execution_count": null,
      "outputs": []
    },
    {
      "cell_type": "code",
      "metadata": {
        "id": "NXvgz83aLvnn"
      },
      "source": [
        "contours"
      ],
      "execution_count": null,
      "outputs": []
    },
    {
      "cell_type": "code",
      "metadata": {
        "id": "t0tQaj_soVYI"
      },
      "source": [
        "draw = cv2.drawContours(segmented_img.copy(), contours, -1, (255, 255, 0), 2)"
      ],
      "execution_count": null,
      "outputs": []
    },
    {
      "cell_type": "code",
      "metadata": {
        "id": "C9oktcWHoVYL",
        "scrolled": true
      },
      "source": [
        "vis.imshow(draw)"
      ],
      "execution_count": null,
      "outputs": []
    },
    {
      "cell_type": "code",
      "metadata": {
        "id": "42VpSePksJo9"
      },
      "source": [
        "edges = sobel(segmented_img)\n",
        "vis.imshow(edges)"
      ],
      "execution_count": null,
      "outputs": []
    },
    {
      "cell_type": "code",
      "metadata": {
        "id": "QIbUI79JsXkp"
      },
      "source": [
        "vis.visualize_subplot([draw, edges], \n",
        "                      [\"Seguimiento de Contornos\", \n",
        "                       \"Detección de Contornos con Sobel\"], (1, 2), (12, 6))"
      ],
      "execution_count": null,
      "outputs": []
    },
    {
      "cell_type": "markdown",
      "metadata": {
        "id": "mrYhukCCoVYP"
      },
      "source": [
        "### **Preguntas**\n",
        "- ¿Cuál es la diferencia entre la detección de contornos y el seguimiento de contornos?\n",
        "- ¿Cómo se podría preprocesar la imagen para recuperar la forma circular de los planetas, que se perdió durante la umbralización, sin afectar los anillos de Saturno?"
      ]
    },
    {
      "cell_type": "markdown",
      "metadata": {
        "id": "VxKeYv6poVYP"
      },
      "source": [
        "## **Esqueletización Morfológica Vs. Transformada del Eje Medio**<a name=\"id1-2\"></a>"
      ]
    },
    {
      "cell_type": "code",
      "metadata": {
        "id": "o46_-padoVYQ"
      },
      "source": [
        "url_angio = \"https://www.radiologyinfo.org/gallery-items/images/ICA-Angiogram.jpg\""
      ],
      "execution_count": null,
      "outputs": []
    },
    {
      "cell_type": "code",
      "metadata": {
        "id": "7Rtgy6WQoVYT"
      },
      "source": [
        "img = vis.download_content(url_angio)"
      ],
      "execution_count": null,
      "outputs": []
    },
    {
      "cell_type": "code",
      "metadata": {
        "id": "02j66VpdoVYY"
      },
      "source": [
        "img_gray = color.rgb2gray(img)"
      ],
      "execution_count": null,
      "outputs": []
    },
    {
      "cell_type": "code",
      "metadata": {
        "id": "A4DlOq2loVYb"
      },
      "source": [
        "vis.imshow(img_gray)"
      ],
      "execution_count": null,
      "outputs": []
    },
    {
      "cell_type": "code",
      "metadata": {
        "id": "eiidt7huoVYe"
      },
      "source": [
        "segmented = (img_gray < 0.4).astype(\"uint8\")"
      ],
      "execution_count": null,
      "outputs": []
    },
    {
      "cell_type": "code",
      "metadata": {
        "id": "MlV6v4vXoVYh"
      },
      "source": [
        "vis.imshow(segmented)"
      ],
      "execution_count": null,
      "outputs": []
    },
    {
      "cell_type": "code",
      "metadata": {
        "id": "TcvrTZyboVYk"
      },
      "source": [
        "skeleton = vis.skeletonize(segmented)"
      ],
      "execution_count": null,
      "outputs": []
    },
    {
      "cell_type": "code",
      "metadata": {
        "id": "IqTySSRLoVYm"
      },
      "source": [
        "vis.imshow(skeleton)"
      ],
      "execution_count": null,
      "outputs": []
    },
    {
      "cell_type": "code",
      "metadata": {
        "id": "dJFMA2nGoVYp"
      },
      "source": [
        "medial_transform = morphology.medial_axis(segmented)"
      ],
      "execution_count": null,
      "outputs": []
    },
    {
      "cell_type": "code",
      "metadata": {
        "id": "rciUON6AoVYr"
      },
      "source": [
        "vis.imshow(medial_transform)"
      ],
      "execution_count": null,
      "outputs": []
    },
    {
      "cell_type": "code",
      "metadata": {
        "id": "9YBmTlOOoVYu"
      },
      "source": [
        "vis.visualize_subplot([skeleton, medial_transform],\n",
        "                      [\"Esqueletización Morfológica\", \n",
        "                       \"Transformada del Eje Medio\"], (1, 2), (18, 9))"
      ],
      "execution_count": null,
      "outputs": []
    },
    {
      "cell_type": "code",
      "metadata": {
        "id": "T_RZXnaVoVYy"
      },
      "source": [
        "segmented = np.logical_not(data.horse()).astype(\"uint8\")"
      ],
      "execution_count": null,
      "outputs": []
    },
    {
      "cell_type": "code",
      "metadata": {
        "id": "c8Aw2UPtoVY0"
      },
      "source": [
        "vis.imshow(segmented)"
      ],
      "execution_count": null,
      "outputs": []
    },
    {
      "cell_type": "code",
      "metadata": {
        "id": "3KgnBzvboVY3"
      },
      "source": [
        "skeleton = vis.skeletonize(segmented)\n",
        "medial_transform = morphology.medial_axis(segmented)"
      ],
      "execution_count": null,
      "outputs": []
    },
    {
      "cell_type": "code",
      "metadata": {
        "id": "Dz092cfOoVY6"
      },
      "source": [
        "vis.visualize_subplot([skeleton, medial_transform],\n",
        "                      [\"Esqueletización Morfológica\", \n",
        "                       \"Transformada del Eje Medio\"], (1, 2), (18, 9))"
      ],
      "execution_count": null,
      "outputs": []
    },
    {
      "cell_type": "code",
      "metadata": {
        "id": "0qSXaNfEoVY8"
      },
      "source": [
        "url_tree = \"https://estaticos.muyinteresante.es/media/cache/1000x460_thumb/uploads/images/test/5af18b675bafe8cd7d3c986b/arbol.jpg\""
      ],
      "execution_count": null,
      "outputs": []
    },
    {
      "cell_type": "code",
      "metadata": {
        "id": "FZY8A3okoVY_"
      },
      "source": [
        "arbol = vis.download_content(url_tree)"
      ],
      "execution_count": null,
      "outputs": []
    },
    {
      "cell_type": "code",
      "metadata": {
        "id": "GvCldxskoVZC"
      },
      "source": [
        "arbol_gray = color.rgb2gray(arbol)"
      ],
      "execution_count": null,
      "outputs": []
    },
    {
      "cell_type": "code",
      "metadata": {
        "id": "o5YB-XFCoVZF"
      },
      "source": [
        "vis.imshow(arbol_gray)"
      ],
      "execution_count": null,
      "outputs": []
    },
    {
      "cell_type": "code",
      "metadata": {
        "id": "vA9um0cboVZI"
      },
      "source": [
        "thresh = threshold_otsu(arbol_gray)\n",
        "segmented = (arbol_gray < thresh).astype(\"uint8\")"
      ],
      "execution_count": null,
      "outputs": []
    },
    {
      "cell_type": "code",
      "metadata": {
        "id": "7V1aM4YUoVZL",
        "scrolled": true
      },
      "source": [
        "vis.imshow(segmented)"
      ],
      "execution_count": null,
      "outputs": []
    },
    {
      "cell_type": "code",
      "metadata": {
        "id": "HgMcerkzoVZN"
      },
      "source": [
        "medial_transform = morphology.medial_axis(segmented)"
      ],
      "execution_count": null,
      "outputs": []
    },
    {
      "cell_type": "code",
      "metadata": {
        "id": "D2As_Z1NoVZQ"
      },
      "source": [
        "skeleton = vis.skeletonize(segmented)"
      ],
      "execution_count": null,
      "outputs": []
    },
    {
      "cell_type": "code",
      "metadata": {
        "id": "HdQzvLFboVZT"
      },
      "source": [
        "vis.visualize_subplot([skeleton, medial_transform],\n",
        "                      [\"Esqueletización Morfológica\", \n",
        "                       \"Transformada del Eje Medio\"], (1, 2), (18, 9))"
      ],
      "execution_count": null,
      "outputs": []
    },
    {
      "cell_type": "markdown",
      "metadata": {
        "id": "-_PHcD_boVZW"
      },
      "source": [
        "### **Preguntas**\n",
        "- Repetir el procedimiento con la siguiente [url](https://image.shutterstock.com/image-photo/group-people-260nw-602783837.jpg)."
      ]
    },
    {
      "cell_type": "markdown",
      "metadata": {
        "id": "jCD2ncOuoVZX"
      },
      "source": [
        "## **Código de Cadena de Freeman**<a name=\"id1-3\"></a>\n",
        "- ¿Cómo describimos una imagen en términos de su contorno? Aquí es donde entramos a usar el código de la cadema de Freeman.\n",
        "![image](https://www.researchgate.net/profile/Kabir_Mamun/publication/305791915/figure/fig4/AS:391040709218307@1470242778549/Freeman-chain-code-of-a-contour.png)"
      ]
    },
    {
      "cell_type": "code",
      "metadata": {
        "id": "H_flIb2QoVZX"
      },
      "source": [
        "leaf_url = \"https://image.shutterstock.com/image-photo/green-perilla-leaf-known-shiso-260nw-416872249.jpg\""
      ],
      "execution_count": null,
      "outputs": []
    },
    {
      "cell_type": "code",
      "metadata": {
        "id": "ZkFi6u7aoVZa"
      },
      "source": [
        "leaf = vis.download_content(leaf_url)\n",
        "leaf_gray = color.rgb2gray(leaf)"
      ],
      "execution_count": null,
      "outputs": []
    },
    {
      "cell_type": "code",
      "metadata": {
        "id": "tVkQ9FwVoVZd"
      },
      "source": [
        "vis.imshow(leaf_gray)"
      ],
      "execution_count": null,
      "outputs": []
    },
    {
      "cell_type": "code",
      "metadata": {
        "id": "RzuLAEYeoVZg"
      },
      "source": [
        "segmented = (leaf_gray < .9).astype(\"uint8\")\n",
        "segmented = segmented[:250, :]"
      ],
      "execution_count": null,
      "outputs": []
    },
    {
      "cell_type": "code",
      "metadata": {
        "id": "OKM9jLQroVZk"
      },
      "source": [
        "vis.imshow(segmented)"
      ],
      "execution_count": null,
      "outputs": []
    },
    {
      "cell_type": "code",
      "metadata": {
        "id": "cjsj3QnKoVZo"
      },
      "source": [
        "y, x = vis.find_start_point(segmented)"
      ],
      "execution_count": null,
      "outputs": []
    },
    {
      "cell_type": "code",
      "metadata": {
        "id": "9hisr2iloVZq"
      },
      "source": [
        "vis.imshow(segmented)\n",
        "plt.scatter(x, y, color=\"r\")\n",
        "plt.show()"
      ],
      "execution_count": null,
      "outputs": []
    },
    {
      "cell_type": "code",
      "metadata": {
        "id": "fQhRNEVGoVZu"
      },
      "source": [
        "border, chain, count = vis.find_contours(segmented)"
      ],
      "execution_count": null,
      "outputs": []
    },
    {
      "cell_type": "code",
      "metadata": {
        "id": "Uib155XEoVZx"
      },
      "source": [
        "contours = find_contours(segmented, .8)"
      ],
      "execution_count": null,
      "outputs": []
    },
    {
      "cell_type": "code",
      "metadata": {
        "id": "DFkcO_icoVZ0"
      },
      "source": [
        "contour = max(contours, key=len)"
      ],
      "execution_count": null,
      "outputs": []
    },
    {
      "cell_type": "code",
      "metadata": {
        "id": "Azpc5pdKoVZ3"
      },
      "source": [
        "plt.figure(figsize=(12, 6))\n",
        "\n",
        "plt.subplot(121)\n",
        "plt.plot(border[..., 1], border[..., 0], linewidth=2, color=\"r\")\n",
        "vis.imshow(leaf_gray, \"Freeman Chain Code\")\n",
        "\n",
        "plt.subplot(122)\n",
        "plt.plot(contour[..., 1], contour[..., 0], linewidth=2, color=\"b\")\n",
        "vis.imshow(leaf_gray, \"Scikit-Image Contour\")\n",
        "\n",
        "plt.show()"
      ],
      "execution_count": null,
      "outputs": []
    },
    {
      "cell_type": "code",
      "metadata": {
        "id": "AKDwWbX5oVZ6"
      },
      "source": [
        "for dir, code in zip(border, chain):\n",
        "    print(f\"Coordenada x: {dir[1]}, y: {dir[0]} - Freeman Code: {code}\")"
      ],
      "execution_count": null,
      "outputs": []
    },
    {
      "cell_type": "markdown",
      "metadata": {
        "id": "i-qdchYEoVZ8"
      },
      "source": [
        "## **Firma de Contornos**<a name=\"id1-4\"></a>"
      ]
    },
    {
      "cell_type": "code",
      "metadata": {
        "id": "fqteRDxFoVZ9"
      },
      "source": [
        "cy, cx = ndi.center_of_mass(leaf_gray)"
      ],
      "execution_count": null,
      "outputs": []
    },
    {
      "cell_type": "code",
      "metadata": {
        "id": "KZB5RhY8oVaA",
        "scrolled": true
      },
      "source": [
        "plt.scatter(cx, cy, color=\"r\")\n",
        "vis.imshow(leaf_gray)"
      ],
      "execution_count": null,
      "outputs": []
    },
    {
      "cell_type": "code",
      "metadata": {
        "id": "U_nmTg_hoVaC"
      },
      "source": [
        "plt.figure(figsize=(6, 6))\n",
        "plt.plot(border[..., 1], border[..., 0])\n",
        "plt.scatter(cx, cy)\n",
        "plt.grid(linestyle=\"--\")\n",
        "plt.title(\"Non-centered Image\")\n",
        "plt.ylim([250, 0])\n",
        "plt.show()"
      ],
      "execution_count": null,
      "outputs": []
    },
    {
      "cell_type": "code",
      "metadata": {
        "id": "_R6B5_XGoVaI"
      },
      "source": [
        "border[..., 1] -= int(cx)\n",
        "border[..., 0] -= int(cy)"
      ],
      "execution_count": null,
      "outputs": []
    },
    {
      "cell_type": "code",
      "metadata": {
        "id": "_uE-XlOEoVaK"
      },
      "source": [
        "polar_contour = np.array([vis.cart2pol(x, y) for x, y in border])"
      ],
      "execution_count": null,
      "outputs": []
    },
    {
      "cell_type": "code",
      "metadata": {
        "id": "wGKGVMiaoVaM",
        "scrolled": false
      },
      "source": [
        "plt.figure(figsize=(6, 6))\n",
        "plt.plot(border[..., 1], border[..., 0])\n",
        "plt.scatter(0, 0)\n",
        "plt.grid(linestyle=\"--\")\n",
        "plt.title(\"Zero-centered Image\")\n",
        "plt.ylim([110, -130])\n",
        "plt.show()"
      ],
      "execution_count": null,
      "outputs": []
    },
    {
      "cell_type": "code",
      "metadata": {
        "id": "4qoeUZgsoVaO",
        "scrolled": false
      },
      "source": [
        "plt.figure(figsize=(12, 6))\n",
        "plt.subplot(121)\n",
        "plt.scatter(polar_contour[..., 1], polar_contour[..., 0], linewidth=0, s=3)\n",
        "plt.title(\"Polar Coordinates\")\n",
        "plt.grid(linestyle=\"--\")\n",
        "\n",
        "plt.subplot(122)\n",
        "plt.scatter(border[..., 1], border[..., 0], s=1)\n",
        "plt.grid(linestyle=\"--\")\n",
        "plt.ylim([110, -130])\n",
        "plt.title(\"Cartesian Coordinates\")\n",
        "plt.show()"
      ],
      "execution_count": null,
      "outputs": []
    },
    {
      "cell_type": "markdown",
      "metadata": {
        "id": "nSaZroTBoVaQ"
      },
      "source": [
        "## **Polígonos de Perímetro Mínimo**<a name=\"id1-5\"></a>"
      ]
    },
    {
      "cell_type": "code",
      "metadata": {
        "id": "tTkQY3k6oVaQ",
        "scrolled": false
      },
      "source": [
        "plt.figure(figsize=(18, 12))\n",
        "\n",
        "plt.subplot(231)\n",
        "coords = approximate_polygon(border, tolerance=1)\n",
        "plt.plot(coords[..., 1], coords[..., 0])\n",
        "plt.grid(linestyle=\"--\")\n",
        "plt.title(\"Tolerance 1\")\n",
        "\n",
        "plt.subplot(232)\n",
        "coords = approximate_polygon(border, tolerance=2)\n",
        "plt.plot(coords[..., 1], coords[..., 0])\n",
        "plt.grid(linestyle=\"--\")\n",
        "plt.title(\"Tolerance 2\")\n",
        "\n",
        "plt.subplot(233)\n",
        "coords = approximate_polygon(border, tolerance=4)\n",
        "plt.plot(coords[..., 1], coords[..., 0])\n",
        "plt.grid(linestyle=\"--\")\n",
        "plt.title(\"Tolerance 4\")\n",
        "\n",
        "plt.subplot(234)\n",
        "coords = approximate_polygon(border, tolerance=6)\n",
        "plt.plot(coords[..., 1], coords[..., 0])\n",
        "plt.grid(linestyle=\"--\")\n",
        "plt.title(\"Tolerance 6\")\n",
        "\n",
        "plt.subplot(235)\n",
        "coords = approximate_polygon(border, tolerance=8)\n",
        "plt.plot(coords[..., 1], coords[..., 0])\n",
        "plt.grid(linestyle=\"--\")\n",
        "plt.title(\"Tolerance 8\")\n",
        "\n",
        "plt.subplot(236)\n",
        "coords = approximate_polygon(border, tolerance=10)\n",
        "plt.plot(coords[..., 1], coords[..., 0])\n",
        "plt.grid(linestyle=\"--\")\n",
        "plt.title(\"Tolerance 10\")\n",
        "\n",
        "plt.show()"
      ],
      "execution_count": null,
      "outputs": []
    },
    {
      "cell_type": "code",
      "metadata": {
        "id": "tx54LkYjoVaT",
        "scrolled": false
      },
      "source": [
        "plt.figure(figsize=(18, 12))\n",
        "\n",
        "plt.subplot(231)\n",
        "coords = approximate_polygon(border, tolerance=1)\n",
        "polar = np.array([vis.cart2pol(x, y) for x, y in coords])\n",
        "plt.plot(polar[:-15, 1], polar[:-15, 0])\n",
        "plt.grid(linestyle=\"--\")\n",
        "plt.title(\"Tolerance 1\")\n",
        "\n",
        "plt.subplot(232)\n",
        "coords = approximate_polygon(border, tolerance=2)\n",
        "polar = np.array([vis.cart2pol(x, y) for x, y in coords])\n",
        "plt.plot(polar[:-15, 1], polar[:-15, 0])\n",
        "plt.grid(linestyle=\"--\")\n",
        "plt.title(\"Tolerance 2\")\n",
        "\n",
        "plt.subplot(233)\n",
        "coords = approximate_polygon(border, tolerance=4)\n",
        "polar = np.array([vis.cart2pol(x, y) for x, y in coords])\n",
        "plt.plot(polar[:-15, 1], polar[:-15, 0])\n",
        "plt.grid(linestyle=\"--\")\n",
        "plt.title(\"Tolerance 4\")\n",
        "\n",
        "plt.subplot(234)\n",
        "coords = approximate_polygon(border, tolerance=6)\n",
        "polar = np.array([vis.cart2pol(x, y) for x, y in coords])\n",
        "plt.plot(polar[:-7, 1], polar[:-7, 0])\n",
        "plt.grid(linestyle=\"--\")\n",
        "plt.title(\"Tolerance 6\")\n",
        "\n",
        "plt.subplot(235)\n",
        "coords = approximate_polygon(border, tolerance=8)\n",
        "polar = np.array([vis.cart2pol(x, y) for x, y in coords])\n",
        "plt.plot(polar[:-5, 1], polar[:-5, 0])\n",
        "plt.grid(linestyle=\"--\")\n",
        "plt.title(\"Tolerance 8\")\n",
        "\n",
        "plt.subplot(236)\n",
        "coords = approximate_polygon(border, tolerance=10)\n",
        "polar = np.array([vis.cart2pol(x, y) for x, y in coords])\n",
        "plt.plot(polar[:-3, 1], polar[:-3, 0])\n",
        "plt.grid(linestyle=\"--\")\n",
        "plt.title(\"Tolerance 10\")\n",
        "\n",
        "plt.show()"
      ],
      "execution_count": null,
      "outputs": []
    },
    {
      "cell_type": "markdown",
      "metadata": {
        "id": "t6OpZ8spoVaV"
      },
      "source": [
        "### **Preguntas**\n",
        "- ¿Qué pasaría si no uso el centro de masa como referencia para centrar la imagen?\n",
        "- ¿Cómo afecta la toleracia al polígono de perímetro mínimo?\n",
        "- Repetir el ejercicio con las siguiente [url](https://d25rq8gxcq0p71.cloudfront.net/dictionary-images/324/hand_FD9zpJx.jpg)"
      ]
    },
    {
      "cell_type": "code",
      "metadata": {
        "id": "j3dCQbRFoVaV"
      },
      "source": [
        "url_planets = \"https://hipertextual.com/files/2014/02/sistema-solar-tierra.jpg\""
      ],
      "execution_count": null,
      "outputs": []
    },
    {
      "cell_type": "code",
      "metadata": {
        "id": "WyEdAp2eoVaZ"
      },
      "source": [
        "planets = vis.download_content(url_planets)\n",
        "planets_gray = color.rgb2gray(planets)"
      ],
      "execution_count": null,
      "outputs": []
    },
    {
      "cell_type": "code",
      "metadata": {
        "id": "1wLLReQeoVab"
      },
      "source": [
        "vis.imshow(planets_gray)"
      ],
      "execution_count": null,
      "outputs": []
    },
    {
      "cell_type": "code",
      "metadata": {
        "id": "_MQwBaVFoVad"
      },
      "source": [
        "segmented = (planets_gray > 0.3).astype(\"uint8\")"
      ],
      "execution_count": null,
      "outputs": []
    },
    {
      "cell_type": "code",
      "metadata": {
        "id": "s046iZfKoVaf"
      },
      "source": [
        "vis.imshow(segmented)"
      ],
      "execution_count": null,
      "outputs": []
    },
    {
      "cell_type": "code",
      "metadata": {
        "id": "k80j-q2aoVah"
      },
      "source": [
        "contours = find_contours(segmented, .8)"
      ],
      "execution_count": null,
      "outputs": []
    },
    {
      "cell_type": "code",
      "metadata": {
        "id": "1aUYz10QoVak"
      },
      "source": [
        "contour = max(contours, key=len)"
      ],
      "execution_count": null,
      "outputs": []
    },
    {
      "cell_type": "code",
      "metadata": {
        "id": "Ddkdv79qoVam"
      },
      "source": [
        "plt.scatter(contour[..., 1], contour[..., 0], s=1)\n",
        "vis.imshow(segmented)"
      ],
      "execution_count": null,
      "outputs": []
    },
    {
      "cell_type": "code",
      "metadata": {
        "id": "8udlD5gloVap",
        "scrolled": false
      },
      "source": [
        "plt.figure(figsize=(6, 6))\n",
        "plt.plot(contour[... ,1], contour[..., 0], label=f\"Original Contour\")\n",
        "for i in range(5, 21, 5):\n",
        "    coords = approximate_polygon(contour, tolerance=i)\n",
        "    plt.plot(coords[..., 1], coords[..., 0], label=f\"$Tolerance={i}$\")\n",
        "plt.grid(linestyle=\"--\")\n",
        "plt.legend(loc=\"best\")\n",
        "plt.show()"
      ],
      "execution_count": null,
      "outputs": []
    },
    {
      "cell_type": "markdown",
      "metadata": {
        "id": "f01ex8QxoVaq"
      },
      "source": [
        "### **Preguntas**\n",
        "- Repetir el ejercicio con la siguiente [url](https://i.blogs.es/981b0d/screenshot-2/1366_2000.jpg) y suprima los astros pequeños."
      ]
    },
    {
      "cell_type": "markdown",
      "metadata": {
        "id": "WOoZSMF3oVar"
      },
      "source": [
        "# **Características de Frontera**<a name=\"id2\"></a>\n",
        "- Diametro Local\n",
        "$$diameter(B)=max_{i, j}[D(p_i, p_j)]$$\n",
        "\n",
        "- Longitud\n",
        "$$length_m=[(x_2 - x_1)^2 + (y_2 - y_1)^2]^{\\frac{1}{2}}$$\n",
        "\n",
        "## **Diámetro Local**<a name=\"id2-1\"></a>"
      ]
    },
    {
      "cell_type": "code",
      "metadata": {
        "id": "PKqR5oL3oVar"
      },
      "source": [
        "leaf_url = \"https://image.shutterstock.com/image-photo/green-perilla-leaf-known-shiso-260nw-416872249.jpg\""
      ],
      "execution_count": null,
      "outputs": []
    },
    {
      "cell_type": "code",
      "metadata": {
        "id": "5K5303w9oVat"
      },
      "source": [
        "leaf = vis.download_content(leaf_url)\n",
        "leaf_gray = color.rgb2gray(leaf)"
      ],
      "execution_count": null,
      "outputs": []
    },
    {
      "cell_type": "code",
      "metadata": {
        "id": "TilZeDPGoVaw"
      },
      "source": [
        "segmented = (leaf_gray < .9).astype(\"uint8\")\n",
        "segmented = segmented[:250, :]"
      ],
      "execution_count": null,
      "outputs": []
    },
    {
      "cell_type": "code",
      "metadata": {
        "id": "VcuFr_NMoVay"
      },
      "source": [
        "vis.imshow(segmented)"
      ],
      "execution_count": null,
      "outputs": []
    },
    {
      "cell_type": "code",
      "metadata": {
        "id": "xqxNPgoXoVa2"
      },
      "source": [
        "border, _, _ = vis.find_contours(segmented)"
      ],
      "execution_count": null,
      "outputs": []
    },
    {
      "cell_type": "code",
      "metadata": {
        "id": "S7nlPVFSoVa4"
      },
      "source": [
        "plt.plot(border[..., 1], border[..., 0])\n",
        "plt.show()"
      ],
      "execution_count": null,
      "outputs": []
    },
    {
      "cell_type": "code",
      "metadata": {
        "id": "S4SMhxmToVa5"
      },
      "source": [
        "a, b, dist = vis.diameter(border)"
      ],
      "execution_count": null,
      "outputs": []
    },
    {
      "cell_type": "code",
      "metadata": {
        "id": "Iybfs96WoVa7"
      },
      "source": [
        "plt.plot(border[..., 1], border[..., 0])\n",
        "plt.scatter(a[1], a[0], c=\"b\", marker=\"s\")\n",
        "plt.scatter(b[1], b[0], c=\"b\", marker=\"s\")\n",
        "\n",
        "plt.plot((a[1], b[1]), (a[0], b[0]), \"--b\")\n",
        "vis.imshow(segmented)\n",
        "plt.show()"
      ],
      "execution_count": null,
      "outputs": []
    },
    {
      "cell_type": "markdown",
      "metadata": {
        "id": "kPOAOU3nqGi9"
      },
      "source": [
        "## **Longitud**<a name=\"id2-2\"></a>"
      ]
    },
    {
      "cell_type": "code",
      "metadata": {
        "id": "wmqk5yfuoVa-"
      },
      "source": [
        "perimeter = vis.perimeter(border)"
      ],
      "execution_count": null,
      "outputs": []
    },
    {
      "cell_type": "code",
      "metadata": {
        "id": "RnCbnULZoVbA"
      },
      "source": [
        "perimeter"
      ],
      "execution_count": null,
      "outputs": []
    },
    {
      "cell_type": "code",
      "metadata": {
        "id": "G6zfqx5UoVbC"
      },
      "source": [
        "regionprops(segmented)[0][\"perimeter\"]"
      ],
      "execution_count": null,
      "outputs": []
    },
    {
      "cell_type": "markdown",
      "metadata": {
        "id": "qM5rZWNsoVbE"
      },
      "source": [
        "# **Características de Región**<a name=\"id3\"></a>\n",
        "1. **Circularidad:** $\\frac{4\\pi A}{p^2}$\n",
        "\n",
        "2. **Compacidad:** $\\frac{p^2}{A}$\n",
        "\n",
        "3. **Excentricidad:** $\\frac{c}{a}=\\frac{\\sqrt{a^2 - b^2}}{a}=\\sqrt{1-(b/a)^2}$\n",
        "\n",
        "4. **Número de Euler:** $C-H$"
      ]
    },
    {
      "cell_type": "code",
      "metadata": {
        "id": "7hF95ewIoVbE"
      },
      "source": [
        "url_elipse = \"https://p4.wallpaperbetter.com/wallpaper/5/875/596/nature-hole-texture-black-wallpaper-preview.jpg\""
      ],
      "execution_count": null,
      "outputs": []
    },
    {
      "cell_type": "code",
      "metadata": {
        "id": "y0VjC_GkoVbG"
      },
      "source": [
        "elipse = vis.download_content(url_elipse)\n",
        "elipse_gray = color.rgb2gray(elipse)"
      ],
      "execution_count": null,
      "outputs": []
    },
    {
      "cell_type": "code",
      "metadata": {
        "id": "F64HQHInoVbH"
      },
      "source": [
        "vis.imshow(elipse_gray)"
      ],
      "execution_count": null,
      "outputs": []
    },
    {
      "cell_type": "code",
      "metadata": {
        "id": "v3DpnKsmoVbK"
      },
      "source": [
        "segmented = (elipse_gray > .3).astype(\"uint8\")\n",
        "segmented = segmented[210:330, 250:480]\n",
        "\n",
        "vis.imshow(segmented)"
      ],
      "execution_count": null,
      "outputs": []
    },
    {
      "cell_type": "code",
      "metadata": {
        "id": "ZBdPEgpOoVbN",
        "scrolled": true
      },
      "source": [
        "label_elipse = label(segmented)\n",
        "vis.imshow(label_elipse)"
      ],
      "execution_count": null,
      "outputs": []
    },
    {
      "cell_type": "code",
      "metadata": {
        "id": "8_fYu29doVbO"
      },
      "source": [
        "regions = regionprops(label_elipse)"
      ],
      "execution_count": null,
      "outputs": []
    },
    {
      "cell_type": "code",
      "metadata": {
        "id": "uTwrOju3oVbQ",
        "scrolled": false
      },
      "source": [
        "# Graficar Ejes.\n",
        "for props in regions:\n",
        "    if props[\"area\"] > 500:\n",
        "        y0, x0 = props[\"centroid\"]\n",
        "        \n",
        "        # Cálculo de Números\n",
        "        circ = 4*np.pi*props[\"area\"]/props[\"perimeter\"]\n",
        "        comp = props[\"perimeter\"]**2 / props[\"area\"]\n",
        "        label_v = f\"Perimeter={props['perimeter']:.2f}\\n\"\n",
        "        label_v += f\"Area={props['area']}\\n\"\n",
        "        label_v += f\"Eccentricity={props['eccentricity']:.2f}\\n\"\n",
        "        label_v += f\"Circularity={circ:.2f}\\n\"\n",
        "        label_v += f\"Compactness={comp:.2f}\\n\"\n",
        "        label_v += f\"Euler Number={props['euler_number']}\"\n",
        "        plt.scatter(x0, y0, label=label_v, c=\"b\", marker=\"s\")\n",
        "        \n",
        "        # Bounding box\n",
        "        minr, minc, maxr, maxc = props[\"bbox\"]\n",
        "        bx = (minc, maxc, maxc, minc, minc)\n",
        "        by = (minr, minr, maxr, maxr, minr)\n",
        "        plt.plot(bx, by, \"--g\", linewidth=2.5)\n",
        "        \n",
        "        # Vertices\n",
        "        orientation = props[\"orientation\"]\n",
        "        x1 = x0 + np.cos(orientation) * .5 * props[\"minor_axis_length\"]\n",
        "        y1 = y0 - np.sin(orientation) * .5 * props[\"minor_axis_length\"]\n",
        "        \n",
        "        x2 = x0 - np.sin(orientation) * .5 * props[\"major_axis_length\"]\n",
        "        y2 = y0 - np.cos(orientation) * .5 * props[\"major_axis_length\"]\n",
        "        \n",
        "        plt.plot((x0, x1), (y0, y1), '-vb', linewidth=2)\n",
        "        plt.plot((x0, x2), (y0, y2), '-vb', linewidth=2)\n",
        "        \n",
        "vis.imshow(label_elipse, \"Labeled Image\")\n",
        "plt.legend(bbox_to_anchor=(1, 1.04), fontsize=11)\n",
        "plt.show()"
      ],
      "execution_count": null,
      "outputs": []
    },
    {
      "cell_type": "code",
      "metadata": {
        "id": "IlV50MxpoVbS"
      },
      "source": [
        "props_table = regionprops_table(label_elipse, properties=[\"area\",\n",
        "                                                          \"eccentricity\", \n",
        "                                                          \"perimeter\", \n",
        "                                                          \"euler_number\"])"
      ],
      "execution_count": null,
      "outputs": []
    },
    {
      "cell_type": "code",
      "metadata": {
        "id": "fmffXbS8oVbU"
      },
      "source": [
        "props_df = pd.DataFrame(props_table)"
      ],
      "execution_count": null,
      "outputs": []
    },
    {
      "cell_type": "code",
      "metadata": {
        "id": "xuI5wajKoVbW"
      },
      "source": [
        "props_df = props_df.query(\"area > 100\")"
      ],
      "execution_count": null,
      "outputs": []
    },
    {
      "cell_type": "code",
      "metadata": {
        "id": "FlKwiYNjoVbX"
      },
      "source": [
        "props_df.loc[:, \"circularity\"] = props_df[\"area\"] * 4*np.pi / props_df[\"perimeter\"]\n",
        "props_df.loc[:, \"compactness\"] = props_df[\"perimeter\"]**2 / props_df[\"area\"]"
      ],
      "execution_count": null,
      "outputs": []
    },
    {
      "cell_type": "code",
      "metadata": {
        "id": "E0QgNYHLoVbZ"
      },
      "source": [
        "props_df"
      ],
      "execution_count": null,
      "outputs": []
    },
    {
      "cell_type": "code",
      "metadata": {
        "id": "63V0MG27oVba",
        "scrolled": false
      },
      "source": [
        "props_df.describe()"
      ],
      "execution_count": null,
      "outputs": []
    },
    {
      "cell_type": "code",
      "metadata": {
        "id": "CMO42ERTLvri"
      },
      "source": [
        "url_palo = \"https://drive.google.com/u/0/uc?id=1gZK2xWh7SYO2phDuzthsX84M278nF3YS&export=download\"\n",
        "url_circle = \"https://drive.google.com/u/0/uc?id=13zop5mfTsuTJ-QRPWIv-xndZ25dxfA73&export=download\""
      ],
      "execution_count": null,
      "outputs": []
    },
    {
      "cell_type": "code",
      "metadata": {
        "id": "NEmgWeFYLvrj"
      },
      "source": [
        "img_palo = color.rgb2gray(vis.download_content(url_palo)).astype(\"uint8\")\n",
        "img_circle = color.rgb2gray(vis.download_content(url_circle)).astype(\"uint8\")"
      ],
      "execution_count": null,
      "outputs": []
    },
    {
      "cell_type": "code",
      "metadata": {
        "id": "vD_MAmy_Lvrn"
      },
      "source": [
        "palo_table = pd.DataFrame(regionprops_table(img_palo, properties=[\"area\",\n",
        "                                                                  \"eccentricity\", \n",
        "                                                                  \"perimeter\", \n",
        "                                                                  \"euler_number\", \n",
        "                                                                  \"inertia_tensor_eigvals\"]))\n",
        "circle_table = pd.DataFrame(regionprops_table(img_circle, properties=[\"area\",\n",
        "                                                                      \"eccentricity\", \n",
        "                                                                      \"perimeter\", \n",
        "                                                                      \"euler_number\", \n",
        "                                                                      \"inertia_tensor_eigvals\"]))"
      ],
      "execution_count": null,
      "outputs": []
    },
    {
      "cell_type": "code",
      "metadata": {
        "id": "axBQLUtLLvro"
      },
      "source": [
        "df = pd.concat([palo_table, circle_table])\n",
        "df.index = [\"Stick\", \"Circle\"]"
      ],
      "execution_count": null,
      "outputs": []
    },
    {
      "cell_type": "code",
      "metadata": {
        "id": "s0UHvFqHLvrq"
      },
      "source": [
        "df"
      ],
      "execution_count": null,
      "outputs": []
    },
    {
      "cell_type": "markdown",
      "metadata": {
        "id": "w5lmbPq2aOQ4"
      },
      "source": [
        "## **Descriptores de Textura - Momentos Estadísticos** <a name=\"id3-1\"></a>\n"
      ]
    },
    {
      "cell_type": "code",
      "metadata": {
        "id": "GUXYRbNOaL9B"
      },
      "source": [
        "url_smooth = \"https://st2.depositphotos.com/4327493/11109/i/950/depositphotos_111097754-stock-photo-marble-stone-texture-background-smooth.jpg\""
      ],
      "execution_count": null,
      "outputs": []
    },
    {
      "cell_type": "code",
      "metadata": {
        "id": "vPeKLD-6MsbZ"
      },
      "source": [
        "brick = vis.scale(data.brick(), 0, 255)\n",
        "grass = vis.scale(data.grass(), 0, 255)\n",
        "gravel = vis.scale(data.gravel(), 0, 255)\n",
        "smooth = vis.scale(color.rgb2gray(vis.download_content(url_smooth)), 0, 255)"
      ],
      "execution_count": null,
      "outputs": []
    },
    {
      "cell_type": "code",
      "metadata": {
        "id": "1lrC-_J2XO_A"
      },
      "source": [
        "vis.visualize_subplot([grass, brick, gravel, smooth], \n",
        "    [\"Grass\", \"Brick\", \"Gravel\", \"Smooth\"], \n",
        "    (1, 4), (24, 6)\n",
        ")"
      ],
      "execution_count": null,
      "outputs": []
    },
    {
      "cell_type": "code",
      "metadata": {
        "id": "qtQsqCf-bf79"
      },
      "source": [
        "plt.figure(figsize=(24, 6))\n",
        "plt.subplot(141)\n",
        "sns.distplot(grass.ravel())\n",
        "plt.title(\"Grass\")\n",
        "\n",
        "plt.subplot(142)\n",
        "sns.distplot(brick.ravel())\n",
        "plt.title(\"Brick\")\n",
        "\n",
        "plt.subplot(143)\n",
        "sns.distplot(gravel.ravel())\n",
        "plt.title(\"Gravel\")\n",
        "\n",
        "plt.subplot(144)\n",
        "sns.distplot(smooth.ravel())\n",
        "plt.title(\"Smooth\")\n",
        "\n",
        "plt.show();"
      ],
      "execution_count": null,
      "outputs": []
    },
    {
      "cell_type": "code",
      "metadata": {
        "id": "7KRPK6fAX6D1"
      },
      "source": [
        "data_dict = {\n",
        "    \"texture\": [\"grass\", \"brick\", \"gravel\", \"smooth\"],\n",
        "    \"mean\": [grass.mean(), brick.mean(), gravel.mean(), smooth.mean()],\n",
        "    \"std\": [grass.std(), brick.std(), gravel.std(), smooth.std()],\n",
        "    \"R (norm)\": [vis.rugosity(grass), vis.rugosity(brick), \n",
        "                 vis.rugosity(gravel), vis.rugosity(smooth)],\n",
        "    \"3rd Moment\": [vis.moments(grass), vis.moments(brick), \n",
        "                   vis.moments(gravel), vis.moments(smooth)],\n",
        "}"
      ],
      "execution_count": null,
      "outputs": []
    },
    {
      "cell_type": "code",
      "metadata": {
        "id": "hLSDm1YIXFiD"
      },
      "source": [
        "pd.DataFrame(data_dict)"
      ],
      "execution_count": null,
      "outputs": []
    },
    {
      "cell_type": "markdown",
      "metadata": {
        "id": "ITYBhbXXda3S"
      },
      "source": [
        "## **Momentos de Imagen**<a name=\"id3-2\"></a>"
      ]
    },
    {
      "cell_type": "code",
      "metadata": {
        "id": "lZ7Tb7flf2iN"
      },
      "source": [
        "circulo_url = \"https://drive.google.com/u/0/uc?id=11-4_w2ZpQw4c1KqnFSM7veIyumrSFwF2&export=download\"\n",
        "palo_url = \"https://drive.google.com/u/0/uc?id=1aTQn0L5SJ3yoTaRYdQZYPFI3FlAd7hGz&export=download\""
      ],
      "execution_count": null,
      "outputs": []
    },
    {
      "cell_type": "code",
      "metadata": {
        "id": "XerN9QSMdgzb",
        "scrolled": true
      },
      "source": [
        "img_palo = color.rgb2gray(vis.download_content(palo_url))\n",
        "img_circle = color.rgb2gray(vis.download_content(circulo_url))\n",
        "\n",
        "img_palo_seg = (img_palo > 0).astype(\"uint8\")\n",
        "img_circle_seg = (img_circle > 0).astype(\"uint8\")"
      ],
      "execution_count": null,
      "outputs": []
    },
    {
      "cell_type": "code",
      "metadata": {
        "id": "mJyAK2585PKk"
      },
      "source": [
        "regions_palo_seg = regionprops(img_palo_seg)\n",
        "regions_circle_seg = regionprops(img_circle_seg)"
      ],
      "execution_count": null,
      "outputs": []
    },
    {
      "cell_type": "code",
      "metadata": {
        "id": "V7KsfDSV5PKn"
      },
      "source": [
        "regions_palo_seg[0][\"inertia_tensor_eigvals\"]"
      ],
      "execution_count": null,
      "outputs": []
    },
    {
      "cell_type": "code",
      "metadata": {
        "id": "bFd40kFPrFRq"
      },
      "source": [
        "centroid_palo = vis.centroid(img_palo)\n",
        "centroid_palo_seg = vis.centroid(img_palo_seg)\n",
        "\n",
        "centroid_circle = vis.centroid(img_circle)\n",
        "centroid_circle_seg = vis.centroid(img_circle_seg)"
      ],
      "execution_count": null,
      "outputs": []
    },
    {
      "cell_type": "code",
      "metadata": {
        "id": "j61qYgmSjoQY"
      },
      "source": [
        "data_dict = {\n",
        "    \"Imagen\": [\"Binary Stick\", \"Binary Circle\", \"Grayscale Stick\", \n",
        "               \"Grayscale Circle\"],\n",
        "    \"Area/Mass\": [measure.moments(img_palo_seg, 0)[0], \n",
        "                measure.moments(img_circle_seg, 0)[0], \n",
        "                measure.moments(img_palo, 0)[0], \n",
        "                measure.moments(img_circle, 0)[0]],\n",
        "    \"Centroid\": [centroid_palo_seg, centroid_circle_seg, \n",
        "                centroid_palo, centroid_circle],\n",
        "    \"Inertia Eigenvals\": [regions_palo_seg[0][\"inertia_tensor_eigvals\"], \n",
        "                          regions_circle_seg[0][\"inertia_tensor_eigvals\"], \n",
        "                          regions_palo_seg[0][\"inertia_tensor_eigvals\"], \n",
        "                          regions_circle_seg[0][\"inertia_tensor_eigvals\"]]\n",
        "}"
      ],
      "execution_count": null,
      "outputs": []
    },
    {
      "cell_type": "code",
      "metadata": {
        "id": "ZINWHTryuNAp"
      },
      "source": [
        "df = pd.DataFrame(data_dict)"
      ],
      "execution_count": null,
      "outputs": []
    },
    {
      "cell_type": "code",
      "metadata": {
        "id": "n2N2LXoXugr8"
      },
      "source": [
        "for col in df.columns[1:]:\n",
        "    df[col] = df.apply(lambda x: np.round(x[col], 2), axis=1)"
      ],
      "execution_count": null,
      "outputs": []
    },
    {
      "cell_type": "code",
      "metadata": {
        "id": "V3MILljUu348"
      },
      "source": [
        "df"
      ],
      "execution_count": null,
      "outputs": []
    },
    {
      "cell_type": "code",
      "metadata": {
        "id": "dsdeDAvdqj2-"
      },
      "source": [
        "plt.figure(figsize=(12, 12))\n",
        "\n",
        "plt.subplot(221)\n",
        "vis.imshow(img_palo_seg, \"Segmented Stick\")\n",
        "plt.scatter(centroid_palo_seg[0], centroid_palo_seg[1])\n",
        "\n",
        "plt.subplot(222)\n",
        "vis.imshow(img_palo, \"Grayscale Stick\")\n",
        "plt.scatter(centroid_palo[0], centroid_palo[1])\n",
        "\n",
        "plt.subplot(223)\n",
        "vis.imshow(img_circle_seg, \"Segmented Circle\")\n",
        "plt.scatter(centroid_circle_seg[0], centroid_circle_seg[1])\n",
        "\n",
        "plt.subplot(224)\n",
        "vis.imshow(img_circle, \"Grayscale Circle\")\n",
        "plt.scatter(centroid_circle[0], centroid_circle[1])\n",
        "\n",
        "plt.show()"
      ],
      "execution_count": null,
      "outputs": []
    },
    {
      "cell_type": "markdown",
      "metadata": {
        "id": "uZx_nDgKoVbc"
      },
      "source": [
        "# **Características de la Imagen**<a name=\"id4\"></a>\n",
        "## **Histograma De Gradientes Orientados**<a name=\"id4-1\"></a>\n",
        "![image](https://upload.wikimedia.org/wikipedia/commons/a/a1/HOG_scikit-image_AngelaMerkel.jpeg)"
      ]
    },
    {
      "cell_type": "code",
      "metadata": {
        "id": "iVQlLfSHoVbd"
      },
      "source": [
        "url_bowie = \"https://encrypted-tbn0.gstatic.com/images?q=tbn%3AANd9GcQD15A8V2TPDP3V615gaeVei6--F2OWSgbEzA&usqp=CAU\""
      ],
      "execution_count": null,
      "outputs": []
    },
    {
      "cell_type": "code",
      "metadata": {
        "id": "0bbYfdk9oVbe"
      },
      "source": [
        "bowie = vis.download_content(url_bowie)\n",
        "bowie_gray = color.rgb2gray(bowie)"
      ],
      "execution_count": null,
      "outputs": []
    },
    {
      "cell_type": "code",
      "metadata": {
        "id": "kppYK0EioVbf",
        "scrolled": true
      },
      "source": [
        "vis.imshow(bowie_gray)"
      ],
      "execution_count": null,
      "outputs": []
    },
    {
      "cell_type": "code",
      "metadata": {
        "id": "Wna7zV6ZoVbh"
      },
      "source": [
        "_, hog_image = hog(bowie_gray, orientations=8, \n",
        "                   pixels_per_cell=(16, 16), \n",
        "                   cells_per_block=(1, 1), visualize=True,\n",
        "                   multichannel=False)"
      ],
      "execution_count": null,
      "outputs": []
    },
    {
      "cell_type": "code",
      "metadata": {
        "id": "xTi8Q2SroVbi"
      },
      "source": [
        "vis.imshow(hog_image)"
      ],
      "execution_count": null,
      "outputs": []
    },
    {
      "cell_type": "code",
      "metadata": {
        "id": "cQv8UYkfoVbm"
      },
      "source": [
        "_, hog_image = hog(bowie_gray, orientations=8, \n",
        "                   pixels_per_cell=(4, 4), \n",
        "                   cells_per_block=(1, 1), visualize=True,\n",
        "                   multichannel=False)\n",
        "vis.imshow(hog_image)"
      ],
      "execution_count": null,
      "outputs": []
    },
    {
      "cell_type": "code",
      "metadata": {
        "id": "EvqzVsAooVbo"
      },
      "source": [
        "plt.figure(figsize=(18, 9))\n",
        "plt.subplot(121)\n",
        "_, hog_image = hog(bowie_gray, orientations=8, \n",
        "                   pixels_per_cell=(16, 16), \n",
        "                   cells_per_block=(1, 1), visualize=True,\n",
        "                   multichannel=False)\n",
        "vis.imshow(hog_image, \"Pixels Per Cell: (16, 16)\")\n",
        "\n",
        "plt.subplot(122)\n",
        "_, hog_image = hog(bowie_gray, orientations=8, \n",
        "                   pixels_per_cell=(4, 4), \n",
        "                   cells_per_block=(1, 1), visualize=True,\n",
        "                   multichannel=False)\n",
        "vis.imshow(hog_image, \"Pixels Per Cell: (4, 4)\")\n",
        "plt.show()"
      ],
      "execution_count": null,
      "outputs": []
    },
    {
      "cell_type": "code",
      "metadata": {
        "id": "OwO88FO3oVbq"
      },
      "source": [
        "equalized_bowie = equalize_hist(bowie_gray)"
      ],
      "execution_count": null,
      "outputs": []
    },
    {
      "cell_type": "code",
      "metadata": {
        "id": "T-9DM5Z2oVbs"
      },
      "source": [
        "vis.imshow(equalized_bowie)"
      ],
      "execution_count": null,
      "outputs": []
    },
    {
      "cell_type": "code",
      "metadata": {
        "id": "NRqclOufoVbu"
      },
      "source": [
        "_, hog_image = hog(equalized_bowie, orientations=8, \n",
        "                   pixels_per_cell=(4, 4), \n",
        "                   cells_per_block=(1, 1), visualize=True,\n",
        "                   multichannel=False)\n",
        "hog_rescaled = vis.scale(hog_image, 0., 1., dtype=\"float\")\n",
        "vis.imshow(hog_rescaled)"
      ],
      "execution_count": null,
      "outputs": []
    },
    {
      "cell_type": "code",
      "metadata": {
        "id": "L40d__I2oVbv"
      },
      "source": [
        "plt.figure(figsize=(18, 9))\n",
        "plt.subplot(121)\n",
        "_, hog_image = hog(bowie_gray, orientations=8, \n",
        "                   pixels_per_cell=(4, 4), \n",
        "                   cells_per_block=(1, 1), visualize=True,\n",
        "                   multichannel=False)\n",
        "vis.imshow(hog_image, \"Non-Equalized\")\n",
        "\n",
        "plt.subplot(122)\n",
        "_, hog_image = hog(equalized_bowie, orientations=8, \n",
        "                   pixels_per_cell=(4, 4), \n",
        "                   cells_per_block=(1, 1), visualize=True,\n",
        "                   multichannel=False)\n",
        "vis.imshow(hog_image, \"Equalized\")"
      ],
      "execution_count": null,
      "outputs": []
    },
    {
      "cell_type": "code",
      "metadata": {
        "id": "kQ1tDvvdoVbx"
      },
      "source": [
        "_, hog_image = hog(bowie, orientations=8, \n",
        "                   pixels_per_cell=(4, 4), \n",
        "                   cells_per_block=(1, 1), visualize=True,\n",
        "                   multichannel=True)\n",
        "vis.imshow(hog_image, \"Colored Image HoG\")"
      ],
      "execution_count": null,
      "outputs": []
    },
    {
      "cell_type": "code",
      "metadata": {
        "id": "C9Yxbh3ooVby"
      },
      "source": [
        "equalized_bowie_color = np.zeros_like(bowie, dtype=\"float\")\n",
        "for i in range(3):\n",
        "    equalized_bowie_color[..., i] = equalize_hist(bowie[..., i])\n",
        "    \n",
        "vis.imshow(equalized_bowie_color, \"Equalized Bowie\")"
      ],
      "execution_count": null,
      "outputs": []
    },
    {
      "cell_type": "code",
      "metadata": {
        "id": "PyD8MJnaoVb0"
      },
      "source": [
        "_, hog_image = hog(equalized_bowie_color, orientations=8, \n",
        "                   pixels_per_cell=(4, 4), \n",
        "                   cells_per_block=(1, 1), visualize=True,\n",
        "                   multichannel=True)\n",
        "vis.imshow(hog_image)"
      ],
      "execution_count": null,
      "outputs": []
    },
    {
      "cell_type": "code",
      "metadata": {
        "id": "wDPjwKwnoVb1"
      },
      "source": [
        "plt.figure(figsize=(18, 9))\n",
        "\n",
        "plt.subplot(121)\n",
        "_, hog_image = hog(bowie, orientations=8, \n",
        "                   pixels_per_cell=(4, 4), \n",
        "                   cells_per_block=(1, 1), visualize=True,\n",
        "                   multichannel=True)\n",
        "vis.imshow(hog_image, \"Colored Image Non-equalized\")\n",
        "\n",
        "plt.subplot(122)\n",
        "_, hog_image = hog(equalized_bowie_color, orientations=8, \n",
        "                   pixels_per_cell=(4, 4), \n",
        "                   cells_per_block=(1, 1), visualize=True,\n",
        "                   multichannel=True)\n",
        "vis.imshow(hog_image, \"Colored Image Equalized\")"
      ],
      "execution_count": null,
      "outputs": []
    },
    {
      "cell_type": "markdown",
      "metadata": {
        "id": "b1Qf4cw6oVb3"
      },
      "source": [
        "### **Preguntas**\n",
        "1. Considera ud que la ecualización de la imagen mejoró el HoG? ¿Por qué?\n",
        "2. Qué otras técnicas pueden ser aplicadas para mejorar el HoG?\n",
        "3. Qué pasa cuando variamos el parámetro `pixels_per_cell`? Qué pasa cuando varíamos el parámetro `orientations`? Igualmente, qué pasa cuando varíamos el parámetro `cell_per_block`?\n",
        "4. Realice el mismo procedimiento con la siguiente [url](https://drive.google.com/u/0/uc?id=1kQnVSScmxKLzcJ1kQ_t59vUbp7SYbBzz&export=download). Realice todas las operaciones de procesamiento de imagen que considere necesarias para poder obtener un buen HoG."
      ]
    }
  ]
}