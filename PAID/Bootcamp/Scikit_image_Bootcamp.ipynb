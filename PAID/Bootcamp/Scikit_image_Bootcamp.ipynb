{
  "nbformat": 4,
  "nbformat_minor": 0,
  "metadata": {
    "colab": {
      "name": "Scikit-image Bootcamp.ipynb",
      "provenance": [],
      "collapsed_sections": []
    },
    "kernelspec": {
      "display_name": "venv",
      "language": "python",
      "name": "venv"
    },
    "language_info": {
      "codemirror_mode": {
        "name": "ipython",
        "version": 3
      },
      "file_extension": ".py",
      "mimetype": "text/x-python",
      "name": "python",
      "nbconvert_exporter": "python",
      "pygments_lexer": "ipython3",
      "version": "3.8.2"
    }
  },
  "cells": [
    {
      "cell_type": "markdown",
      "metadata": {
        "id": "ye7BNcdRt-PV"
      },
      "source": [
        "![image](https://docs.google.com/uc?export=download&id=15DUc09hFGqR8qcpYiN1OajRNaASmiL6d)\n",
        "\n",
        "# **Scikit-image Bootcamp**\n",
        "\n",
        "<table align=\"left\">\n",
        "  <td>\n",
        "    <a target=\"_blank\" href=\"https://colab.research.google.com/github/jpcano1/ISIS_4825_taller_3/blob/master/bootcamp/Scikit_image_Bootcamp.ipynb\"><img src=\"https://www.tensorflow.org/images/colab_logo_32px.png\" />Run in Google Colab</a>\n",
        "  </td>\n",
        "</table>"
      ]
    },
    {
      "cell_type": "markdown",
      "metadata": {
        "id": "4vUMMp85F3LH"
      },
      "source": [
        "## **Contenido**\n",
        "1. [**¿Qué es el color y cómo se representa?**](#id1)\n",
        "2. [**Qué es una imagen y cómo se representa?**](#id2)\n",
        "    - [**Cargar y visualizar una imagen en Scikit-Image**](#id2-1)\n",
        "3. [**El histograma de una imagen**](#id3)\n",
        "    - [**¿Cómo es un histograma de una imagen a color?**](#id3-1)\n",
        "4. [**Binarización y Umbralización**](#id4)\n",
        "    - [**Cómo recorrer una imagen**](#id4-1)\n",
        "    - [**Binarizar a través de  `try_all_threshold` de scikit-image**](#id4-2)\n",
        "    - [**Segmentación usando el método de la umbralización**](#id4-3)"
      ]
    },
    {
      "cell_type": "markdown",
      "metadata": {
        "id": "oGW60WQ-uDzO"
      },
      "source": [
        "## **¿Qué es el color y cómo se representa?**<a name=\"id1\"></a>\n",
        "- El color es una percepción visual que se presenta en el cerebro de los humanos gracias a los fotorreceptores oculares.\n",
        "- Existen varios modelos para representar las distintos colores, entre ellos los más populares son RGB y CYMK.\n",
        "- RGB $\\to$ Colores en términos de intensidad de Rojo, Verde o Azul\n",
        "- CYM $\\to$ Colores en términos de los pigmentos del Cián, Amarillo y Magenta:\n",
        "\n",
        "$$\\begin{bmatrix} C\\\\[0.3em] M\\\\[0.3em] Y\n",
        "   \\end{bmatrix} = \\begin{bmatrix} 1\\\\[0.3em] 1\\\\[0.3em] 1 \n",
        "                   \\end{bmatrix} - \\begin{bmatrix}R\\\\[0.3em] G\\\\[0.3em] B\\end{bmatrix}$$\n",
        "\n",
        "## **¿Qué es una imagen y cómo se representa?**<a name=\"id2\"></a>\n",
        "- Una imagen es una representación visual compuesta por colores.\n",
        "- Se representa como un conjunto de matrices de tamaño $M \\times N$ donde, dependiendo el modelo, una imagen representará un canal de color y cada matriz estará compuesta por números entre 0 y 1 o entre 0 y 255, la mayoría de las veces.\n",
        "![image](https://www.sketchpad.net/images/channelsrgb.gif)\n",
        "> Imagen tomada de [Scketch pad](https://www.sketchpad.net/)\n",
        "\n",
        "### **Cargar y visualizar una imagen en Scikit-Image**<a name=\"id2-1\"></a>"
      ]
    },
    {
      "cell_type": "code",
      "metadata": {
        "id": "_mtpk4H3F3LJ"
      },
      "source": [
        "import utils.visualization as vis\n",
        "from skimage.filters import try_all_threshold\n",
        "\n",
        "from skimage import io\n",
        "from skimage import color\n",
        "\n",
        "import numpy as np\n",
        "import matplotlib.pyplot as plt"
      ],
      "execution_count": null,
      "outputs": []
    },
    {
      "cell_type": "code",
      "metadata": {
        "id": "d70fiUIKEgvO"
      },
      "source": [
        "url = \"https://github.com/PacktPublishing/Python-Image-Processing-Cookbook/blob/master/Chapter%2004/images/lotus.png?raw=true\""
      ],
      "execution_count": null,
      "outputs": []
    },
    {
      "cell_type": "code",
      "metadata": {
        "id": "3en56Qxwv48-"
      },
      "source": [
        "vis.download_image(url)"
      ],
      "execution_count": null,
      "outputs": []
    },
    {
      "cell_type": "code",
      "metadata": {
        "id": "aNjLyzKPF3LV"
      },
      "source": [
        "img = io.imread(\"image.jpg\")"
      ],
      "execution_count": null,
      "outputs": []
    },
    {
      "cell_type": "code",
      "metadata": {
        "id": "2WQGAosbF3LY"
      },
      "source": [
        "img.shape"
      ],
      "execution_count": null,
      "outputs": []
    },
    {
      "cell_type": "code",
      "metadata": {
        "id": "_gVAyIUNF3Ld"
      },
      "source": [
        "vis.visualize(img, \"Imagen Original\")"
      ],
      "execution_count": null,
      "outputs": []
    },
    {
      "cell_type": "code",
      "metadata": {
        "id": "5zw2e5-ZuU50"
      },
      "source": [
        "img_red = img[:, :, 0]\n",
        "img_green = img[:, :, 1]\n",
        "img_blue = img[:, :, 2]"
      ],
      "execution_count": null,
      "outputs": []
    },
    {
      "cell_type": "code",
      "metadata": {
        "id": "Pe7GIdK8wtI6"
      },
      "source": [
        "vis.visualize_subplot([img_red, img_green, img_blue], \n",
        "                      [\"Canal Rojo\", \"Canal Verde\", \"Canal Azul\"], (1, 3), figsize=(18, 6))"
      ],
      "execution_count": null,
      "outputs": []
    },
    {
      "cell_type": "code",
      "metadata": {
        "id": "R2uJLMvUF3Ln"
      },
      "source": [
        "vis.visualize(img_red, \"Canal Rojo\")\n",
        "plt.colorbar();"
      ],
      "execution_count": null,
      "outputs": []
    },
    {
      "cell_type": "code",
      "metadata": {
        "id": "qucZK3yBF3Lq"
      },
      "source": [
        "vis.visualize(img_green, \"Canal Verde\")\n",
        "plt.colorbar();"
      ],
      "execution_count": null,
      "outputs": []
    },
    {
      "cell_type": "code",
      "metadata": {
        "id": "sz9rLrMiF3Lt"
      },
      "source": [
        "vis.visualize(img_blue, \"Canal Azul\")\n",
        "plt.colorbar();"
      ],
      "execution_count": null,
      "outputs": []
    },
    {
      "cell_type": "markdown",
      "metadata": {
        "id": "Mwgw__5hwWuw"
      },
      "source": [
        "## **El histograma de una imagen**<a name=\"id3\"></a>\n",
        "- Representación gráfica de la distribución de las intensidades de las tonalidades de los canales de la imagen.\n",
        "### **¿Cómo es un histograma de una imagen a color?**<a name=\"id3-1\"></a>"
      ]
    },
    {
      "cell_type": "code",
      "metadata": {
        "id": "_v5LMK-wurGJ"
      },
      "source": [
        "plt.figure(figsize=(6, 6))\n",
        "plt.hist(img_red.ravel(), bins=256, color=\"r\")\n",
        "plt.show()"
      ],
      "execution_count": null,
      "outputs": []
    },
    {
      "cell_type": "code",
      "metadata": {
        "id": "ELmHMHoiF3L0"
      },
      "source": [
        "plt.figure(figsize=(6, 6))\n",
        "plt.hist(img_green.ravel(), bins=256, color=\"g\")\n",
        "plt.show()"
      ],
      "execution_count": null,
      "outputs": []
    },
    {
      "cell_type": "code",
      "metadata": {
        "id": "OQpDgAJtF3L2"
      },
      "source": [
        "plt.figure(figsize=(6, 6))\n",
        "plt.hist(img_blue.ravel(), bins=256, color=\"b\")\n",
        "plt.show()"
      ],
      "execution_count": null,
      "outputs": []
    },
    {
      "cell_type": "code",
      "metadata": {
        "id": "ssLqHbyrF3L5"
      },
      "source": [
        "plt.figure(figsize=(6, 6))\n",
        "plt.hist(img_red.ravel(), bins=256, alpha=0.4, color=\"r\")\n",
        "plt.hist(img_green.ravel(), bins=256, alpha=0.4, color=\"g\")\n",
        "plt.hist(img_blue.ravel(), bins=256, alpha=0.4, color=\"b\")\n",
        "plt.show()"
      ],
      "execution_count": null,
      "outputs": []
    },
    {
      "cell_type": "markdown",
      "metadata": {
        "id": "a-m-pck2F3L9"
      },
      "source": [
        "## **Binarización y Umbralización**<a name=\"id4\"></a>\n",
        "- Binarizar es el arte de normalizar todos los píxeles de una imagen en términos de unos y ceros, de True y False.\n",
        "\n",
        "![image](https://felixniklas.com/imageprocessing/content/01-binarization/binarization.png)\n",
        "\n",
        "> Imagen tomada de [Felix Niklas](https://felixniklas.com/)\n",
        "\n",
        "- Umbralizar es el arte de binarizar una imagen dado un umbral numérico.\n",
        "### **Cómo recorrer una imagen**<a name=\"id4-1\"></a>\n",
        "- Apliquemos el concepto de umbralización a una imagen pixel por pixel"
      ]
    },
    {
      "cell_type": "code",
      "metadata": {
        "id": "W6ekHwh3F3L-"
      },
      "source": [
        "img_gray = color.rgb2gray(img)"
      ],
      "execution_count": null,
      "outputs": []
    },
    {
      "cell_type": "markdown",
      "metadata": {
        "id": "D5p-1fulF3MA"
      },
      "source": [
        "### **Binarizar a través de  `try_all_threshold` de scikit-image**<a name=\"id4-2\"></a>"
      ]
    },
    {
      "cell_type": "code",
      "metadata": {
        "id": "NclVmvNNF3MB"
      },
      "source": [
        "try_all_threshold(img_gray, verbose=0, figsize=(12, 24))\n",
        "plt.show();"
      ],
      "execution_count": null,
      "outputs": []
    },
    {
      "cell_type": "markdown",
      "metadata": {
        "id": "X0tDPjQWF3ME"
      },
      "source": [
        "### **Segmentación usando el método de la umbralización**<a name=\"id4-3\"></a>\n",
        "- Segmentar es dividir una imagen en distintas partes u grupos de píxeles."
      ]
    },
    {
      "cell_type": "code",
      "metadata": {
        "id": "HfZISQWdF3ME"
      },
      "source": [
        "def binarize(img_gray, thresh):\n",
        "    binarized_img = np.zeros_like(img_gray, dtype=np.uint8)\n",
        "\n",
        "    for i in range(img_gray.shape[0]):\n",
        "        for j in range(img_gray.shape[1]):\n",
        "            if img_gray[i, j] > thresh:\n",
        "                mask = 1\n",
        "            else:\n",
        "                mask = 0\n",
        "            binarized_img[i, j] = mask\n",
        "    return binarized_img"
      ],
      "execution_count": null,
      "outputs": []
    },
    {
      "cell_type": "code",
      "metadata": {
        "id": "tj27OxPUF3MH"
      },
      "source": [
        "thresh = threshold_otsu(img_gray)\n",
        "binarized_img = binarize(img_gray, thresh)"
      ],
      "execution_count": null,
      "outputs": []
    },
    {
      "cell_type": "code",
      "metadata": {
        "id": "cdcW9sWuF3MK"
      },
      "source": [
        "vis.visualize(binarized_img, \"Máscara Binaria\")"
      ],
      "execution_count": null,
      "outputs": []
    },
    {
      "cell_type": "code",
      "metadata": {
        "id": "U1PO7usXF3MN"
      },
      "source": [
        "segmented_img = img_gray * binarized_img"
      ],
      "execution_count": null,
      "outputs": []
    },
    {
      "cell_type": "code",
      "metadata": {
        "id": "VrrD-tS6Hle3"
      },
      "source": [
        "vis.visualize(segmented_img, \"Imagen Segmentada\")"
      ],
      "execution_count": null,
      "outputs": []
    },
    {
      "cell_type": "code",
      "metadata": {
        "id": "4eWP1M4cHn_j"
      },
      "source": [
        "binarized_img_3 = np.zeros_like(img)\n",
        "binarized_img_3[..., 0] = binarized_img\n",
        "binarized_img_3[..., 1] = binarized_img\n",
        "binarized_img_3[..., 2] = binarized_img"
      ],
      "execution_count": null,
      "outputs": []
    },
    {
      "cell_type": "code",
      "metadata": {
        "id": "KI2ZPU8ZHzDA"
      },
      "source": [
        "segmented_img_3 = binarized_img_3 * img"
      ],
      "execution_count": null,
      "outputs": []
    },
    {
      "cell_type": "code",
      "metadata": {
        "id": "K_p8cXYqH1oR"
      },
      "source": [
        "vis.visualize(segmented_img_3, \"Imagen Segmentada en RGB\")"
      ],
      "execution_count": null,
      "outputs": []
    },
    {
      "cell_type": "code",
      "metadata": {
        "id": "hrt_Q-ASH43C"
      },
      "source": [
        ""
      ],
      "execution_count": null,
      "outputs": []
    }
  ]
}